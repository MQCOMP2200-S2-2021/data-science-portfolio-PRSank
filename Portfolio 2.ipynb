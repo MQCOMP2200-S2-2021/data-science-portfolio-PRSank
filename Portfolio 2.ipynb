{
 "cells": [
  {
   "cell_type": "markdown",
   "metadata": {},
   "source": [
    "# Sport Vouchers Program Analysis\n",
    "\n",
    "The goal of this Portfolio task is to explore data from the Federal Government Sport Vouchers program - this is a\n",
    "program that provides up to two $100 vouchers for kids to participate in organised sport. Here's the [NSW Active Kids page](https://www.service.nsw.gov.au/transaction/apply-active-kids-voucher), there are similar schemes in other states - this data is from South Australia.\n",
    "\n",
    "This is an exercise in exploring data and communicating the insights you can gain from it.  The source data comes\n",
    "from the `data.gov.au` website and provides details of all Sport Vouchers that have been redeemed since February  in SA 2015 as part of the Sport Voucher program:  [Sports Vouchers Data](https://data.gov.au/dataset/ds-sa-14daba50-04ff-46c6-8468-9fa593b9f100/details).  This download is provided for you as `sportsvouchersclaimed.csv`.\n",
    "\n",
    "To augment this data you can also make use of [ABS SEIFA data by LGA](http://stat.data.abs.gov.au/Index.aspx?DataSetCode=ABS_SEIFA_LGA#) which shows a few measures of Socioeconomic Advantage and Disadvantage for every Local Government Area. This data is provided for you as `ABS_SEIFA_LGA.csv`. This could enable you to answer questions about whether the voucher program is used equally by parents in low, middle and high socioeconomic areas.   You might be interested in this if you were concerned that this kind of program might just benifit parents who are already advantaged (they might already be paying for sport so this program wouldn't be helping much).\n",
    "\n",
    "Questions:\n",
    "* Describe the distribution of vouchers by: LGA, Sport - which regions/sports stand out? \n",
    "* Are some sports more popular in different parts of the state?\n",
    "* Are any LGAs over/under represented in their use of vouchers?\n",
    "* Is there a relationship between any of the SEIFA measures and voucher use in an LGA?\n",
    "\n",
    "A challenge in this task is to display a useful summary of the data given that there are a large number of LGAs and sports involved.  Try to avoid long lists and large tables. Think about what plots and tables communicate the main points of your findings. \n"
   ]
  },
  {
   "cell_type": "code",
   "execution_count": 2,
   "metadata": {},
   "outputs": [],
   "source": [
    "import pandas as pd\n",
    "import numpy as np\n",
    "import matplotlib.pyplot as plt\n",
    "import seaborn as sns\n",
    "%matplotlib inline"
   ]
  },
  {
   "cell_type": "code",
   "execution_count": 3,
   "metadata": {
    "scrolled": true
   },
   "outputs": [
    {
     "data": {
      "text/html": [
       "<div>\n",
       "<style scoped>\n",
       "    .dataframe tbody tr th:only-of-type {\n",
       "        vertical-align: middle;\n",
       "    }\n",
       "\n",
       "    .dataframe tbody tr th {\n",
       "        vertical-align: top;\n",
       "    }\n",
       "\n",
       "    .dataframe thead th {\n",
       "        text-align: right;\n",
       "    }\n",
       "</style>\n",
       "<table border=\"1\" class=\"dataframe\">\n",
       "  <thead>\n",
       "    <tr style=\"text-align: right;\">\n",
       "      <th></th>\n",
       "      <th>Participant_ID</th>\n",
       "      <th>Participant_Suburb</th>\n",
       "      <th>Club_Previous_Member</th>\n",
       "      <th>Participant_ATSI_Indicator</th>\n",
       "      <th>Participant_CALD_Indicator</th>\n",
       "      <th>Participant_Sex</th>\n",
       "      <th>Voucher_Value</th>\n",
       "      <th>Club_Name</th>\n",
       "      <th>Voucher_Sport</th>\n",
       "      <th>Participant_LGA</th>\n",
       "      <th>Participant_Electorate</th>\n",
       "      <th>Voucher_Completion_Date</th>\n",
       "      <th>Voucher_Claim_Year</th>\n",
       "    </tr>\n",
       "  </thead>\n",
       "  <tbody>\n",
       "    <tr>\n",
       "      <th>0</th>\n",
       "      <td>1000002</td>\n",
       "      <td>ABERFOYLE PARK</td>\n",
       "      <td>Registered Previously</td>\n",
       "      <td>Not ATSI</td>\n",
       "      <td>Not CALD</td>\n",
       "      <td>Male</td>\n",
       "      <td>50</td>\n",
       "      <td>Flagstaff Hill Football Club</td>\n",
       "      <td>Australian Rules</td>\n",
       "      <td>ONKAPARINGA</td>\n",
       "      <td>FISHER</td>\n",
       "      <td>26/6/15 1:19</td>\n",
       "      <td>2015</td>\n",
       "    </tr>\n",
       "    <tr>\n",
       "      <th>1</th>\n",
       "      <td>1000002</td>\n",
       "      <td>ABERFOYLE PARK</td>\n",
       "      <td>Registered Previously</td>\n",
       "      <td>Not ATSI</td>\n",
       "      <td>Not CALD</td>\n",
       "      <td>Male</td>\n",
       "      <td>50</td>\n",
       "      <td>Flagstaff Hill Football Club</td>\n",
       "      <td>Australian Rules</td>\n",
       "      <td>ONKAPARINGA</td>\n",
       "      <td>FISHER</td>\n",
       "      <td>29/6/16 23:55</td>\n",
       "      <td>2016</td>\n",
       "    </tr>\n",
       "    <tr>\n",
       "      <th>2</th>\n",
       "      <td>1000004</td>\n",
       "      <td>ABERFOYLE PARK</td>\n",
       "      <td>Not Registered Previously</td>\n",
       "      <td>Not ATSI</td>\n",
       "      <td>Not CALD</td>\n",
       "      <td>Female</td>\n",
       "      <td>50</td>\n",
       "      <td>Hub Gymnastics Club</td>\n",
       "      <td>Gymnastics</td>\n",
       "      <td>ONKAPARINGA</td>\n",
       "      <td>FISHER</td>\n",
       "      <td>21/4/16 3:37</td>\n",
       "      <td>2016</td>\n",
       "    </tr>\n",
       "    <tr>\n",
       "      <th>3</th>\n",
       "      <td>1000004</td>\n",
       "      <td>ABERFOYLE PARK</td>\n",
       "      <td>Registered Previously</td>\n",
       "      <td>Not ATSI</td>\n",
       "      <td>Not CALD</td>\n",
       "      <td>Female</td>\n",
       "      <td>50</td>\n",
       "      <td>Hub Gymnastics Club</td>\n",
       "      <td>Gymnastics</td>\n",
       "      <td>ONKAPARINGA</td>\n",
       "      <td>FISHER</td>\n",
       "      <td>30/3/17 0:47</td>\n",
       "      <td>2017</td>\n",
       "    </tr>\n",
       "    <tr>\n",
       "      <th>4</th>\n",
       "      <td>1000005</td>\n",
       "      <td>ABERFOYLE PARK</td>\n",
       "      <td>Registered Previously</td>\n",
       "      <td>Not ATSI</td>\n",
       "      <td>Not CALD</td>\n",
       "      <td>Female</td>\n",
       "      <td>50</td>\n",
       "      <td>Blackwood Community Recreation Association</td>\n",
       "      <td>Gymnastics</td>\n",
       "      <td>ONKAPARINGA</td>\n",
       "      <td>FISHER</td>\n",
       "      <td>20/7/15 2:50</td>\n",
       "      <td>2015</td>\n",
       "    </tr>\n",
       "  </tbody>\n",
       "</table>\n",
       "</div>"
      ],
      "text/plain": [
       "   Participant_ID Participant_Suburb       Club_Previous_Member  \\\n",
       "0         1000002     ABERFOYLE PARK      Registered Previously   \n",
       "1         1000002     ABERFOYLE PARK      Registered Previously   \n",
       "2         1000004     ABERFOYLE PARK  Not Registered Previously   \n",
       "3         1000004     ABERFOYLE PARK      Registered Previously   \n",
       "4         1000005     ABERFOYLE PARK      Registered Previously   \n",
       "\n",
       "  Participant_ATSI_Indicator Participant_CALD_Indicator Participant_Sex  \\\n",
       "0                   Not ATSI                   Not CALD            Male   \n",
       "1                   Not ATSI                   Not CALD            Male   \n",
       "2                   Not ATSI                   Not CALD          Female   \n",
       "3                   Not ATSI                   Not CALD          Female   \n",
       "4                   Not ATSI                   Not CALD          Female   \n",
       "\n",
       "   Voucher_Value                                   Club_Name  \\\n",
       "0             50                Flagstaff Hill Football Club   \n",
       "1             50                Flagstaff Hill Football Club   \n",
       "2             50                         Hub Gymnastics Club   \n",
       "3             50                         Hub Gymnastics Club   \n",
       "4             50  Blackwood Community Recreation Association   \n",
       "\n",
       "      Voucher_Sport Participant_LGA Participant_Electorate  \\\n",
       "0  Australian Rules     ONKAPARINGA                 FISHER   \n",
       "1  Australian Rules     ONKAPARINGA                 FISHER   \n",
       "2        Gymnastics     ONKAPARINGA                 FISHER   \n",
       "3        Gymnastics     ONKAPARINGA                 FISHER   \n",
       "4        Gymnastics     ONKAPARINGA                 FISHER   \n",
       "\n",
       "  Voucher_Completion_Date  Voucher_Claim_Year  \n",
       "0            26/6/15 1:19                2015  \n",
       "1           29/6/16 23:55                2016  \n",
       "2            21/4/16 3:37                2016  \n",
       "3            30/3/17 0:47                2017  \n",
       "4            20/7/15 2:50                2015  "
      ]
     },
     "execution_count": 3,
     "metadata": {},
     "output_type": "execute_result"
    }
   ],
   "source": [
    "# read the sports vouchers data\n",
    "sa_vouchers = pd.read_csv(\"files/sportsvouchersclaimed.csv\")\n",
    "sa_vouchers.head()"
   ]
  },
  {
   "cell_type": "markdown",
   "metadata": {},
   "source": [
    "The SEIFA data includes row for each Local Government Area (LGA) but the names of the LGAs have a letter or letters in brackets after the name.  To allow us to match this up with the voucher data we remove this and convert to uppercase. \n",
    "\n",
    "For each LGA the data includes a number of measures all of which could be useful in your exploration.  "
   ]
  },
  {
   "cell_type": "code",
   "execution_count": 4,
   "metadata": {},
   "outputs": [
    {
     "name": "stderr",
     "output_type": "stream",
     "text": [
      "<ipython-input-4-8c32cb05a179>:3: FutureWarning: The default value of regex will change from True to False in a future version.\n",
      "  lga = seifa[\"Local Government Areas - 2011\"].str.replace(' \\([ACSRCDMT]+\\)', '').str.upper()\n"
     ]
    },
    {
     "data": {
      "text/html": [
       "<div>\n",
       "<style scoped>\n",
       "    .dataframe tbody tr th:only-of-type {\n",
       "        vertical-align: middle;\n",
       "    }\n",
       "\n",
       "    .dataframe tbody tr th {\n",
       "        vertical-align: top;\n",
       "    }\n",
       "\n",
       "    .dataframe thead th {\n",
       "        text-align: right;\n",
       "    }\n",
       "</style>\n",
       "<table border=\"1\" class=\"dataframe\">\n",
       "  <thead>\n",
       "    <tr style=\"text-align: right;\">\n",
       "      <th></th>\n",
       "      <th>LGA_2011</th>\n",
       "      <th>Local Government Areas - 2011</th>\n",
       "      <th>INDEX_TYPE</th>\n",
       "      <th>Index Type</th>\n",
       "      <th>MEASURE</th>\n",
       "      <th>Measure</th>\n",
       "      <th>Value</th>\n",
       "      <th>LGA</th>\n",
       "    </tr>\n",
       "  </thead>\n",
       "  <tbody>\n",
       "    <tr>\n",
       "      <th>0</th>\n",
       "      <td>10050</td>\n",
       "      <td>Albury (C)</td>\n",
       "      <td>IRSAD</td>\n",
       "      <td>Index of Relative Socio-economic Advantage and...</td>\n",
       "      <td>SCORE</td>\n",
       "      <td>Score</td>\n",
       "      <td>967</td>\n",
       "      <td>ALBURY</td>\n",
       "    </tr>\n",
       "    <tr>\n",
       "      <th>1</th>\n",
       "      <td>10050</td>\n",
       "      <td>Albury (C)</td>\n",
       "      <td>IRSAD</td>\n",
       "      <td>Index of Relative Socio-economic Advantage and...</td>\n",
       "      <td>MINS</td>\n",
       "      <td>Minimum score for SA1s in area</td>\n",
       "      <td>628</td>\n",
       "      <td>ALBURY</td>\n",
       "    </tr>\n",
       "    <tr>\n",
       "      <th>2</th>\n",
       "      <td>10050</td>\n",
       "      <td>Albury (C)</td>\n",
       "      <td>IRSAD</td>\n",
       "      <td>Index of Relative Socio-economic Advantage and...</td>\n",
       "      <td>MAXS</td>\n",
       "      <td>Maximum score for SA1s in area</td>\n",
       "      <td>1169</td>\n",
       "      <td>ALBURY</td>\n",
       "    </tr>\n",
       "    <tr>\n",
       "      <th>3</th>\n",
       "      <td>10050</td>\n",
       "      <td>Albury (C)</td>\n",
       "      <td>IRSAD</td>\n",
       "      <td>Index of Relative Socio-economic Advantage and...</td>\n",
       "      <td>URP</td>\n",
       "      <td>Usual resident population</td>\n",
       "      <td>47851</td>\n",
       "      <td>ALBURY</td>\n",
       "    </tr>\n",
       "    <tr>\n",
       "      <th>4</th>\n",
       "      <td>10110</td>\n",
       "      <td>Armidale Dumaresq (A)</td>\n",
       "      <td>IRSAD</td>\n",
       "      <td>Index of Relative Socio-economic Advantage and...</td>\n",
       "      <td>SCORE</td>\n",
       "      <td>Score</td>\n",
       "      <td>985</td>\n",
       "      <td>ARMIDALE DUMARESQ</td>\n",
       "    </tr>\n",
       "  </tbody>\n",
       "</table>\n",
       "</div>"
      ],
      "text/plain": [
       "   LGA_2011 Local Government Areas - 2011 INDEX_TYPE  \\\n",
       "0     10050                    Albury (C)      IRSAD   \n",
       "1     10050                    Albury (C)      IRSAD   \n",
       "2     10050                    Albury (C)      IRSAD   \n",
       "3     10050                    Albury (C)      IRSAD   \n",
       "4     10110         Armidale Dumaresq (A)      IRSAD   \n",
       "\n",
       "                                          Index Type MEASURE  \\\n",
       "0  Index of Relative Socio-economic Advantage and...   SCORE   \n",
       "1  Index of Relative Socio-economic Advantage and...    MINS   \n",
       "2  Index of Relative Socio-economic Advantage and...    MAXS   \n",
       "3  Index of Relative Socio-economic Advantage and...     URP   \n",
       "4  Index of Relative Socio-economic Advantage and...   SCORE   \n",
       "\n",
       "                          Measure  Value                LGA  \n",
       "0                           Score    967             ALBURY  \n",
       "1  Minimum score for SA1s in area    628             ALBURY  \n",
       "2  Maximum score for SA1s in area   1169             ALBURY  \n",
       "3       Usual resident population  47851             ALBURY  \n",
       "4                           Score    985  ARMIDALE DUMARESQ  "
      ]
     },
     "execution_count": 4,
     "metadata": {},
     "output_type": "execute_result"
    }
   ],
   "source": [
    "# read the SEIFA data, create an LGA column by removing the letters in brackets and converting to uppercase\n",
    "seifa = pd.read_csv('files/ABS_SEIFA_LGA.csv')\n",
    "lga = seifa[\"Local Government Areas - 2011\"].str.replace(' \\([ACSRCDMT]+\\)', '').str.upper()\n",
    "seifa['LGA'] = lga\n",
    "seifa.head()"
   ]
  },
  {
   "cell_type": "markdown",
   "metadata": {},
   "source": [
    "Since there are many rows per LGA we need to use `pivot_table` to create a new data frame with one row per LGA. Here\n",
    "is an example of doing this to create a table with the different SCORE measures and the population (URP) field. "
   ]
  },
  {
   "cell_type": "code",
   "execution_count": 5,
   "metadata": {},
   "outputs": [
    {
     "data": {
      "text/html": [
       "<div>\n",
       "<style scoped>\n",
       "    .dataframe tbody tr th:only-of-type {\n",
       "        vertical-align: middle;\n",
       "    }\n",
       "\n",
       "    .dataframe tbody tr th {\n",
       "        vertical-align: top;\n",
       "    }\n",
       "\n",
       "    .dataframe thead th {\n",
       "        text-align: right;\n",
       "    }\n",
       "</style>\n",
       "<table border=\"1\" class=\"dataframe\">\n",
       "  <thead>\n",
       "    <tr style=\"text-align: right;\">\n",
       "      <th>INDEX_TYPE</th>\n",
       "      <th>IEO</th>\n",
       "      <th>IER</th>\n",
       "      <th>IRSAD</th>\n",
       "      <th>IRSD</th>\n",
       "      <th>Population</th>\n",
       "    </tr>\n",
       "    <tr>\n",
       "      <th>LGA</th>\n",
       "      <th></th>\n",
       "      <th></th>\n",
       "      <th></th>\n",
       "      <th></th>\n",
       "      <th></th>\n",
       "    </tr>\n",
       "  </thead>\n",
       "  <tbody>\n",
       "    <tr>\n",
       "      <th>ADELAIDE</th>\n",
       "      <td>874.0</td>\n",
       "      <td>874.0</td>\n",
       "      <td>1036.0</td>\n",
       "      <td>1013.0</td>\n",
       "      <td>19606.0</td>\n",
       "    </tr>\n",
       "    <tr>\n",
       "      <th>ADELAIDE HILLS</th>\n",
       "      <td>1083.0</td>\n",
       "      <td>1083.0</td>\n",
       "      <td>1077.0</td>\n",
       "      <td>1081.0</td>\n",
       "      <td>38601.0</td>\n",
       "    </tr>\n",
       "    <tr>\n",
       "      <th>ALBANY</th>\n",
       "      <td>999.0</td>\n",
       "      <td>999.0</td>\n",
       "      <td>977.0</td>\n",
       "      <td>987.0</td>\n",
       "      <td>33614.0</td>\n",
       "    </tr>\n",
       "    <tr>\n",
       "      <th>ALBURY</th>\n",
       "      <td>964.0</td>\n",
       "      <td>964.0</td>\n",
       "      <td>967.0</td>\n",
       "      <td>979.0</td>\n",
       "      <td>47851.0</td>\n",
       "    </tr>\n",
       "    <tr>\n",
       "      <th>ALEXANDRINA</th>\n",
       "      <td>1000.0</td>\n",
       "      <td>1000.0</td>\n",
       "      <td>969.0</td>\n",
       "      <td>987.0</td>\n",
       "      <td>23693.0</td>\n",
       "    </tr>\n",
       "  </tbody>\n",
       "</table>\n",
       "</div>"
      ],
      "text/plain": [
       "INDEX_TYPE         IEO     IER   IRSAD    IRSD  Population\n",
       "LGA                                                       \n",
       "ADELAIDE         874.0   874.0  1036.0  1013.0     19606.0\n",
       "ADELAIDE HILLS  1083.0  1083.0  1077.0  1081.0     38601.0\n",
       "ALBANY           999.0   999.0   977.0   987.0     33614.0\n",
       "ALBURY           964.0   964.0   967.0   979.0     47851.0\n",
       "ALEXANDRINA     1000.0  1000.0   969.0   987.0     23693.0"
      ]
     },
     "execution_count": 5,
     "metadata": {},
     "output_type": "execute_result"
    }
   ],
   "source": [
    "LGA_scores = seifa[seifa.MEASURE == 'SCORE'].pivot_table(index=\"LGA\", columns=[\"INDEX_TYPE\"], values=\"Value\")\n",
    "LGA_scores.head()\n",
    "LGA_pop = seifa[seifa.MEASURE == 'URP'].pivot_table(index=\"LGA\", columns=[\"INDEX_TYPE\"], values=\"Value\")\n",
    "LGA_scores['Population'] = LGA_pop.IEO\n",
    "LGA_scores.head()"
   ]
  },
  {
   "cell_type": "markdown",
   "metadata": {},
   "source": [
    "This data frame can then be joined with the vouchers data fram to create one master data frame containing both the voucher data and the SEIFA measures."
   ]
  },
  {
   "cell_type": "code",
   "execution_count": 6,
   "metadata": {},
   "outputs": [
    {
     "data": {
      "text/html": [
       "<div>\n",
       "<style scoped>\n",
       "    .dataframe tbody tr th:only-of-type {\n",
       "        vertical-align: middle;\n",
       "    }\n",
       "\n",
       "    .dataframe tbody tr th {\n",
       "        vertical-align: top;\n",
       "    }\n",
       "\n",
       "    .dataframe thead th {\n",
       "        text-align: right;\n",
       "    }\n",
       "</style>\n",
       "<table border=\"1\" class=\"dataframe\">\n",
       "  <thead>\n",
       "    <tr style=\"text-align: right;\">\n",
       "      <th></th>\n",
       "      <th>Participant_ID</th>\n",
       "      <th>Participant_Suburb</th>\n",
       "      <th>Club_Previous_Member</th>\n",
       "      <th>Participant_ATSI_Indicator</th>\n",
       "      <th>Participant_CALD_Indicator</th>\n",
       "      <th>Participant_Sex</th>\n",
       "      <th>Voucher_Value</th>\n",
       "      <th>Club_Name</th>\n",
       "      <th>Voucher_Sport</th>\n",
       "      <th>Participant_LGA</th>\n",
       "      <th>Participant_Electorate</th>\n",
       "      <th>Voucher_Completion_Date</th>\n",
       "      <th>Voucher_Claim_Year</th>\n",
       "      <th>IEO</th>\n",
       "      <th>IER</th>\n",
       "      <th>IRSAD</th>\n",
       "      <th>IRSD</th>\n",
       "      <th>Population</th>\n",
       "    </tr>\n",
       "  </thead>\n",
       "  <tbody>\n",
       "    <tr>\n",
       "      <th>0</th>\n",
       "      <td>1000002</td>\n",
       "      <td>ABERFOYLE PARK</td>\n",
       "      <td>Registered Previously</td>\n",
       "      <td>Not ATSI</td>\n",
       "      <td>Not CALD</td>\n",
       "      <td>Male</td>\n",
       "      <td>50</td>\n",
       "      <td>Flagstaff Hill Football Club</td>\n",
       "      <td>Australian Rules</td>\n",
       "      <td>ONKAPARINGA</td>\n",
       "      <td>FISHER</td>\n",
       "      <td>26/6/15 1:19</td>\n",
       "      <td>2015</td>\n",
       "      <td>996.0</td>\n",
       "      <td>996.0</td>\n",
       "      <td>975.0</td>\n",
       "      <td>993.0</td>\n",
       "      <td>159517.0</td>\n",
       "    </tr>\n",
       "    <tr>\n",
       "      <th>1</th>\n",
       "      <td>1000002</td>\n",
       "      <td>ABERFOYLE PARK</td>\n",
       "      <td>Registered Previously</td>\n",
       "      <td>Not ATSI</td>\n",
       "      <td>Not CALD</td>\n",
       "      <td>Male</td>\n",
       "      <td>50</td>\n",
       "      <td>Flagstaff Hill Football Club</td>\n",
       "      <td>Australian Rules</td>\n",
       "      <td>ONKAPARINGA</td>\n",
       "      <td>FISHER</td>\n",
       "      <td>29/6/16 23:55</td>\n",
       "      <td>2016</td>\n",
       "      <td>996.0</td>\n",
       "      <td>996.0</td>\n",
       "      <td>975.0</td>\n",
       "      <td>993.0</td>\n",
       "      <td>159517.0</td>\n",
       "    </tr>\n",
       "    <tr>\n",
       "      <th>2</th>\n",
       "      <td>1000004</td>\n",
       "      <td>ABERFOYLE PARK</td>\n",
       "      <td>Not Registered Previously</td>\n",
       "      <td>Not ATSI</td>\n",
       "      <td>Not CALD</td>\n",
       "      <td>Female</td>\n",
       "      <td>50</td>\n",
       "      <td>Hub Gymnastics Club</td>\n",
       "      <td>Gymnastics</td>\n",
       "      <td>ONKAPARINGA</td>\n",
       "      <td>FISHER</td>\n",
       "      <td>21/4/16 3:37</td>\n",
       "      <td>2016</td>\n",
       "      <td>996.0</td>\n",
       "      <td>996.0</td>\n",
       "      <td>975.0</td>\n",
       "      <td>993.0</td>\n",
       "      <td>159517.0</td>\n",
       "    </tr>\n",
       "    <tr>\n",
       "      <th>3</th>\n",
       "      <td>1000004</td>\n",
       "      <td>ABERFOYLE PARK</td>\n",
       "      <td>Registered Previously</td>\n",
       "      <td>Not ATSI</td>\n",
       "      <td>Not CALD</td>\n",
       "      <td>Female</td>\n",
       "      <td>50</td>\n",
       "      <td>Hub Gymnastics Club</td>\n",
       "      <td>Gymnastics</td>\n",
       "      <td>ONKAPARINGA</td>\n",
       "      <td>FISHER</td>\n",
       "      <td>30/3/17 0:47</td>\n",
       "      <td>2017</td>\n",
       "      <td>996.0</td>\n",
       "      <td>996.0</td>\n",
       "      <td>975.0</td>\n",
       "      <td>993.0</td>\n",
       "      <td>159517.0</td>\n",
       "    </tr>\n",
       "    <tr>\n",
       "      <th>4</th>\n",
       "      <td>1000005</td>\n",
       "      <td>ABERFOYLE PARK</td>\n",
       "      <td>Registered Previously</td>\n",
       "      <td>Not ATSI</td>\n",
       "      <td>Not CALD</td>\n",
       "      <td>Female</td>\n",
       "      <td>50</td>\n",
       "      <td>Blackwood Community Recreation Association</td>\n",
       "      <td>Gymnastics</td>\n",
       "      <td>ONKAPARINGA</td>\n",
       "      <td>FISHER</td>\n",
       "      <td>20/7/15 2:50</td>\n",
       "      <td>2015</td>\n",
       "      <td>996.0</td>\n",
       "      <td>996.0</td>\n",
       "      <td>975.0</td>\n",
       "      <td>993.0</td>\n",
       "      <td>159517.0</td>\n",
       "    </tr>\n",
       "  </tbody>\n",
       "</table>\n",
       "</div>"
      ],
      "text/plain": [
       "   Participant_ID Participant_Suburb       Club_Previous_Member  \\\n",
       "0         1000002     ABERFOYLE PARK      Registered Previously   \n",
       "1         1000002     ABERFOYLE PARK      Registered Previously   \n",
       "2         1000004     ABERFOYLE PARK  Not Registered Previously   \n",
       "3         1000004     ABERFOYLE PARK      Registered Previously   \n",
       "4         1000005     ABERFOYLE PARK      Registered Previously   \n",
       "\n",
       "  Participant_ATSI_Indicator Participant_CALD_Indicator Participant_Sex  \\\n",
       "0                   Not ATSI                   Not CALD            Male   \n",
       "1                   Not ATSI                   Not CALD            Male   \n",
       "2                   Not ATSI                   Not CALD          Female   \n",
       "3                   Not ATSI                   Not CALD          Female   \n",
       "4                   Not ATSI                   Not CALD          Female   \n",
       "\n",
       "   Voucher_Value                                   Club_Name  \\\n",
       "0             50                Flagstaff Hill Football Club   \n",
       "1             50                Flagstaff Hill Football Club   \n",
       "2             50                         Hub Gymnastics Club   \n",
       "3             50                         Hub Gymnastics Club   \n",
       "4             50  Blackwood Community Recreation Association   \n",
       "\n",
       "      Voucher_Sport Participant_LGA Participant_Electorate  \\\n",
       "0  Australian Rules     ONKAPARINGA                 FISHER   \n",
       "1  Australian Rules     ONKAPARINGA                 FISHER   \n",
       "2        Gymnastics     ONKAPARINGA                 FISHER   \n",
       "3        Gymnastics     ONKAPARINGA                 FISHER   \n",
       "4        Gymnastics     ONKAPARINGA                 FISHER   \n",
       "\n",
       "  Voucher_Completion_Date  Voucher_Claim_Year    IEO    IER  IRSAD   IRSD  \\\n",
       "0            26/6/15 1:19                2015  996.0  996.0  975.0  993.0   \n",
       "1           29/6/16 23:55                2016  996.0  996.0  975.0  993.0   \n",
       "2            21/4/16 3:37                2016  996.0  996.0  975.0  993.0   \n",
       "3            30/3/17 0:47                2017  996.0  996.0  975.0  993.0   \n",
       "4            20/7/15 2:50                2015  996.0  996.0  975.0  993.0   \n",
       "\n",
       "   Population  \n",
       "0    159517.0  \n",
       "1    159517.0  \n",
       "2    159517.0  \n",
       "3    159517.0  \n",
       "4    159517.0  "
      ]
     },
     "execution_count": 6,
     "metadata": {},
     "output_type": "execute_result"
    }
   ],
   "source": [
    "sa_vouchers_scores = sa_vouchers.join(LGA_scores, on='Participant_LGA')\n",
    "sa_vouchers_scores.head()"
   ]
  },
  {
   "cell_type": "markdown",
   "metadata": {},
   "source": [
    "# Describe the distribution of vouchers by: LGA, Sport - which regions/sports stand out?"
   ]
  },
  {
   "cell_type": "code",
   "execution_count": 7,
   "metadata": {
    "scrolled": true
   },
   "outputs": [
    {
     "name": "stdout",
     "output_type": "stream",
     "text": [
      "(127526, 18)\n",
      "Participant_ID                82469\n",
      "Participant_Suburb             1220\n",
      "Club_Previous_Member              2\n",
      "Participant_ATSI_Indicator        2\n",
      "Participant_CALD_Indicator        2\n",
      "Participant_Sex                   2\n",
      "Voucher_Value                    18\n",
      "Club_Name                      1162\n",
      "Voucher_Sport                    50\n",
      "Participant_LGA                  69\n",
      "Participant_Electorate           48\n",
      "Voucher_Completion_Date         273\n",
      "Voucher_Claim_Year                3\n",
      "IEO                              53\n",
      "IER                              53\n",
      "IRSAD                            55\n",
      "IRSD                             53\n",
      "Population                       62\n",
      "dtype: int64\n"
     ]
    }
   ],
   "source": [
    "print(sa_vouchers_scores.shape)\n",
    "print(sa_vouchers_scores.nunique())"
   ]
  },
  {
   "cell_type": "markdown",
   "metadata": {},
   "source": [
    "Based on preliminary exploration of the dataset there are 127526 vouchers distributed among 69 LGAs with 50 sports to select from.\n"
   ]
  },
  {
   "cell_type": "code",
   "execution_count": 56,
   "metadata": {},
   "outputs": [
    {
     "name": "stdout",
     "output_type": "stream",
     "text": [
      "Top 5 LGAs by Vouchers\n",
      "ONKAPARINGA       12782\n",
      "SALISBURY          8169\n",
      "TEA TREE GULLY     7219\n",
      "PLAYFORD           6940\n",
      "CHARLES STURT      6897\n",
      "Name: Participant_LGA, dtype: int64 \n",
      "\n",
      "Bottom 5 LGAs by Vouchers\n",
      "COOBER PEDY           39\n",
      "PETERBOROUGH          45\n",
      "FLINDERS RANGES      102\n",
      "ORROROO/CARRIETON    137\n",
      "FRANKLIN HARBOUR     155\n",
      "Name: Participant_LGA, dtype: int64\n",
      "127526\n"
     ]
    },
    {
     "data": {
      "image/png": "[encoded data removed]",
      "text/plain": [
       "<Figure size 1440x720 with 1 Axes>"
      ]
     },
     "metadata": {
      "needs_background": "light"
     },
     "output_type": "display_data"
    }
   ],
   "source": [
    "print('Top 5 LGAs by Vouchers')\n",
    "zzyy=sa_vouchers_scores[\"Participant_LGA\"].value_counts()\n",
    "print((sa_vouchers_scores[\"Participant_LGA\"].value_counts()).nlargest(5),\"\\n\")\n",
    "\n",
    "print('Bottom 5 LGAs by Vouchers')\n",
    "print((sa_vouchers_scores[\"Participant_LGA\"].value_counts()).nsmallest(5))\n",
    "\n",
    "#Plot\n",
    "ploterino = zzyy.plot(kind='bar',figsize =(20,10))\n",
    "print((sa_vouchers_scores[\"Participant_LGA\"]=='Adelaide').count())\n"
   ]
  },
  {
   "cell_type": "markdown",
   "metadata": {},
   "source": [
    "The highest amount of vouchers are used by the ONKAPARINA LGA which has significantly higher voucher counts than the second highest the SALISBURY LGA; 12782/8169 = 1.56. ONKAPRINGA had ~56% more voucher usage.\n",
    "\n",
    "Coober Pedy had the least amount of vouchers used (39/12782 = 0.3%) roughly 0.3% of the vouchers used by the top LGA of ONKAPARINGA. Peterborough is also an LGA of note as it has significantly less than the other bottom 5 similiar to COOBER PEDY.\n",
    "\n",
    "The graph shows a clear skew towards the left indicating that a higher voucher distribution occured in the top few LGAs."
   ]
  },
  {
   "cell_type": "code",
   "execution_count": 98,
   "metadata": {},
   "outputs": [
    {
     "name": "stdout",
     "output_type": "stream",
     "text": [
      "Top 5 Sports by Voucher Usage\n",
      "Australian Rules     47224\n",
      "Netball              24017\n",
      "Football (Soccer)    15775\n",
      "Gymnastics            9823\n",
      "Basketball            6016\n",
      "Name: Voucher_Sport, dtype: int64 \n",
      "\n",
      "Bottom 5 Sports by Voucher Usage\n",
      "Participant_ID                977\n",
      "Participant_Suburb            977\n",
      "Club_Previous_Member          977\n",
      "Participant_ATSI_Indicator    977\n",
      "Participant_CALD_Indicator    977\n",
      "Participant_Sex               977\n",
      "Voucher_Value                 977\n",
      "Club_Name                     977\n",
      "Voucher_Sport                 977\n",
      "Participant_LGA               977\n",
      "Participant_Electorate        977\n",
      "Voucher_Completion_Date       975\n",
      "Voucher_Claim_Year            977\n",
      "IEO                           977\n",
      "IER                           977\n",
      "IRSAD                         977\n",
      "IRSD                          977\n",
      "Population                    977\n",
      "vouche_total                  977\n",
      "dtype: int64\n"
     ]
    },
    {
     "data": {
      "text/plain": [
       "<AxesSubplot:>"
      ]
     },
     "execution_count": 98,
     "metadata": {},
     "output_type": "execute_result"
    },
    {
     "data": {
      "image/png": "[encoded data removed]",
      "text/plain": [
       "<Figure size 864x432 with 1 Axes>"
      ]
     },
     "metadata": {
      "needs_background": "light"
     },
     "output_type": "display_data"
    }
   ],
   "source": [
    "print('Top 5 Sports by Voucher Usage')\n",
    "print((sa_vouchers_scores[\"Voucher_Sport\"].value_counts()).nlargest(5),\"\\n\")\n",
    "xxyy= sa_vouchers_scores[\"Voucher_Sport\"].value_counts()\n",
    "\n",
    "print('Bottom 5 Sports by Voucher Usage')\n",
    "pnewdf= sa_vouchers_scores.loc[sa_vouchers_scores[\"Participant_LGA\"] == 'YORKE PENINSULA']\n",
    "print(pnewdf.count())\n",
    "#Plot\n",
    "xxyy.plot(kind='bar',figsize =(12,6))"
   ]
  },
  {
   "cell_type": "markdown",
   "metadata": {},
   "source": [
    "The most popular sport for vouchers is by far Australian Rules which has significantly higher voucher usage than the second highest Netball; 47224/24017= 1.96.  Australian Rules was selected ~96% more than Netball.\n",
    "\n",
    "The least popular sport for vouchers is bowls, kung fu and dancesports however the top 5 is closely related in terms of numbers.\n",
    "\n",
    "Based on the graph it can be seen that out of the 50 sports approximately the vast majority of vouchers were used in the top 10 spots with the main concentration of voucher use being in Australian Rules, Netball and Football."
   ]
  },
  {
   "cell_type": "markdown",
   "metadata": {},
   "source": [
    "# Are some sports more popular in different parts of the state?"
   ]
  },
  {
   "cell_type": "code",
   "execution_count": 247,
   "metadata": {
    "scrolled": false
   },
   "outputs": [
    {
     "data": {
      "text/plain": [
       "<AxesSubplot:xlabel='Participant_LGA', ylabel='Voucher_Sport'>"
      ]
     },
     "execution_count": 247,
     "metadata": {},
     "output_type": "execute_result"
    },
    {
     "data": {
      "image/png": "[encoded data removed]",
      "text/plain": [
       "<Figure size 1080x864 with 2 Axes>"
      ]
     },
     "metadata": {
      "needs_background": "light"
     },
     "output_type": "display_data"
    }
   ],
   "source": [
    "\n",
    "sa_vouchers_scores[\"vouche_total\"] = sa_vouchers_scores.groupby(['Participant_LGA'])['Participant_LGA'].transform('count')\n",
    "\n",
    "voucher_sport = sa_vouchers_scores.groupby(['Participant_LGA', 'Voucher_Sport',\"vouche_total\"]).size().reset_index()\n",
    "voucher_sport['Perc'] = voucher_sport[0]/voucher_sport['vouche_total']\n",
    "finalsports = voucher_sport.groupby(['Participant_LGA'])\n",
    "#sports = pd.DataFrame({'count':voucher_sport.size()})\n",
    "#testeros = voucher_sport.to_frame(name = 'test')\n",
    "sports2 = voucher_sport.unstack(level=0)\n",
    "#sports['total']= sports['count'].value_counts()\n",
    "#sports['Perc'] = sports['count']/sports['vouche_total']\n",
    "#finalioty= sports.groupby(['Participant_LGA']).sum()\n",
    "#sportstester = sports.join(finalioty,on = \"Participant_LGA\")\n",
    "#df['Counts'] = df.groupby(['Color'])['Value'].transform('count')\n",
    "\n",
    "#print(sa_vouchers_scores.groupby(['Participant_LGA','Voucher_Sport']).count().groupby(level=).cumsum() )\n",
    "newest=voucher_sport.drop(voucher_sport.columns[[2, 3]],1)\n",
    "#ffs=voucher_sport = sa_vouchers_scores.groupby(['Participant_LGA', 'Voucher_Sport']).size()\n",
    "#testeros=sports.groupby(['Participant_LGA'])\n",
    "#print(newest)\n",
    "newest2 = newest.pivot(index='Voucher_Sport', columns='Participant_LGA', values='Perc')\n",
    "#print(newest2)\n",
    "#sports['LGATOTAL'] = testeros.sum()\n",
    "#print(testeros.sum())\n",
    "#sport_count = pd.Dataframe({})\n",
    "#qld_vouchers_scores = qld_vouchers.join(LGA_scores, on='LGA')\n",
    "fig, ax = plt.subplots(figsize =(15,12))\n",
    "sns.heatmap(newest2, xticklabels=True,yticklabels =True)"
   ]
  },
  {
   "cell_type": "markdown",
   "metadata": {},
   "source": [
    "# Are any LGAs over/under represented in their use of vouchers?"
   ]
  },
  {
   "cell_type": "markdown",
   "metadata": {},
   "source": [
    "In the above explorations the LGAs with the most and least voucher distribution was identified, to identify if any LGA's are over or under represented the total vouchers were divided by the total population, LGA's with higher value counts than the expected vouchers based on population are over represented and vice versa for underrepresntation."
   ]
  },
  {
   "cell_type": "code",
   "execution_count": 10,
   "metadata": {},
   "outputs": [
    {
     "data": {
      "text/plain": [
       "Participant_ID                   0\n",
       "Participant_Suburb               0\n",
       "Club_Previous_Member             0\n",
       "Participant_ATSI_Indicator       0\n",
       "Participant_CALD_Indicator       0\n",
       "Participant_Sex                  0\n",
       "Voucher_Value                    0\n",
       "Club_Name                        0\n",
       "Voucher_Sport                    0\n",
       "Participant_LGA                  0\n",
       "Participant_Electorate           0\n",
       "Voucher_Completion_Date       2080\n",
       "Voucher_Claim_Year               0\n",
       "IEO                           9460\n",
       "IER                           9460\n",
       "IRSAD                         9460\n",
       "IRSD                          9460\n",
       "Population                    9460\n",
       "dtype: int64"
      ]
     },
     "execution_count": 10,
     "metadata": {},
     "output_type": "execute_result"
    }
   ],
   "source": [
    "sa_vouchers_scores.isna().sum()"
   ]
  },
  {
   "cell_type": "code",
   "execution_count": 11,
   "metadata": {},
   "outputs": [
    {
     "data": {
      "text/plain": [
       "(127526, 18)"
      ]
     },
     "execution_count": 11,
     "metadata": {},
     "output_type": "execute_result"
    }
   ],
   "source": [
    "sa_vouchers_scores.shape"
   ]
  },
  {
   "cell_type": "code",
   "execution_count": 12,
   "metadata": {},
   "outputs": [],
   "source": [
    "clean_sa_vouchers = sa_vouchers_scores.dropna(axis=0)"
   ]
  },
  {
   "cell_type": "code",
   "execution_count": 13,
   "metadata": {},
   "outputs": [
    {
     "data": {
      "text/plain": [
       "(116229, 18)"
      ]
     },
     "execution_count": 13,
     "metadata": {},
     "output_type": "execute_result"
    }
   ],
   "source": [
    "clean_sa_vouchers.shape"
   ]
  },
  {
   "cell_type": "markdown",
   "metadata": {},
   "source": [
    "As can be seen there are NaN values for certain LGA's population column. The NaN values will be dropped to create a cleaner data set that better represents the overlying data. The rows deleted will amount to 9460 from a total of 127526."
   ]
  },
  {
   "cell_type": "code",
   "execution_count": 14,
   "metadata": {},
   "outputs": [],
   "source": [
    "trail=clean_sa_vouchers.groupby([\"Participant_LGA\"])"
   ]
  },
  {
   "cell_type": "code",
   "execution_count": 46,
   "metadata": {},
   "outputs": [
    {
     "data": {
      "text/plain": [
       "Participant_LGA\n",
       "ADELAIDE           19606.0\n",
       "ADELAIDE HILLS     38601.0\n",
       "ALEXANDRINA        23693.0\n",
       "BAROSSA            22174.0\n",
       "BARUNGA WEST        2467.0\n",
       "                    ...   \n",
       "WEST TORRENS       54932.0\n",
       "WHYALLA            22070.0\n",
       "WUDINNA             1256.0\n",
       "YANKALILLA          4406.0\n",
       "YORKE PENINSULA    11046.0\n",
       "Name: Population, Length: 62, dtype: float64"
      ]
     },
     "execution_count": 46,
     "metadata": {},
     "output_type": "execute_result"
    }
   ],
   "source": [
    "trail['Population'].mean()"
   ]
  },
  {
   "cell_type": "code",
   "execution_count": 47,
   "metadata": {},
   "outputs": [
    {
     "data": {
      "text/html": [
       "<div>\n",
       "<style scoped>\n",
       "    .dataframe tbody tr th:only-of-type {\n",
       "        vertical-align: middle;\n",
       "    }\n",
       "\n",
       "    .dataframe tbody tr th {\n",
       "        vertical-align: top;\n",
       "    }\n",
       "\n",
       "    .dataframe thead th {\n",
       "        text-align: right;\n",
       "    }\n",
       "</style>\n",
       "<table border=\"1\" class=\"dataframe\">\n",
       "  <thead>\n",
       "    <tr style=\"text-align: right;\">\n",
       "      <th></th>\n",
       "      <th>Participant_ID</th>\n",
       "      <th>Participant_Suburb</th>\n",
       "      <th>Club_Previous_Member</th>\n",
       "      <th>Participant_ATSI_Indicator</th>\n",
       "      <th>Participant_CALD_Indicator</th>\n",
       "      <th>Participant_Sex</th>\n",
       "      <th>Voucher_Value</th>\n",
       "      <th>Club_Name</th>\n",
       "      <th>Voucher_Sport</th>\n",
       "      <th>Participant_LGA</th>\n",
       "      <th>Participant_Electorate</th>\n",
       "      <th>Voucher_Completion_Date</th>\n",
       "      <th>Voucher_Claim_Year</th>\n",
       "      <th>IEO</th>\n",
       "      <th>IER</th>\n",
       "      <th>IRSAD</th>\n",
       "      <th>IRSD</th>\n",
       "      <th>Population</th>\n",
       "    </tr>\n",
       "  </thead>\n",
       "  <tbody>\n",
       "    <tr>\n",
       "      <th>0</th>\n",
       "      <td>1000002</td>\n",
       "      <td>ABERFOYLE PARK</td>\n",
       "      <td>Registered Previously</td>\n",
       "      <td>Not ATSI</td>\n",
       "      <td>Not CALD</td>\n",
       "      <td>Male</td>\n",
       "      <td>50</td>\n",
       "      <td>Flagstaff Hill Football Club</td>\n",
       "      <td>Australian Rules</td>\n",
       "      <td>ONKAPARINGA</td>\n",
       "      <td>FISHER</td>\n",
       "      <td>26/6/15 1:19</td>\n",
       "      <td>2015</td>\n",
       "      <td>996.0</td>\n",
       "      <td>996.0</td>\n",
       "      <td>975.0</td>\n",
       "      <td>993.0</td>\n",
       "      <td>159517.0</td>\n",
       "    </tr>\n",
       "    <tr>\n",
       "      <th>1</th>\n",
       "      <td>1000002</td>\n",
       "      <td>ABERFOYLE PARK</td>\n",
       "      <td>Registered Previously</td>\n",
       "      <td>Not ATSI</td>\n",
       "      <td>Not CALD</td>\n",
       "      <td>Male</td>\n",
       "      <td>50</td>\n",
       "      <td>Flagstaff Hill Football Club</td>\n",
       "      <td>Australian Rules</td>\n",
       "      <td>ONKAPARINGA</td>\n",
       "      <td>FISHER</td>\n",
       "      <td>29/6/16 23:55</td>\n",
       "      <td>2016</td>\n",
       "      <td>996.0</td>\n",
       "      <td>996.0</td>\n",
       "      <td>975.0</td>\n",
       "      <td>993.0</td>\n",
       "      <td>159517.0</td>\n",
       "    </tr>\n",
       "    <tr>\n",
       "      <th>2</th>\n",
       "      <td>1000004</td>\n",
       "      <td>ABERFOYLE PARK</td>\n",
       "      <td>Not Registered Previously</td>\n",
       "      <td>Not ATSI</td>\n",
       "      <td>Not CALD</td>\n",
       "      <td>Female</td>\n",
       "      <td>50</td>\n",
       "      <td>Hub Gymnastics Club</td>\n",
       "      <td>Gymnastics</td>\n",
       "      <td>ONKAPARINGA</td>\n",
       "      <td>FISHER</td>\n",
       "      <td>21/4/16 3:37</td>\n",
       "      <td>2016</td>\n",
       "      <td>996.0</td>\n",
       "      <td>996.0</td>\n",
       "      <td>975.0</td>\n",
       "      <td>993.0</td>\n",
       "      <td>159517.0</td>\n",
       "    </tr>\n",
       "    <tr>\n",
       "      <th>3</th>\n",
       "      <td>1000004</td>\n",
       "      <td>ABERFOYLE PARK</td>\n",
       "      <td>Registered Previously</td>\n",
       "      <td>Not ATSI</td>\n",
       "      <td>Not CALD</td>\n",
       "      <td>Female</td>\n",
       "      <td>50</td>\n",
       "      <td>Hub Gymnastics Club</td>\n",
       "      <td>Gymnastics</td>\n",
       "      <td>ONKAPARINGA</td>\n",
       "      <td>FISHER</td>\n",
       "      <td>30/3/17 0:47</td>\n",
       "      <td>2017</td>\n",
       "      <td>996.0</td>\n",
       "      <td>996.0</td>\n",
       "      <td>975.0</td>\n",
       "      <td>993.0</td>\n",
       "      <td>159517.0</td>\n",
       "    </tr>\n",
       "    <tr>\n",
       "      <th>4</th>\n",
       "      <td>1000005</td>\n",
       "      <td>ABERFOYLE PARK</td>\n",
       "      <td>Registered Previously</td>\n",
       "      <td>Not ATSI</td>\n",
       "      <td>Not CALD</td>\n",
       "      <td>Female</td>\n",
       "      <td>50</td>\n",
       "      <td>Blackwood Community Recreation Association</td>\n",
       "      <td>Gymnastics</td>\n",
       "      <td>ONKAPARINGA</td>\n",
       "      <td>FISHER</td>\n",
       "      <td>20/7/15 2:50</td>\n",
       "      <td>2015</td>\n",
       "      <td>996.0</td>\n",
       "      <td>996.0</td>\n",
       "      <td>975.0</td>\n",
       "      <td>993.0</td>\n",
       "      <td>159517.0</td>\n",
       "    </tr>\n",
       "    <tr>\n",
       "      <th>...</th>\n",
       "      <td>...</td>\n",
       "      <td>...</td>\n",
       "      <td>...</td>\n",
       "      <td>...</td>\n",
       "      <td>...</td>\n",
       "      <td>...</td>\n",
       "      <td>...</td>\n",
       "      <td>...</td>\n",
       "      <td>...</td>\n",
       "      <td>...</td>\n",
       "      <td>...</td>\n",
       "      <td>...</td>\n",
       "      <td>...</td>\n",
       "      <td>...</td>\n",
       "      <td>...</td>\n",
       "      <td>...</td>\n",
       "      <td>...</td>\n",
       "      <td>...</td>\n",
       "    </tr>\n",
       "    <tr>\n",
       "      <th>127521</th>\n",
       "      <td>1127524</td>\n",
       "      <td>ZADOWS LANDING</td>\n",
       "      <td>Registered Previously</td>\n",
       "      <td>Not ATSI</td>\n",
       "      <td>Not CALD</td>\n",
       "      <td>Female</td>\n",
       "      <td>50</td>\n",
       "      <td>Mannum Roos Netball Club</td>\n",
       "      <td>Netball</td>\n",
       "      <td>MID MURRAY</td>\n",
       "      <td>SCHUBERT</td>\n",
       "      <td>15/8/16 1:33</td>\n",
       "      <td>2016</td>\n",
       "      <td>965.0</td>\n",
       "      <td>965.0</td>\n",
       "      <td>917.0</td>\n",
       "      <td>937.0</td>\n",
       "      <td>8134.0</td>\n",
       "    </tr>\n",
       "    <tr>\n",
       "      <th>127522</th>\n",
       "      <td>1127524</td>\n",
       "      <td>ZADOWS LANDING</td>\n",
       "      <td>Registered Previously</td>\n",
       "      <td>Not ATSI</td>\n",
       "      <td>Not CALD</td>\n",
       "      <td>Female</td>\n",
       "      <td>50</td>\n",
       "      <td>Mannum Roos Netball Club</td>\n",
       "      <td>Netball</td>\n",
       "      <td>MID MURRAY</td>\n",
       "      <td>SCHUBERT</td>\n",
       "      <td>13/7/15 23:42</td>\n",
       "      <td>2015</td>\n",
       "      <td>965.0</td>\n",
       "      <td>965.0</td>\n",
       "      <td>917.0</td>\n",
       "      <td>937.0</td>\n",
       "      <td>8134.0</td>\n",
       "    </tr>\n",
       "    <tr>\n",
       "      <th>127523</th>\n",
       "      <td>1127524</td>\n",
       "      <td>ZADOWS LANDING</td>\n",
       "      <td>Registered Previously</td>\n",
       "      <td>Not ATSI</td>\n",
       "      <td>Not CALD</td>\n",
       "      <td>Female</td>\n",
       "      <td>50</td>\n",
       "      <td>Mannum Roos Netball Club</td>\n",
       "      <td>Netball</td>\n",
       "      <td>MID MURRAY</td>\n",
       "      <td>SCHUBERT</td>\n",
       "      <td>30/6/17 6:07</td>\n",
       "      <td>2017</td>\n",
       "      <td>965.0</td>\n",
       "      <td>965.0</td>\n",
       "      <td>917.0</td>\n",
       "      <td>937.0</td>\n",
       "      <td>8134.0</td>\n",
       "    </tr>\n",
       "    <tr>\n",
       "      <th>127524</th>\n",
       "      <td>1127526</td>\n",
       "      <td>ZADOWS LANDING</td>\n",
       "      <td>Registered Previously</td>\n",
       "      <td>Not ATSI</td>\n",
       "      <td>Not CALD</td>\n",
       "      <td>Female</td>\n",
       "      <td>50</td>\n",
       "      <td>Mannum Roos Netball Club</td>\n",
       "      <td>Netball</td>\n",
       "      <td>MID MURRAY</td>\n",
       "      <td>SCHUBERT</td>\n",
       "      <td>28/4/15 0:06</td>\n",
       "      <td>2015</td>\n",
       "      <td>965.0</td>\n",
       "      <td>965.0</td>\n",
       "      <td>917.0</td>\n",
       "      <td>937.0</td>\n",
       "      <td>8134.0</td>\n",
       "    </tr>\n",
       "    <tr>\n",
       "      <th>127525</th>\n",
       "      <td>1127526</td>\n",
       "      <td>ZADOWS LANDING</td>\n",
       "      <td>Registered Previously</td>\n",
       "      <td>Not ATSI</td>\n",
       "      <td>Not CALD</td>\n",
       "      <td>Female</td>\n",
       "      <td>50</td>\n",
       "      <td>Mannum Roos Netball Club</td>\n",
       "      <td>Netball</td>\n",
       "      <td>MID MURRAY</td>\n",
       "      <td>SCHUBERT</td>\n",
       "      <td>29/3/16 23:57</td>\n",
       "      <td>2016</td>\n",
       "      <td>965.0</td>\n",
       "      <td>965.0</td>\n",
       "      <td>917.0</td>\n",
       "      <td>937.0</td>\n",
       "      <td>8134.0</td>\n",
       "    </tr>\n",
       "  </tbody>\n",
       "</table>\n",
       "<p>116229 rows × 18 columns</p>\n",
       "</div>"
      ],
      "text/plain": [
       "        Participant_ID Participant_Suburb       Club_Previous_Member  \\\n",
       "0              1000002     ABERFOYLE PARK      Registered Previously   \n",
       "1              1000002     ABERFOYLE PARK      Registered Previously   \n",
       "2              1000004     ABERFOYLE PARK  Not Registered Previously   \n",
       "3              1000004     ABERFOYLE PARK      Registered Previously   \n",
       "4              1000005     ABERFOYLE PARK      Registered Previously   \n",
       "...                ...                ...                        ...   \n",
       "127521         1127524     ZADOWS LANDING      Registered Previously   \n",
       "127522         1127524     ZADOWS LANDING      Registered Previously   \n",
       "127523         1127524     ZADOWS LANDING      Registered Previously   \n",
       "127524         1127526     ZADOWS LANDING      Registered Previously   \n",
       "127525         1127526     ZADOWS LANDING      Registered Previously   \n",
       "\n",
       "       Participant_ATSI_Indicator Participant_CALD_Indicator Participant_Sex  \\\n",
       "0                        Not ATSI                   Not CALD            Male   \n",
       "1                        Not ATSI                   Not CALD            Male   \n",
       "2                        Not ATSI                   Not CALD          Female   \n",
       "3                        Not ATSI                   Not CALD          Female   \n",
       "4                        Not ATSI                   Not CALD          Female   \n",
       "...                           ...                        ...             ...   \n",
       "127521                   Not ATSI                   Not CALD          Female   \n",
       "127522                   Not ATSI                   Not CALD          Female   \n",
       "127523                   Not ATSI                   Not CALD          Female   \n",
       "127524                   Not ATSI                   Not CALD          Female   \n",
       "127525                   Not ATSI                   Not CALD          Female   \n",
       "\n",
       "        Voucher_Value                                   Club_Name  \\\n",
       "0                  50                Flagstaff Hill Football Club   \n",
       "1                  50                Flagstaff Hill Football Club   \n",
       "2                  50                         Hub Gymnastics Club   \n",
       "3                  50                         Hub Gymnastics Club   \n",
       "4                  50  Blackwood Community Recreation Association   \n",
       "...               ...                                         ...   \n",
       "127521             50                    Mannum Roos Netball Club   \n",
       "127522             50                    Mannum Roos Netball Club   \n",
       "127523             50                    Mannum Roos Netball Club   \n",
       "127524             50                    Mannum Roos Netball Club   \n",
       "127525             50                    Mannum Roos Netball Club   \n",
       "\n",
       "           Voucher_Sport Participant_LGA Participant_Electorate  \\\n",
       "0       Australian Rules     ONKAPARINGA                 FISHER   \n",
       "1       Australian Rules     ONKAPARINGA                 FISHER   \n",
       "2             Gymnastics     ONKAPARINGA                 FISHER   \n",
       "3             Gymnastics     ONKAPARINGA                 FISHER   \n",
       "4             Gymnastics     ONKAPARINGA                 FISHER   \n",
       "...                  ...             ...                    ...   \n",
       "127521           Netball      MID MURRAY               SCHUBERT   \n",
       "127522           Netball      MID MURRAY               SCHUBERT   \n",
       "127523           Netball      MID MURRAY               SCHUBERT   \n",
       "127524           Netball      MID MURRAY               SCHUBERT   \n",
       "127525           Netball      MID MURRAY               SCHUBERT   \n",
       "\n",
       "       Voucher_Completion_Date  Voucher_Claim_Year    IEO    IER  IRSAD  \\\n",
       "0                 26/6/15 1:19                2015  996.0  996.0  975.0   \n",
       "1                29/6/16 23:55                2016  996.0  996.0  975.0   \n",
       "2                 21/4/16 3:37                2016  996.0  996.0  975.0   \n",
       "3                 30/3/17 0:47                2017  996.0  996.0  975.0   \n",
       "4                 20/7/15 2:50                2015  996.0  996.0  975.0   \n",
       "...                        ...                 ...    ...    ...    ...   \n",
       "127521            15/8/16 1:33                2016  965.0  965.0  917.0   \n",
       "127522           13/7/15 23:42                2015  965.0  965.0  917.0   \n",
       "127523            30/6/17 6:07                2017  965.0  965.0  917.0   \n",
       "127524            28/4/15 0:06                2015  965.0  965.0  917.0   \n",
       "127525           29/3/16 23:57                2016  965.0  965.0  917.0   \n",
       "\n",
       "         IRSD  Population  \n",
       "0       993.0    159517.0  \n",
       "1       993.0    159517.0  \n",
       "2       993.0    159517.0  \n",
       "3       993.0    159517.0  \n",
       "4       993.0    159517.0  \n",
       "...       ...         ...  \n",
       "127521  937.0      8134.0  \n",
       "127522  937.0      8134.0  \n",
       "127523  937.0      8134.0  \n",
       "127524  937.0      8134.0  \n",
       "127525  937.0      8134.0  \n",
       "\n",
       "[116229 rows x 18 columns]"
      ]
     },
     "execution_count": 47,
     "metadata": {},
     "output_type": "execute_result"
    }
   ],
   "source": [
    "clean_sa_vouchers"
   ]
  },
  {
   "cell_type": "code",
   "execution_count": 48,
   "metadata": {},
   "outputs": [],
   "source": [
    "newdf= trail['Participant_LGA'].count()\n",
    "\n",
    "final = pd.DataFrame({'Voucher Count':newdf.values, 'Population':trail['Population'].mean() })\n",
    "final['Population'] = trail['Population'].mean()"
   ]
  },
  {
   "cell_type": "code",
   "execution_count": 49,
   "metadata": {},
   "outputs": [
    {
     "name": "stdout",
     "output_type": "stream",
     "text": [
      "                 Voucher Count  Population\n",
      "Participant_LGA                           \n",
      "ADELAIDE                   296     19606.0\n",
      "ADELAIDE HILLS            4652     38601.0\n",
      "ALEXANDRINA               2938     23693.0\n",
      "BAROSSA                   2861     22174.0\n",
      "BARUNGA WEST               332      2467.0\n",
      "...                        ...         ...\n",
      "WEST TORRENS              2806     54932.0\n",
      "WHYALLA                   2439     22070.0\n",
      "WUDINNA                    267      1256.0\n",
      "YANKALILLA                 439      4406.0\n",
      "YORKE PENINSULA            975     11046.0\n",
      "\n",
      "[62 rows x 2 columns]\n"
     ]
    }
   ],
   "source": [
    "print(final)"
   ]
  },
  {
   "cell_type": "code",
   "execution_count": 50,
   "metadata": {},
   "outputs": [],
   "source": [
    "final['Voucher_per_pop'] = final['Voucher Count']/final['Population']"
   ]
  },
  {
   "cell_type": "code",
   "execution_count": 51,
   "metadata": {},
   "outputs": [
    {
     "name": "stdout",
     "output_type": "stream",
     "text": [
      "                 Voucher Count  Population  Voucher_per_pop\n",
      "Participant_LGA                                            \n",
      "ADELAIDE                   296     19606.0         0.015097\n",
      "ADELAIDE HILLS            4652     38601.0         0.120515\n",
      "ALEXANDRINA               2938     23693.0         0.124003\n",
      "BAROSSA                   2861     22174.0         0.129025\n",
      "BARUNGA WEST               332      2467.0         0.134576\n",
      "...                        ...         ...              ...\n",
      "WEST TORRENS              2806     54932.0         0.051081\n",
      "WHYALLA                   2439     22070.0         0.110512\n",
      "WUDINNA                    267      1256.0         0.212580\n",
      "YANKALILLA                 439      4406.0         0.099637\n",
      "YORKE PENINSULA            975     11046.0         0.088267\n",
      "\n",
      "[62 rows x 3 columns]\n"
     ]
    }
   ],
   "source": [
    "print(final)"
   ]
  },
  {
   "cell_type": "code",
   "execution_count": 52,
   "metadata": {},
   "outputs": [],
   "source": [
    "#final.drop(columns=\"Participant_LGA\")"
   ]
  },
  {
   "cell_type": "code",
   "execution_count": 53,
   "metadata": {
    "scrolled": true
   },
   "outputs": [
    {
     "name": "stdout",
     "output_type": "stream",
     "text": [
      "0.10189537805615707\n"
     ]
    }
   ],
   "source": [
    "chino = final['Voucher_per_pop'].mean()\n",
    "print(chino)"
   ]
  },
  {
   "cell_type": "markdown",
   "metadata": {},
   "source": [
    "all LGA's whos voucher per pop is above the mean is over represented"
   ]
  },
  {
   "cell_type": "code",
   "execution_count": 54,
   "metadata": {},
   "outputs": [],
   "source": [
    "overrep = (final[final['Voucher_per_pop'] > (chino)])\n",
    "underrep= (final[final['Voucher_per_pop'] < (chino)])\n"
   ]
  },
  {
   "cell_type": "code",
   "execution_count": 80,
   "metadata": {
    "scrolled": false
   },
   "outputs": [
    {
     "name": "stdout",
     "output_type": "stream",
     "text": [
      "                      Voucher Count  Population  Voucher_per_pop\n",
      "Participant_LGA                                                 \n",
      "KAROONDA EAST MURRAY            378      1035.0         0.365217\n",
      "WUDINNA                         267      1256.0         0.212580\n",
      "KIMBA                           211      1087.0         0.194112\n",
      "CLEVE                           325      1729.0         0.187970\n",
      "SOUTHERN MALLEE                 342      2097.0         0.163090\n",
      "                 Voucher Count  Population  Voucher_per_pop\n",
      "Participant_LGA                                            \n",
      "KINGSTON                   288     72380.5         0.003979\n",
      "ADELAIDE                   296     19606.0         0.015097\n",
      "COOBER PEDY                 39      1694.0         0.023022\n",
      "CAMPBELLTOWN              2513     97060.0         0.025891\n",
      "PETERBOROUGH                45      1733.0         0.025967\n",
      "                 Voucher Count  Population  Voucher_per_pop  mean_delta\n",
      "Participant_LGA                                                        \n",
      "ADELAIDE                   296     19606.0         0.015097   -0.086798\n",
      "ADELAIDE HILLS            4652     38601.0         0.120515    0.018620\n",
      "ALEXANDRINA               2938     23693.0         0.124003    0.022107\n",
      "BAROSSA                   2861     22174.0         0.129025    0.027130\n",
      "BARUNGA WEST               332      2467.0         0.134576    0.032681\n",
      "...                        ...         ...              ...         ...\n",
      "WEST TORRENS              2806     54932.0         0.051081   -0.050814\n",
      "WHYALLA                   2439     22070.0         0.110512    0.008617\n",
      "WUDINNA                    267      1256.0         0.212580    0.110684\n",
      "YANKALILLA                 439      4406.0         0.099637   -0.002259\n",
      "YORKE PENINSULA            975     11046.0         0.088267   -0.013628\n",
      "\n",
      "[62 rows x 4 columns]\n"
     ]
    },
    {
     "name": "stderr",
     "output_type": "stream",
     "text": [
      "<ipython-input-80-55cb249a48a5>:1: SettingWithCopyWarning: \n",
      "A value is trying to be set on a copy of a slice from a DataFrame\n",
      "\n",
      "See the caveats in the documentation: https://pandas.pydata.org/pandas-docs/stable/user_guide/indexing.html#returning-a-view-versus-a-copy\n",
      "  overrep.sort_values(by=['Voucher_per_pop'], inplace=True, ascending=False)\n",
      "<ipython-input-80-55cb249a48a5>:4: SettingWithCopyWarning: \n",
      "A value is trying to be set on a copy of a slice from a DataFrame\n",
      "\n",
      "See the caveats in the documentation: https://pandas.pydata.org/pandas-docs/stable/user_guide/indexing.html#returning-a-view-versus-a-copy\n",
      "  underrep.sort_values(by=['Voucher_per_pop'], inplace=True, ascending=True)\n"
     ]
    }
   ],
   "source": [
    "overrep.sort_values(by=['Voucher_per_pop'], inplace=True, ascending=False)\n",
    "print(overrep.head())\n",
    "\n",
    "underrep.sort_values(by=['Voucher_per_pop'], inplace=True, ascending=True)\n",
    "print(underrep.head())\n",
    "\n",
    "final['mean_delta'] = (final['Voucher_per_pop'] - chino)\n",
    "print(final)\n",
    "#sns.set(style='darkgrid')"
   ]
  },
  {
   "cell_type": "markdown",
   "metadata": {},
   "source": [
    "#sns.set(style='darkgrid')\n",
    "plt.figure(figsize=(100,25))\n",
    "sns.barplot(x=final.index, y='Voucher_per_pop', data=final,\n",
    "            color='#3792CB', edgecolor= 'black',\n",
    "            bottom=chino)  # <-- set the bottom of the bars\n"
   ]
  },
  {
   "cell_type": "code",
   "execution_count": 81,
   "metadata": {},
   "outputs": [
    {
     "data": {
      "text/plain": [
       "<AxesSubplot:xlabel='Participant_LGA'>"
      ]
     },
     "execution_count": 81,
     "metadata": {},
     "output_type": "execute_result"
    },
    {
     "data": {
      "image/png": "[encoded data removed]",
      "text/plain": [
       "<Figure size 1440x1080 with 1 Axes>"
      ]
     },
     "metadata": {
      "needs_background": "light"
     },
     "output_type": "display_data"
    }
   ],
   "source": [
    "final.plot(kind = 'bar', y='mean_delta',figsize=(20,15) )"
   ]
  },
  {
   "cell_type": "markdown",
   "metadata": {},
   "source": [
    "As can be seen certain areas have been significantly over represented in their usage of vouchers per population. Kingston and Adelaide have a significantly lower amount"
   ]
  },
  {
   "cell_type": "markdown",
   "metadata": {},
   "source": [
    "# Is there a relationship between any of the SEIFA measures and voucher use in an LGA?"
   ]
  },
  {
   "cell_type": "code",
   "execution_count": 82,
   "metadata": {},
   "outputs": [],
   "source": [
    "testLGA = pd.merge(final, LGA_scores, left_index=True, right_index=True)\n",
    "testLGA=testLGA.drop(['Voucher Count'],axis =1)\n",
    "testLGA=testLGA.drop(['Population_x'],axis =1)\n",
    "testLGA=testLGA.drop(['Population_y'],axis =1)"
   ]
  },
  {
   "cell_type": "code",
   "execution_count": 83,
   "metadata": {},
   "outputs": [
    {
     "name": "stdout",
     "output_type": "stream",
     "text": [
      "                 Voucher_per_pop  mean_delta     IEO     IER   IRSAD    IRSD\n",
      "ADELAIDE                0.015097   -0.086798   874.0   874.0  1036.0  1013.0\n",
      "ADELAIDE HILLS          0.120515    0.018620  1083.0  1083.0  1077.0  1081.0\n",
      "ALEXANDRINA             0.124003    0.022107  1000.0  1000.0   969.0   987.0\n",
      "BAROSSA                 0.129025    0.027130  1028.0  1028.0   997.0  1017.0\n",
      "BARUNGA WEST            0.134576    0.032681   981.0   981.0   940.0   954.0\n",
      "...                          ...         ...     ...     ...     ...     ...\n",
      "WEST TORRENS            0.051081   -0.050814   949.0   949.0   989.0   998.0\n",
      "WHYALLA                 0.110512    0.008617   905.0   905.0   897.0   905.0\n",
      "WUDINNA                 0.212580    0.110684  1008.0  1008.0   999.0  1023.0\n",
      "YANKALILLA              0.099637   -0.002259   990.0   990.0   957.0   972.0\n",
      "YORKE PENINSULA         0.088267   -0.013628   969.0   969.0   933.0   952.0\n",
      "\n",
      "[62 rows x 6 columns]\n"
     ]
    }
   ],
   "source": [
    "print(testLGA)"
   ]
  },
  {
   "cell_type": "code",
   "execution_count": 85,
   "metadata": {},
   "outputs": [
    {
     "data": {
      "text/plain": [
       "<AxesSubplot:xlabel='Voucher_per_pop', ylabel='IRSD'>"
      ]
     },
     "execution_count": 85,
     "metadata": {},
     "output_type": "execute_result"
    },
    {
     "data": {
      "image/png": "[encoded data removed]",
      "text/plain": [
       "<Figure size 720x720 with 1 Axes>"
      ]
     },
     "metadata": {
      "needs_background": "light"
     },
     "output_type": "display_data"
    }
   ],
   "source": [
    "testLGA.sort_values(by=['Voucher_per_pop'], inplace=True, ascending=False)\n",
    "testLGA.plot(kind = 'scatter',x='Voucher_per_pop',   y='IRSD',figsize=(10,10) )"
   ]
  },
  {
   "cell_type": "code",
   "execution_count": 89,
   "metadata": {},
   "outputs": [
    {
     "name": "stdout",
     "output_type": "stream",
     "text": [
      "0.25433683683488456\n",
      "0.25433683683488456\n",
      "-0.02882647108627505\n",
      "0.06270914578322559\n"
     ]
    }
   ],
   "source": [
    "corrIER = testLGA['Voucher_per_pop'].corr(testLGA['IER'])\n",
    "corrIEO = testLGA['Voucher_per_pop'].corr(testLGA['IEO'])\n",
    "corrIRSAD=testLGA['Voucher_per_pop'].corr(testLGA['IRSAD'])\n",
    "corrIRSD=testLGA['Voucher_per_pop'].corr(testLGA['IRSD'])\n",
    "print(corrIER)\n",
    "print(corrIEO)\n",
    "print(corrIRSAD)\n",
    "print(corrIRSD)"
   ]
  },
  {
   "cell_type": "markdown",
   "metadata": {},
   "source": [
    "to further exmeplify the lack of correlation the correlation data shows that There appears to be no correlation between any of the IESAF"
   ]
  },
  {
   "cell_type": "markdown",
   "metadata": {},
   "source": [
    "## Challenge - Queensland\n",
    "\n",
    "_Note: this is an extra task that you might take on to get a better grade for your portfolio.  You can get a good pass grade without doing this._ \n",
    "\n",
    "Queensland has a similar program called [Get Started](https://data.gov.au/dataset/ds-qld-3118838a-d425-48fa-bfc9-bc615ddae44e/details?q=get%20started%20vouchers) and we can retrieve data from their program in a similar format.  \n",
    "\n",
    "The file [round1-redeemed_get_started_vouchers.csv](files/round1-redeemed_get_started_vouchers.csv) contains records of the vouchers issued in Queensland. The date of this data is not included but the program started in 2015 so it is probably from around then.  \n",
    "\n",
    "The data includes the LGA of the individual but the name of the activity is slightly different.  To do a comparable analysis you would need to map the activity names onto those from South Australia. "
   ]
  },
  {
   "cell_type": "code",
   "execution_count": null,
   "metadata": {},
   "outputs": [],
   "source": []
  },
  {
   "cell_type": "code",
   "execution_count": 27,
   "metadata": {},
   "outputs": [
    {
     "data": {
      "text/html": [
       "<div>\n",
       "<style scoped>\n",
       "    .dataframe tbody tr th:only-of-type {\n",
       "        vertical-align: middle;\n",
       "    }\n",
       "\n",
       "    .dataframe tbody tr th {\n",
       "        vertical-align: top;\n",
       "    }\n",
       "\n",
       "    .dataframe thead th {\n",
       "        text-align: right;\n",
       "    }\n",
       "</style>\n",
       "<table border=\"1\" class=\"dataframe\">\n",
       "  <thead>\n",
       "    <tr style=\"text-align: right;\">\n",
       "      <th></th>\n",
       "      <th>Application Number</th>\n",
       "      <th>Voucher Number</th>\n",
       "      <th>Child Age (at time of Application)</th>\n",
       "      <th>Gender</th>\n",
       "      <th>Has your child played sport before?</th>\n",
       "      <th>Participation Activity</th>\n",
       "      <th>Club Name</th>\n",
       "      <th>Club Suburb/Town</th>\n",
       "      <th>Club Local Government Area Name</th>\n",
       "      <th>Club State Electoral District  Name</th>\n",
       "      <th>Parent Suburb/Town</th>\n",
       "      <th>Total Payment</th>\n",
       "    </tr>\n",
       "  </thead>\n",
       "  <tbody>\n",
       "    <tr>\n",
       "      <th>0</th>\n",
       "      <td>2000012253</td>\n",
       "      <td>Q89QDUXP</td>\n",
       "      <td>10</td>\n",
       "      <td>NaN</td>\n",
       "      <td>Yes</td>\n",
       "      <td>*Other</td>\n",
       "      <td>Queensland Police-Citizens Youth Welfare Assoc...</td>\n",
       "      <td>Airlie Beach</td>\n",
       "      <td>Whitsunday (R)</td>\n",
       "      <td>Whitsunday</td>\n",
       "      <td>Jubilee Pocket</td>\n",
       "      <td>60.01</td>\n",
       "    </tr>\n",
       "    <tr>\n",
       "      <th>1</th>\n",
       "      <td>2000001727</td>\n",
       "      <td>593F6Y41</td>\n",
       "      <td>5</td>\n",
       "      <td>NaN</td>\n",
       "      <td>No</td>\n",
       "      <td>*Other</td>\n",
       "      <td>Guides Queensland</td>\n",
       "      <td>Windsor</td>\n",
       "      <td>Brisbane (C)</td>\n",
       "      <td>Brisbane Central</td>\n",
       "      <td>Leichhardt</td>\n",
       "      <td>150.00</td>\n",
       "    </tr>\n",
       "    <tr>\n",
       "      <th>2</th>\n",
       "      <td>2000013464</td>\n",
       "      <td>PH2R4RTT</td>\n",
       "      <td>5</td>\n",
       "      <td>NaN</td>\n",
       "      <td>No</td>\n",
       "      <td>*Other</td>\n",
       "      <td>Guides Queensland</td>\n",
       "      <td>Windsor</td>\n",
       "      <td>Brisbane (C)</td>\n",
       "      <td>Brisbane Central</td>\n",
       "      <td>Woodridge</td>\n",
       "      <td>150.00</td>\n",
       "    </tr>\n",
       "    <tr>\n",
       "      <th>3</th>\n",
       "      <td>2000009270</td>\n",
       "      <td>035SE2H5</td>\n",
       "      <td>5</td>\n",
       "      <td>NaN</td>\n",
       "      <td>Yes</td>\n",
       "      <td>*Other</td>\n",
       "      <td>Guides Queensland</td>\n",
       "      <td>Windsor</td>\n",
       "      <td>Brisbane (C)</td>\n",
       "      <td>Brisbane Central</td>\n",
       "      <td>Yatala</td>\n",
       "      <td>150.00</td>\n",
       "    </tr>\n",
       "    <tr>\n",
       "      <th>4</th>\n",
       "      <td>2000007273</td>\n",
       "      <td>NP6C4729</td>\n",
       "      <td>6</td>\n",
       "      <td>NaN</td>\n",
       "      <td>No</td>\n",
       "      <td>*Other</td>\n",
       "      <td>Guides Queensland</td>\n",
       "      <td>Windsor</td>\n",
       "      <td>Brisbane (C)</td>\n",
       "      <td>Brisbane Central</td>\n",
       "      <td>Alexandra Hills</td>\n",
       "      <td>150.00</td>\n",
       "    </tr>\n",
       "  </tbody>\n",
       "</table>\n",
       "</div>"
      ],
      "text/plain": [
       "   Application Number Voucher Number  Child Age (at time of Application)  \\\n",
       "0          2000012253       Q89QDUXP                                  10   \n",
       "1          2000001727       593F6Y41                                   5   \n",
       "2          2000013464       PH2R4RTT                                   5   \n",
       "3          2000009270       035SE2H5                                   5   \n",
       "4          2000007273       NP6C4729                                   6   \n",
       "\n",
       "   Gender Has your child played sport before? Participation Activity  \\\n",
       "0     NaN                                 Yes                 *Other   \n",
       "1     NaN                                  No                 *Other   \n",
       "2     NaN                                  No                 *Other   \n",
       "3     NaN                                 Yes                 *Other   \n",
       "4     NaN                                  No                 *Other   \n",
       "\n",
       "                                           Club Name Club Suburb/Town  \\\n",
       "0  Queensland Police-Citizens Youth Welfare Assoc...     Airlie Beach   \n",
       "1                                  Guides Queensland          Windsor   \n",
       "2                                  Guides Queensland          Windsor   \n",
       "3                                  Guides Queensland          Windsor   \n",
       "4                                  Guides Queensland          Windsor   \n",
       "\n",
       "  Club Local Government Area Name Club State Electoral District  Name  \\\n",
       "0                  Whitsunday (R)                          Whitsunday   \n",
       "1                    Brisbane (C)                    Brisbane Central   \n",
       "2                    Brisbane (C)                    Brisbane Central   \n",
       "3                    Brisbane (C)                    Brisbane Central   \n",
       "4                    Brisbane (C)                    Brisbane Central   \n",
       "\n",
       "  Parent Suburb/Town  Total Payment  \n",
       "0     Jubilee Pocket          60.01  \n",
       "1         Leichhardt         150.00  \n",
       "2          Woodridge         150.00  \n",
       "3             Yatala         150.00  \n",
       "4    Alexandra Hills         150.00  "
      ]
     },
     "execution_count": 27,
     "metadata": {},
     "output_type": "execute_result"
    }
   ],
   "source": [
    "qld_vouchers = pd.read_csv('files/round1-redeemed_get_started_vouchers.csv')\n",
    "qld_vouchers.head()"
   ]
  },
  {
   "cell_type": "code",
   "execution_count": 28,
   "metadata": {},
   "outputs": [
    {
     "name": "stderr",
     "output_type": "stream",
     "text": [
      "<ipython-input-28-d688531e2bfc>:2: FutureWarning: The default value of regex will change from True to False in a future version.\n",
      "  qld_vouchers['LGA'] = qld_vouchers['Club Local Government Area Name'].str.replace(' \\([RC]+\\)', '').str.upper()\n"
     ]
    },
    {
     "data": {
      "text/html": [
       "<div>\n",
       "<style scoped>\n",
       "    .dataframe tbody tr th:only-of-type {\n",
       "        vertical-align: middle;\n",
       "    }\n",
       "\n",
       "    .dataframe tbody tr th {\n",
       "        vertical-align: top;\n",
       "    }\n",
       "\n",
       "    .dataframe thead th {\n",
       "        text-align: right;\n",
       "    }\n",
       "</style>\n",
       "<table border=\"1\" class=\"dataframe\">\n",
       "  <thead>\n",
       "    <tr style=\"text-align: right;\">\n",
       "      <th></th>\n",
       "      <th>Application Number</th>\n",
       "      <th>Voucher Number</th>\n",
       "      <th>Child Age (at time of Application)</th>\n",
       "      <th>Gender</th>\n",
       "      <th>Has your child played sport before?</th>\n",
       "      <th>Participation Activity</th>\n",
       "      <th>Club Name</th>\n",
       "      <th>Club Suburb/Town</th>\n",
       "      <th>Club Local Government Area Name</th>\n",
       "      <th>Club State Electoral District  Name</th>\n",
       "      <th>Parent Suburb/Town</th>\n",
       "      <th>Total Payment</th>\n",
       "      <th>LGA</th>\n",
       "      <th>IEO</th>\n",
       "      <th>IER</th>\n",
       "      <th>IRSAD</th>\n",
       "      <th>IRSD</th>\n",
       "      <th>Population</th>\n",
       "    </tr>\n",
       "  </thead>\n",
       "  <tbody>\n",
       "    <tr>\n",
       "      <th>0</th>\n",
       "      <td>2000012253</td>\n",
       "      <td>Q89QDUXP</td>\n",
       "      <td>10</td>\n",
       "      <td>NaN</td>\n",
       "      <td>Yes</td>\n",
       "      <td>*Other</td>\n",
       "      <td>Queensland Police-Citizens Youth Welfare Assoc...</td>\n",
       "      <td>Airlie Beach</td>\n",
       "      <td>Whitsunday (R)</td>\n",
       "      <td>Whitsunday</td>\n",
       "      <td>Jubilee Pocket</td>\n",
       "      <td>60.01</td>\n",
       "      <td>WHITSUNDAY</td>\n",
       "      <td>989.0</td>\n",
       "      <td>989.0</td>\n",
       "      <td>966.0</td>\n",
       "      <td>982.0</td>\n",
       "      <td>31393.0</td>\n",
       "    </tr>\n",
       "    <tr>\n",
       "      <th>1</th>\n",
       "      <td>2000001727</td>\n",
       "      <td>593F6Y41</td>\n",
       "      <td>5</td>\n",
       "      <td>NaN</td>\n",
       "      <td>No</td>\n",
       "      <td>*Other</td>\n",
       "      <td>Guides Queensland</td>\n",
       "      <td>Windsor</td>\n",
       "      <td>Brisbane (C)</td>\n",
       "      <td>Brisbane Central</td>\n",
       "      <td>Leichhardt</td>\n",
       "      <td>150.00</td>\n",
       "      <td>BRISBANE</td>\n",
       "      <td>1018.0</td>\n",
       "      <td>1018.0</td>\n",
       "      <td>1057.0</td>\n",
       "      <td>1048.0</td>\n",
       "      <td>1042074.0</td>\n",
       "    </tr>\n",
       "    <tr>\n",
       "      <th>2</th>\n",
       "      <td>2000013464</td>\n",
       "      <td>PH2R4RTT</td>\n",
       "      <td>5</td>\n",
       "      <td>NaN</td>\n",
       "      <td>No</td>\n",
       "      <td>*Other</td>\n",
       "      <td>Guides Queensland</td>\n",
       "      <td>Windsor</td>\n",
       "      <td>Brisbane (C)</td>\n",
       "      <td>Brisbane Central</td>\n",
       "      <td>Woodridge</td>\n",
       "      <td>150.00</td>\n",
       "      <td>BRISBANE</td>\n",
       "      <td>1018.0</td>\n",
       "      <td>1018.0</td>\n",
       "      <td>1057.0</td>\n",
       "      <td>1048.0</td>\n",
       "      <td>1042074.0</td>\n",
       "    </tr>\n",
       "    <tr>\n",
       "      <th>3</th>\n",
       "      <td>2000009270</td>\n",
       "      <td>035SE2H5</td>\n",
       "      <td>5</td>\n",
       "      <td>NaN</td>\n",
       "      <td>Yes</td>\n",
       "      <td>*Other</td>\n",
       "      <td>Guides Queensland</td>\n",
       "      <td>Windsor</td>\n",
       "      <td>Brisbane (C)</td>\n",
       "      <td>Brisbane Central</td>\n",
       "      <td>Yatala</td>\n",
       "      <td>150.00</td>\n",
       "      <td>BRISBANE</td>\n",
       "      <td>1018.0</td>\n",
       "      <td>1018.0</td>\n",
       "      <td>1057.0</td>\n",
       "      <td>1048.0</td>\n",
       "      <td>1042074.0</td>\n",
       "    </tr>\n",
       "    <tr>\n",
       "      <th>4</th>\n",
       "      <td>2000007273</td>\n",
       "      <td>NP6C4729</td>\n",
       "      <td>6</td>\n",
       "      <td>NaN</td>\n",
       "      <td>No</td>\n",
       "      <td>*Other</td>\n",
       "      <td>Guides Queensland</td>\n",
       "      <td>Windsor</td>\n",
       "      <td>Brisbane (C)</td>\n",
       "      <td>Brisbane Central</td>\n",
       "      <td>Alexandra Hills</td>\n",
       "      <td>150.00</td>\n",
       "      <td>BRISBANE</td>\n",
       "      <td>1018.0</td>\n",
       "      <td>1018.0</td>\n",
       "      <td>1057.0</td>\n",
       "      <td>1048.0</td>\n",
       "      <td>1042074.0</td>\n",
       "    </tr>\n",
       "  </tbody>\n",
       "</table>\n",
       "</div>"
      ],
      "text/plain": [
       "   Application Number Voucher Number  Child Age (at time of Application)  \\\n",
       "0          2000012253       Q89QDUXP                                  10   \n",
       "1          2000001727       593F6Y41                                   5   \n",
       "2          2000013464       PH2R4RTT                                   5   \n",
       "3          2000009270       035SE2H5                                   5   \n",
       "4          2000007273       NP6C4729                                   6   \n",
       "\n",
       "   Gender Has your child played sport before? Participation Activity  \\\n",
       "0     NaN                                 Yes                 *Other   \n",
       "1     NaN                                  No                 *Other   \n",
       "2     NaN                                  No                 *Other   \n",
       "3     NaN                                 Yes                 *Other   \n",
       "4     NaN                                  No                 *Other   \n",
       "\n",
       "                                           Club Name Club Suburb/Town  \\\n",
       "0  Queensland Police-Citizens Youth Welfare Assoc...     Airlie Beach   \n",
       "1                                  Guides Queensland          Windsor   \n",
       "2                                  Guides Queensland          Windsor   \n",
       "3                                  Guides Queensland          Windsor   \n",
       "4                                  Guides Queensland          Windsor   \n",
       "\n",
       "  Club Local Government Area Name Club State Electoral District  Name  \\\n",
       "0                  Whitsunday (R)                          Whitsunday   \n",
       "1                    Brisbane (C)                    Brisbane Central   \n",
       "2                    Brisbane (C)                    Brisbane Central   \n",
       "3                    Brisbane (C)                    Brisbane Central   \n",
       "4                    Brisbane (C)                    Brisbane Central   \n",
       "\n",
       "  Parent Suburb/Town  Total Payment         LGA     IEO     IER   IRSAD  \\\n",
       "0     Jubilee Pocket          60.01  WHITSUNDAY   989.0   989.0   966.0   \n",
       "1         Leichhardt         150.00    BRISBANE  1018.0  1018.0  1057.0   \n",
       "2          Woodridge         150.00    BRISBANE  1018.0  1018.0  1057.0   \n",
       "3             Yatala         150.00    BRISBANE  1018.0  1018.0  1057.0   \n",
       "4    Alexandra Hills         150.00    BRISBANE  1018.0  1018.0  1057.0   \n",
       "\n",
       "     IRSD  Population  \n",
       "0   982.0     31393.0  \n",
       "1  1048.0   1042074.0  \n",
       "2  1048.0   1042074.0  \n",
       "3  1048.0   1042074.0  \n",
       "4  1048.0   1042074.0  "
      ]
     },
     "execution_count": 28,
     "metadata": {},
     "output_type": "execute_result"
    }
   ],
   "source": [
    "# Join the QLD data with the LGA data as before to get population and SIEFA data integrated\n",
    "qld_vouchers['LGA'] = qld_vouchers['Club Local Government Area Name'].str.replace(' \\([RC]+\\)', '').str.upper()\n",
    "qld_vouchers_scores = qld_vouchers.join(LGA_scores, on='LGA')\n",
    "qld_vouchers_scores.head()"
   ]
  },
  {
   "cell_type": "code",
   "execution_count": null,
   "metadata": {},
   "outputs": [],
   "source": []
  },
  {
   "cell_type": "code",
   "execution_count": null,
   "metadata": {},
   "outputs": [],
   "source": []
  },
  {
   "cell_type": "code",
   "execution_count": null,
   "metadata": {},
   "outputs": [],
   "source": []
  }
 ],
 "metadata": {
  "kernelspec": {
   "display_name": "Python 3",
   "language": "python",
   "name": "python3"
  },
  "language_info": {
   "codemirror_mode": {
    "name": "ipython",
    "version": 3
   },
   "file_extension": ".py",
   "mimetype": "text/x-python",
   "name": "python",
   "nbconvert_exporter": "python",
   "pygments_lexer": "ipython3",
   "version": "3.8.8"
  }
 },
 "nbformat": 4,
 "nbformat_minor": 4
}
