{
 "cells": [
  {
   "cell_type": "markdown",
   "metadata": {},
   "source": [
    "# Sport Vouchers Program Analysis\n",
    "\n",
    "The goal of this Portfolio task is to explore data from the Federal Government Sport Vouchers program - this is a\n",
    "program that provides up to two $100 vouchers for kids to participate in organised sport. Here's the [NSW Active Kids page](https://www.service.nsw.gov.au/transaction/apply-active-kids-voucher), there are similar schemes in other states - this data is from South Australia.\n",
    "\n",
    "This is an exercise in exploring data and communicating the insights you can gain from it.  The source data comes\n",
    "from the `data.gov.au` website and provides details of all Sport Vouchers that have been redeemed since February  in SA 2015 as part of the Sport Voucher program:  [Sports Vouchers Data](https://data.gov.au/dataset/ds-sa-14daba50-04ff-46c6-8468-9fa593b9f100/details).  This download is provided for you as `sportsvouchersclaimed.csv`.\n",
    "\n",
    "To augment this data you can also make use of [ABS SEIFA data by LGA](http://stat.data.abs.gov.au/Index.aspx?DataSetCode=ABS_SEIFA_LGA#) which shows a few measures of Socioeconomic Advantage and Disadvantage for every Local Government Area. This data is provided for you as `ABS_SEIFA_LGA.csv`. This could enable you to answer questions about whether the voucher program is used equally by parents in low, middle and high socioeconomic areas.   You might be interested in this if you were concerned that this kind of program might just benifit parents who are already advantaged (they might already be paying for sport so this program wouldn't be helping much).\n",
    "\n",
    "Questions:\n",
    "* Describe the distribution of vouchers by: LGA, Sport - which regions/sports stand out? \n",
    "* Are some sports more popular in different parts of the state?\n",
    "* Are any LGAs over/under represented in their use of vouchers?\n",
    "* Is there a relationship between any of the SEIFA measures and voucher use in an LGA?\n",
    "\n",
    "A challenge in this task is to display a useful summary of the data given that there are a large number of LGAs and sports involved.  Try to avoid long lists and large tables. Think about what plots and tables communicate the main points of your findings. \n"
   ]
  },
  {
   "cell_type": "code",
   "execution_count": 1,
   "metadata": {},
   "outputs": [],
   "source": [
    "import pandas as pd\n",
    "import numpy as np\n",
    "import matplotlib.pyplot as plt\n",
    "import seaborn as sns\n",
    "%matplotlib inline"
   ]
  },
  {
   "cell_type": "code",
   "execution_count": 2,
   "metadata": {
    "scrolled": true
   },
   "outputs": [
    {
     "data": {
      "text/html": [
       "<div>\n",
       "<style scoped>\n",
       "    .dataframe tbody tr th:only-of-type {\n",
       "        vertical-align: middle;\n",
       "    }\n",
       "\n",
       "    .dataframe tbody tr th {\n",
       "        vertical-align: top;\n",
       "    }\n",
       "\n",
       "    .dataframe thead th {\n",
       "        text-align: right;\n",
       "    }\n",
       "</style>\n",
       "<table border=\"1\" class=\"dataframe\">\n",
       "  <thead>\n",
       "    <tr style=\"text-align: right;\">\n",
       "      <th></th>\n",
       "      <th>Participant_ID</th>\n",
       "      <th>Participant_Suburb</th>\n",
       "      <th>Club_Previous_Member</th>\n",
       "      <th>Participant_ATSI_Indicator</th>\n",
       "      <th>Participant_CALD_Indicator</th>\n",
       "      <th>Participant_Sex</th>\n",
       "      <th>Voucher_Value</th>\n",
       "      <th>Club_Name</th>\n",
       "      <th>Voucher_Sport</th>\n",
       "      <th>Participant_LGA</th>\n",
       "      <th>Participant_Electorate</th>\n",
       "      <th>Voucher_Completion_Date</th>\n",
       "      <th>Voucher_Claim_Year</th>\n",
       "    </tr>\n",
       "  </thead>\n",
       "  <tbody>\n",
       "    <tr>\n",
       "      <th>0</th>\n",
       "      <td>1000002</td>\n",
       "      <td>ABERFOYLE PARK</td>\n",
       "      <td>Registered Previously</td>\n",
       "      <td>Not ATSI</td>\n",
       "      <td>Not CALD</td>\n",
       "      <td>Male</td>\n",
       "      <td>50</td>\n",
       "      <td>Flagstaff Hill Football Club</td>\n",
       "      <td>Australian Rules</td>\n",
       "      <td>ONKAPARINGA</td>\n",
       "      <td>FISHER</td>\n",
       "      <td>26/6/15 1:19</td>\n",
       "      <td>2015</td>\n",
       "    </tr>\n",
       "    <tr>\n",
       "      <th>1</th>\n",
       "      <td>1000002</td>\n",
       "      <td>ABERFOYLE PARK</td>\n",
       "      <td>Registered Previously</td>\n",
       "      <td>Not ATSI</td>\n",
       "      <td>Not CALD</td>\n",
       "      <td>Male</td>\n",
       "      <td>50</td>\n",
       "      <td>Flagstaff Hill Football Club</td>\n",
       "      <td>Australian Rules</td>\n",
       "      <td>ONKAPARINGA</td>\n",
       "      <td>FISHER</td>\n",
       "      <td>29/6/16 23:55</td>\n",
       "      <td>2016</td>\n",
       "    </tr>\n",
       "    <tr>\n",
       "      <th>2</th>\n",
       "      <td>1000004</td>\n",
       "      <td>ABERFOYLE PARK</td>\n",
       "      <td>Not Registered Previously</td>\n",
       "      <td>Not ATSI</td>\n",
       "      <td>Not CALD</td>\n",
       "      <td>Female</td>\n",
       "      <td>50</td>\n",
       "      <td>Hub Gymnastics Club</td>\n",
       "      <td>Gymnastics</td>\n",
       "      <td>ONKAPARINGA</td>\n",
       "      <td>FISHER</td>\n",
       "      <td>21/4/16 3:37</td>\n",
       "      <td>2016</td>\n",
       "    </tr>\n",
       "    <tr>\n",
       "      <th>3</th>\n",
       "      <td>1000004</td>\n",
       "      <td>ABERFOYLE PARK</td>\n",
       "      <td>Registered Previously</td>\n",
       "      <td>Not ATSI</td>\n",
       "      <td>Not CALD</td>\n",
       "      <td>Female</td>\n",
       "      <td>50</td>\n",
       "      <td>Hub Gymnastics Club</td>\n",
       "      <td>Gymnastics</td>\n",
       "      <td>ONKAPARINGA</td>\n",
       "      <td>FISHER</td>\n",
       "      <td>30/3/17 0:47</td>\n",
       "      <td>2017</td>\n",
       "    </tr>\n",
       "    <tr>\n",
       "      <th>4</th>\n",
       "      <td>1000005</td>\n",
       "      <td>ABERFOYLE PARK</td>\n",
       "      <td>Registered Previously</td>\n",
       "      <td>Not ATSI</td>\n",
       "      <td>Not CALD</td>\n",
       "      <td>Female</td>\n",
       "      <td>50</td>\n",
       "      <td>Blackwood Community Recreation Association</td>\n",
       "      <td>Gymnastics</td>\n",
       "      <td>ONKAPARINGA</td>\n",
       "      <td>FISHER</td>\n",
       "      <td>20/7/15 2:50</td>\n",
       "      <td>2015</td>\n",
       "    </tr>\n",
       "  </tbody>\n",
       "</table>\n",
       "</div>"
      ],
      "text/plain": [
       "   Participant_ID Participant_Suburb       Club_Previous_Member  \\\n",
       "0         1000002     ABERFOYLE PARK      Registered Previously   \n",
       "1         1000002     ABERFOYLE PARK      Registered Previously   \n",
       "2         1000004     ABERFOYLE PARK  Not Registered Previously   \n",
       "3         1000004     ABERFOYLE PARK      Registered Previously   \n",
       "4         1000005     ABERFOYLE PARK      Registered Previously   \n",
       "\n",
       "  Participant_ATSI_Indicator Participant_CALD_Indicator Participant_Sex  \\\n",
       "0                   Not ATSI                   Not CALD            Male   \n",
       "1                   Not ATSI                   Not CALD            Male   \n",
       "2                   Not ATSI                   Not CALD          Female   \n",
       "3                   Not ATSI                   Not CALD          Female   \n",
       "4                   Not ATSI                   Not CALD          Female   \n",
       "\n",
       "   Voucher_Value                                   Club_Name  \\\n",
       "0             50                Flagstaff Hill Football Club   \n",
       "1             50                Flagstaff Hill Football Club   \n",
       "2             50                         Hub Gymnastics Club   \n",
       "3             50                         Hub Gymnastics Club   \n",
       "4             50  Blackwood Community Recreation Association   \n",
       "\n",
       "      Voucher_Sport Participant_LGA Participant_Electorate  \\\n",
       "0  Australian Rules     ONKAPARINGA                 FISHER   \n",
       "1  Australian Rules     ONKAPARINGA                 FISHER   \n",
       "2        Gymnastics     ONKAPARINGA                 FISHER   \n",
       "3        Gymnastics     ONKAPARINGA                 FISHER   \n",
       "4        Gymnastics     ONKAPARINGA                 FISHER   \n",
       "\n",
       "  Voucher_Completion_Date  Voucher_Claim_Year  \n",
       "0            26/6/15 1:19                2015  \n",
       "1           29/6/16 23:55                2016  \n",
       "2            21/4/16 3:37                2016  \n",
       "3            30/3/17 0:47                2017  \n",
       "4            20/7/15 2:50                2015  "
      ]
     },
     "execution_count": 2,
     "metadata": {},
     "output_type": "execute_result"
    }
   ],
   "source": [
    "# read the sports vouchers data\n",
    "sa_vouchers = pd.read_csv(\"files/sportsvouchersclaimed.csv\")\n",
    "sa_vouchers.head()"
   ]
  },
  {
   "cell_type": "markdown",
   "metadata": {},
   "source": [
    "The SEIFA data includes row for each Local Government Area (LGA) but the names of the LGAs have a letter or letters in brackets after the name.  To allow us to match this up with the voucher data we remove this and convert to uppercase. \n",
    "\n",
    "For each LGA the data includes a number of measures all of which could be useful in your exploration.  "
   ]
  },
  {
   "cell_type": "code",
   "execution_count": 3,
   "metadata": {},
   "outputs": [
    {
     "name": "stderr",
     "output_type": "stream",
     "text": [
      "<ipython-input-3-8c32cb05a179>:3: FutureWarning: The default value of regex will change from True to False in a future version.\n",
      "  lga = seifa[\"Local Government Areas - 2011\"].str.replace(' \\([ACSRCDMT]+\\)', '').str.upper()\n"
     ]
    },
    {
     "data": {
      "text/html": [
       "<div>\n",
       "<style scoped>\n",
       "    .dataframe tbody tr th:only-of-type {\n",
       "        vertical-align: middle;\n",
       "    }\n",
       "\n",
       "    .dataframe tbody tr th {\n",
       "        vertical-align: top;\n",
       "    }\n",
       "\n",
       "    .dataframe thead th {\n",
       "        text-align: right;\n",
       "    }\n",
       "</style>\n",
       "<table border=\"1\" class=\"dataframe\">\n",
       "  <thead>\n",
       "    <tr style=\"text-align: right;\">\n",
       "      <th></th>\n",
       "      <th>LGA_2011</th>\n",
       "      <th>Local Government Areas - 2011</th>\n",
       "      <th>INDEX_TYPE</th>\n",
       "      <th>Index Type</th>\n",
       "      <th>MEASURE</th>\n",
       "      <th>Measure</th>\n",
       "      <th>Value</th>\n",
       "      <th>LGA</th>\n",
       "    </tr>\n",
       "  </thead>\n",
       "  <tbody>\n",
       "    <tr>\n",
       "      <th>0</th>\n",
       "      <td>10050</td>\n",
       "      <td>Albury (C)</td>\n",
       "      <td>IRSAD</td>\n",
       "      <td>Index of Relative Socio-economic Advantage and...</td>\n",
       "      <td>SCORE</td>\n",
       "      <td>Score</td>\n",
       "      <td>967</td>\n",
       "      <td>ALBURY</td>\n",
       "    </tr>\n",
       "    <tr>\n",
       "      <th>1</th>\n",
       "      <td>10050</td>\n",
       "      <td>Albury (C)</td>\n",
       "      <td>IRSAD</td>\n",
       "      <td>Index of Relative Socio-economic Advantage and...</td>\n",
       "      <td>MINS</td>\n",
       "      <td>Minimum score for SA1s in area</td>\n",
       "      <td>628</td>\n",
       "      <td>ALBURY</td>\n",
       "    </tr>\n",
       "    <tr>\n",
       "      <th>2</th>\n",
       "      <td>10050</td>\n",
       "      <td>Albury (C)</td>\n",
       "      <td>IRSAD</td>\n",
       "      <td>Index of Relative Socio-economic Advantage and...</td>\n",
       "      <td>MAXS</td>\n",
       "      <td>Maximum score for SA1s in area</td>\n",
       "      <td>1169</td>\n",
       "      <td>ALBURY</td>\n",
       "    </tr>\n",
       "    <tr>\n",
       "      <th>3</th>\n",
       "      <td>10050</td>\n",
       "      <td>Albury (C)</td>\n",
       "      <td>IRSAD</td>\n",
       "      <td>Index of Relative Socio-economic Advantage and...</td>\n",
       "      <td>URP</td>\n",
       "      <td>Usual resident population</td>\n",
       "      <td>47851</td>\n",
       "      <td>ALBURY</td>\n",
       "    </tr>\n",
       "    <tr>\n",
       "      <th>4</th>\n",
       "      <td>10110</td>\n",
       "      <td>Armidale Dumaresq (A)</td>\n",
       "      <td>IRSAD</td>\n",
       "      <td>Index of Relative Socio-economic Advantage and...</td>\n",
       "      <td>SCORE</td>\n",
       "      <td>Score</td>\n",
       "      <td>985</td>\n",
       "      <td>ARMIDALE DUMARESQ</td>\n",
       "    </tr>\n",
       "  </tbody>\n",
       "</table>\n",
       "</div>"
      ],
      "text/plain": [
       "   LGA_2011 Local Government Areas - 2011 INDEX_TYPE  \\\n",
       "0     10050                    Albury (C)      IRSAD   \n",
       "1     10050                    Albury (C)      IRSAD   \n",
       "2     10050                    Albury (C)      IRSAD   \n",
       "3     10050                    Albury (C)      IRSAD   \n",
       "4     10110         Armidale Dumaresq (A)      IRSAD   \n",
       "\n",
       "                                          Index Type MEASURE  \\\n",
       "0  Index of Relative Socio-economic Advantage and...   SCORE   \n",
       "1  Index of Relative Socio-economic Advantage and...    MINS   \n",
       "2  Index of Relative Socio-economic Advantage and...    MAXS   \n",
       "3  Index of Relative Socio-economic Advantage and...     URP   \n",
       "4  Index of Relative Socio-economic Advantage and...   SCORE   \n",
       "\n",
       "                          Measure  Value                LGA  \n",
       "0                           Score    967             ALBURY  \n",
       "1  Minimum score for SA1s in area    628             ALBURY  \n",
       "2  Maximum score for SA1s in area   1169             ALBURY  \n",
       "3       Usual resident population  47851             ALBURY  \n",
       "4                           Score    985  ARMIDALE DUMARESQ  "
      ]
     },
     "execution_count": 3,
     "metadata": {},
     "output_type": "execute_result"
    }
   ],
   "source": [
    "# read the SEIFA data, create an LGA column by removing the letters in brackets and converting to uppercase\n",
    "seifa = pd.read_csv('files/ABS_SEIFA_LGA.csv')\n",
    "lga = seifa[\"Local Government Areas - 2011\"].str.replace(' \\([ACSRCDMT]+\\)', '').str.upper()\n",
    "seifa['LGA'] = lga\n",
    "seifa.head()"
   ]
  },
  {
   "cell_type": "markdown",
   "metadata": {},
   "source": [
    "Since there are many rows per LGA we need to use `pivot_table` to create a new data frame with one row per LGA. Here\n",
    "is an example of doing this to create a table with the different SCORE measures and the population (URP) field. "
   ]
  },
  {
   "cell_type": "code",
   "execution_count": 4,
   "metadata": {},
   "outputs": [
    {
     "data": {
      "text/html": [
       "<div>\n",
       "<style scoped>\n",
       "    .dataframe tbody tr th:only-of-type {\n",
       "        vertical-align: middle;\n",
       "    }\n",
       "\n",
       "    .dataframe tbody tr th {\n",
       "        vertical-align: top;\n",
       "    }\n",
       "\n",
       "    .dataframe thead th {\n",
       "        text-align: right;\n",
       "    }\n",
       "</style>\n",
       "<table border=\"1\" class=\"dataframe\">\n",
       "  <thead>\n",
       "    <tr style=\"text-align: right;\">\n",
       "      <th>INDEX_TYPE</th>\n",
       "      <th>IEO</th>\n",
       "      <th>IER</th>\n",
       "      <th>IRSAD</th>\n",
       "      <th>IRSD</th>\n",
       "      <th>Population</th>\n",
       "    </tr>\n",
       "    <tr>\n",
       "      <th>LGA</th>\n",
       "      <th></th>\n",
       "      <th></th>\n",
       "      <th></th>\n",
       "      <th></th>\n",
       "      <th></th>\n",
       "    </tr>\n",
       "  </thead>\n",
       "  <tbody>\n",
       "    <tr>\n",
       "      <th>ADELAIDE</th>\n",
       "      <td>874.0</td>\n",
       "      <td>874.0</td>\n",
       "      <td>1036.0</td>\n",
       "      <td>1013.0</td>\n",
       "      <td>19606.0</td>\n",
       "    </tr>\n",
       "    <tr>\n",
       "      <th>ADELAIDE HILLS</th>\n",
       "      <td>1083.0</td>\n",
       "      <td>1083.0</td>\n",
       "      <td>1077.0</td>\n",
       "      <td>1081.0</td>\n",
       "      <td>38601.0</td>\n",
       "    </tr>\n",
       "    <tr>\n",
       "      <th>ALBANY</th>\n",
       "      <td>999.0</td>\n",
       "      <td>999.0</td>\n",
       "      <td>977.0</td>\n",
       "      <td>987.0</td>\n",
       "      <td>33614.0</td>\n",
       "    </tr>\n",
       "    <tr>\n",
       "      <th>ALBURY</th>\n",
       "      <td>964.0</td>\n",
       "      <td>964.0</td>\n",
       "      <td>967.0</td>\n",
       "      <td>979.0</td>\n",
       "      <td>47851.0</td>\n",
       "    </tr>\n",
       "    <tr>\n",
       "      <th>ALEXANDRINA</th>\n",
       "      <td>1000.0</td>\n",
       "      <td>1000.0</td>\n",
       "      <td>969.0</td>\n",
       "      <td>987.0</td>\n",
       "      <td>23693.0</td>\n",
       "    </tr>\n",
       "  </tbody>\n",
       "</table>\n",
       "</div>"
      ],
      "text/plain": [
       "INDEX_TYPE         IEO     IER   IRSAD    IRSD  Population\n",
       "LGA                                                       \n",
       "ADELAIDE         874.0   874.0  1036.0  1013.0     19606.0\n",
       "ADELAIDE HILLS  1083.0  1083.0  1077.0  1081.0     38601.0\n",
       "ALBANY           999.0   999.0   977.0   987.0     33614.0\n",
       "ALBURY           964.0   964.0   967.0   979.0     47851.0\n",
       "ALEXANDRINA     1000.0  1000.0   969.0   987.0     23693.0"
      ]
     },
     "execution_count": 4,
     "metadata": {},
     "output_type": "execute_result"
    }
   ],
   "source": [
    "LGA_scores = seifa[seifa.MEASURE == 'SCORE'].pivot_table(index=\"LGA\", columns=[\"INDEX_TYPE\"], values=\"Value\")\n",
    "LGA_scores.head()\n",
    "LGA_pop = seifa[seifa.MEASURE == 'URP'].pivot_table(index=\"LGA\", columns=[\"INDEX_TYPE\"], values=\"Value\")\n",
    "LGA_scores['Population'] = LGA_pop.IEO\n",
    "LGA_scores.head()"
   ]
  },
  {
   "cell_type": "markdown",
   "metadata": {},
   "source": [
    "This data frame can then be joined with the vouchers data fram to create one master data frame containing both the voucher data and the SEIFA measures."
   ]
  },
  {
   "cell_type": "code",
   "execution_count": 5,
   "metadata": {},
   "outputs": [
    {
     "data": {
      "text/html": [
       "<div>\n",
       "<style scoped>\n",
       "    .dataframe tbody tr th:only-of-type {\n",
       "        vertical-align: middle;\n",
       "    }\n",
       "\n",
       "    .dataframe tbody tr th {\n",
       "        vertical-align: top;\n",
       "    }\n",
       "\n",
       "    .dataframe thead th {\n",
       "        text-align: right;\n",
       "    }\n",
       "</style>\n",
       "<table border=\"1\" class=\"dataframe\">\n",
       "  <thead>\n",
       "    <tr style=\"text-align: right;\">\n",
       "      <th></th>\n",
       "      <th>Participant_ID</th>\n",
       "      <th>Participant_Suburb</th>\n",
       "      <th>Club_Previous_Member</th>\n",
       "      <th>Participant_ATSI_Indicator</th>\n",
       "      <th>Participant_CALD_Indicator</th>\n",
       "      <th>Participant_Sex</th>\n",
       "      <th>Voucher_Value</th>\n",
       "      <th>Club_Name</th>\n",
       "      <th>Voucher_Sport</th>\n",
       "      <th>Participant_LGA</th>\n",
       "      <th>Participant_Electorate</th>\n",
       "      <th>Voucher_Completion_Date</th>\n",
       "      <th>Voucher_Claim_Year</th>\n",
       "      <th>IEO</th>\n",
       "      <th>IER</th>\n",
       "      <th>IRSAD</th>\n",
       "      <th>IRSD</th>\n",
       "      <th>Population</th>\n",
       "    </tr>\n",
       "  </thead>\n",
       "  <tbody>\n",
       "    <tr>\n",
       "      <th>0</th>\n",
       "      <td>1000002</td>\n",
       "      <td>ABERFOYLE PARK</td>\n",
       "      <td>Registered Previously</td>\n",
       "      <td>Not ATSI</td>\n",
       "      <td>Not CALD</td>\n",
       "      <td>Male</td>\n",
       "      <td>50</td>\n",
       "      <td>Flagstaff Hill Football Club</td>\n",
       "      <td>Australian Rules</td>\n",
       "      <td>ONKAPARINGA</td>\n",
       "      <td>FISHER</td>\n",
       "      <td>26/6/15 1:19</td>\n",
       "      <td>2015</td>\n",
       "      <td>996.0</td>\n",
       "      <td>996.0</td>\n",
       "      <td>975.0</td>\n",
       "      <td>993.0</td>\n",
       "      <td>159517.0</td>\n",
       "    </tr>\n",
       "    <tr>\n",
       "      <th>1</th>\n",
       "      <td>1000002</td>\n",
       "      <td>ABERFOYLE PARK</td>\n",
       "      <td>Registered Previously</td>\n",
       "      <td>Not ATSI</td>\n",
       "      <td>Not CALD</td>\n",
       "      <td>Male</td>\n",
       "      <td>50</td>\n",
       "      <td>Flagstaff Hill Football Club</td>\n",
       "      <td>Australian Rules</td>\n",
       "      <td>ONKAPARINGA</td>\n",
       "      <td>FISHER</td>\n",
       "      <td>29/6/16 23:55</td>\n",
       "      <td>2016</td>\n",
       "      <td>996.0</td>\n",
       "      <td>996.0</td>\n",
       "      <td>975.0</td>\n",
       "      <td>993.0</td>\n",
       "      <td>159517.0</td>\n",
       "    </tr>\n",
       "    <tr>\n",
       "      <th>2</th>\n",
       "      <td>1000004</td>\n",
       "      <td>ABERFOYLE PARK</td>\n",
       "      <td>Not Registered Previously</td>\n",
       "      <td>Not ATSI</td>\n",
       "      <td>Not CALD</td>\n",
       "      <td>Female</td>\n",
       "      <td>50</td>\n",
       "      <td>Hub Gymnastics Club</td>\n",
       "      <td>Gymnastics</td>\n",
       "      <td>ONKAPARINGA</td>\n",
       "      <td>FISHER</td>\n",
       "      <td>21/4/16 3:37</td>\n",
       "      <td>2016</td>\n",
       "      <td>996.0</td>\n",
       "      <td>996.0</td>\n",
       "      <td>975.0</td>\n",
       "      <td>993.0</td>\n",
       "      <td>159517.0</td>\n",
       "    </tr>\n",
       "    <tr>\n",
       "      <th>3</th>\n",
       "      <td>1000004</td>\n",
       "      <td>ABERFOYLE PARK</td>\n",
       "      <td>Registered Previously</td>\n",
       "      <td>Not ATSI</td>\n",
       "      <td>Not CALD</td>\n",
       "      <td>Female</td>\n",
       "      <td>50</td>\n",
       "      <td>Hub Gymnastics Club</td>\n",
       "      <td>Gymnastics</td>\n",
       "      <td>ONKAPARINGA</td>\n",
       "      <td>FISHER</td>\n",
       "      <td>30/3/17 0:47</td>\n",
       "      <td>2017</td>\n",
       "      <td>996.0</td>\n",
       "      <td>996.0</td>\n",
       "      <td>975.0</td>\n",
       "      <td>993.0</td>\n",
       "      <td>159517.0</td>\n",
       "    </tr>\n",
       "    <tr>\n",
       "      <th>4</th>\n",
       "      <td>1000005</td>\n",
       "      <td>ABERFOYLE PARK</td>\n",
       "      <td>Registered Previously</td>\n",
       "      <td>Not ATSI</td>\n",
       "      <td>Not CALD</td>\n",
       "      <td>Female</td>\n",
       "      <td>50</td>\n",
       "      <td>Blackwood Community Recreation Association</td>\n",
       "      <td>Gymnastics</td>\n",
       "      <td>ONKAPARINGA</td>\n",
       "      <td>FISHER</td>\n",
       "      <td>20/7/15 2:50</td>\n",
       "      <td>2015</td>\n",
       "      <td>996.0</td>\n",
       "      <td>996.0</td>\n",
       "      <td>975.0</td>\n",
       "      <td>993.0</td>\n",
       "      <td>159517.0</td>\n",
       "    </tr>\n",
       "  </tbody>\n",
       "</table>\n",
       "</div>"
      ],
      "text/plain": [
       "   Participant_ID Participant_Suburb       Club_Previous_Member  \\\n",
       "0         1000002     ABERFOYLE PARK      Registered Previously   \n",
       "1         1000002     ABERFOYLE PARK      Registered Previously   \n",
       "2         1000004     ABERFOYLE PARK  Not Registered Previously   \n",
       "3         1000004     ABERFOYLE PARK      Registered Previously   \n",
       "4         1000005     ABERFOYLE PARK      Registered Previously   \n",
       "\n",
       "  Participant_ATSI_Indicator Participant_CALD_Indicator Participant_Sex  \\\n",
       "0                   Not ATSI                   Not CALD            Male   \n",
       "1                   Not ATSI                   Not CALD            Male   \n",
       "2                   Not ATSI                   Not CALD          Female   \n",
       "3                   Not ATSI                   Not CALD          Female   \n",
       "4                   Not ATSI                   Not CALD          Female   \n",
       "\n",
       "   Voucher_Value                                   Club_Name  \\\n",
       "0             50                Flagstaff Hill Football Club   \n",
       "1             50                Flagstaff Hill Football Club   \n",
       "2             50                         Hub Gymnastics Club   \n",
       "3             50                         Hub Gymnastics Club   \n",
       "4             50  Blackwood Community Recreation Association   \n",
       "\n",
       "      Voucher_Sport Participant_LGA Participant_Electorate  \\\n",
       "0  Australian Rules     ONKAPARINGA                 FISHER   \n",
       "1  Australian Rules     ONKAPARINGA                 FISHER   \n",
       "2        Gymnastics     ONKAPARINGA                 FISHER   \n",
       "3        Gymnastics     ONKAPARINGA                 FISHER   \n",
       "4        Gymnastics     ONKAPARINGA                 FISHER   \n",
       "\n",
       "  Voucher_Completion_Date  Voucher_Claim_Year    IEO    IER  IRSAD   IRSD  \\\n",
       "0            26/6/15 1:19                2015  996.0  996.0  975.0  993.0   \n",
       "1           29/6/16 23:55                2016  996.0  996.0  975.0  993.0   \n",
       "2            21/4/16 3:37                2016  996.0  996.0  975.0  993.0   \n",
       "3            30/3/17 0:47                2017  996.0  996.0  975.0  993.0   \n",
       "4            20/7/15 2:50                2015  996.0  996.0  975.0  993.0   \n",
       "\n",
       "   Population  \n",
       "0    159517.0  \n",
       "1    159517.0  \n",
       "2    159517.0  \n",
       "3    159517.0  \n",
       "4    159517.0  "
      ]
     },
     "execution_count": 5,
     "metadata": {},
     "output_type": "execute_result"
    }
   ],
   "source": [
    "sa_vouchers_scores = sa_vouchers.join(LGA_scores, on='Participant_LGA')\n",
    "sa_vouchers_scores.head()"
   ]
  },
  {
   "cell_type": "markdown",
   "metadata": {},
   "source": [
    "# Describe the distribution of vouchers by: LGA, Sport - which regions/sports stand out?"
   ]
  },
  {
   "cell_type": "code",
   "execution_count": 6,
   "metadata": {
    "scrolled": true
   },
   "outputs": [
    {
     "name": "stdout",
     "output_type": "stream",
     "text": [
      "(127526, 18)\n",
      "Participant_ID                82469\n",
      "Participant_Suburb             1220\n",
      "Club_Previous_Member              2\n",
      "Participant_ATSI_Indicator        2\n",
      "Participant_CALD_Indicator        2\n",
      "Participant_Sex                   2\n",
      "Voucher_Value                    18\n",
      "Club_Name                      1162\n",
      "Voucher_Sport                    50\n",
      "Participant_LGA                  69\n",
      "Participant_Electorate           48\n",
      "Voucher_Completion_Date         273\n",
      "Voucher_Claim_Year                3\n",
      "IEO                              53\n",
      "IER                              53\n",
      "IRSAD                            55\n",
      "IRSD                             53\n",
      "Population                       62\n",
      "dtype: int64\n"
     ]
    }
   ],
   "source": [
    "print(sa_vouchers_scores.shape)\n",
    "print(sa_vouchers_scores.nunique())"
   ]
  },
  {
   "cell_type": "markdown",
   "metadata": {},
   "source": [
    "Based on preliminary exploration of the dataset there are 127526 vouchers distributed among 69 LGAs with 50 sports to select from.\n"
   ]
  },
  {
   "cell_type": "code",
   "execution_count": 7,
   "metadata": {},
   "outputs": [
    {
     "name": "stdout",
     "output_type": "stream",
     "text": [
      "Top 5 LGAs by Vouchers\n",
      "ONKAPARINGA       12782\n",
      "SALISBURY          8169\n",
      "TEA TREE GULLY     7219\n",
      "PLAYFORD           6940\n",
      "CHARLES STURT      6897\n",
      "Name: Participant_LGA, dtype: int64 \n",
      "\n",
      "Bottom 5 LGAs by Vouchers\n",
      "COOBER PEDY           39\n",
      "PETERBOROUGH          45\n",
      "FLINDERS RANGES      102\n",
      "ORROROO/CARRIETON    137\n",
      "FRANKLIN HARBOUR     155\n",
      "Name: Participant_LGA, dtype: int64\n",
      "127526\n"
     ]
    },
    {
     "data": {
      "image/png": "[encoded data removed]",
      "text/plain": [
       "<Figure size 1440x720 with 1 Axes>"
      ]
     },
     "metadata": {
      "needs_background": "light"
     },
     "output_type": "display_data"
    }
   ],
   "source": [
    "print('Top 5 LGAs by Vouchers')\n",
    "zzyy=sa_vouchers_scores[\"Participant_LGA\"].value_counts()\n",
    "print((sa_vouchers_scores[\"Participant_LGA\"].value_counts()).nlargest(5),\"\\n\")\n",
    "\n",
    "print('Bottom 5 LGAs by Vouchers')\n",
    "print((sa_vouchers_scores[\"Participant_LGA\"].value_counts()).nsmallest(5))\n",
    "\n",
    "#Plot\n",
    "ploterino = zzyy.plot(kind='bar',figsize =(20,10))\n",
    "print((sa_vouchers_scores[\"Participant_LGA\"]=='Adelaide').count())\n"
   ]
  },
  {
   "cell_type": "markdown",
   "metadata": {},
   "source": [
    "The highest amount of vouchers are used by the ONKAPARINA LGA which has significantly higher voucher counts than the second highest the SALISBURY LGA; 12782/8169 = 1.56. ONKAPRINGA had ~56% more voucher usage.\n",
    "\n",
    "Coober Pedy had the least amount of vouchers used (39/12782 = 0.3%) roughly 0.3% of the vouchers used by the top LGA of ONKAPARINGA. Peterborough is also an LGA of note as it has significantly less than the other bottom 5 similiar to COOBER PEDY.\n",
    "\n",
    "The graph shows a clear skew towards the left indicating that a higher voucher distribution occured in the top few LGAs."
   ]
  },
  {
   "cell_type": "code",
   "execution_count": 8,
   "metadata": {},
   "outputs": [
    {
     "name": "stdout",
     "output_type": "stream",
     "text": [
      "Top 5 Sports by Voucher Usage\n",
      "Australian Rules     47224\n",
      "Netball              24017\n",
      "Football (Soccer)    15775\n",
      "Gymnastics            9823\n",
      "Basketball            6016\n",
      "Name: Voucher_Sport, dtype: int64 \n",
      "\n",
      "Bottom 5 Sports by Voucher Usage\n",
      "Participant_ID                977\n",
      "Participant_Suburb            977\n",
      "Club_Previous_Member          977\n",
      "Participant_ATSI_Indicator    977\n",
      "Participant_CALD_Indicator    977\n",
      "Participant_Sex               977\n",
      "Voucher_Value                 977\n",
      "Club_Name                     977\n",
      "Voucher_Sport                 977\n",
      "Participant_LGA               977\n",
      "Participant_Electorate        977\n",
      "Voucher_Completion_Date       975\n",
      "Voucher_Claim_Year            977\n",
      "IEO                           977\n",
      "IER                           977\n",
      "IRSAD                         977\n",
      "IRSD                          977\n",
      "Population                    977\n",
      "dtype: int64\n"
     ]
    },
    {
     "data": {
      "text/plain": [
       "<AxesSubplot:>"
      ]
     },
     "execution_count": 8,
     "metadata": {},
     "output_type": "execute_result"
    },
    {
     "data": {
      "image/png": "[encoded data removed]",
      "text/plain": [
       "<Figure size 864x432 with 1 Axes>"
      ]
     },
     "metadata": {
      "needs_background": "light"
     },
     "output_type": "display_data"
    }
   ],
   "source": [
    "print('Top 5 Sports by Voucher Usage')\n",
    "print((sa_vouchers_scores[\"Voucher_Sport\"].value_counts()).nlargest(5),\"\\n\")\n",
    "xxyy= sa_vouchers_scores[\"Voucher_Sport\"].value_counts()\n",
    "\n",
    "print('Bottom 5 Sports by Voucher Usage')\n",
    "pnewdf= sa_vouchers_scores.loc[sa_vouchers_scores[\"Participant_LGA\"] == 'YORKE PENINSULA']\n",
    "print(pnewdf.count())\n",
    "#Plot\n",
    "xxyy.plot(kind='bar',figsize =(12,6))"
   ]
  },
  {
   "cell_type": "markdown",
   "metadata": {},
   "source": [
    "The most popular sport for vouchers is by far Australian Rules which has significantly higher voucher usage than the second highest Netball; 47224/24017= 1.96.  Australian Rules was selected ~96% more than Netball.\n",
    "\n",
    "The least popular sport for vouchers is bowls, kung fu and dancesports however the top 5 is closely related in terms of numbers.\n",
    "\n",
    "Based on the graph it can be seen that out of the 50 sports approximately the vast majority of vouchers were used in the top 10 spots with the main concentration of voucher use being in Australian Rules, Netball and Football."
   ]
  },
  {
   "cell_type": "markdown",
   "metadata": {},
   "source": [
    "# Are some sports more popular in different parts of the state?"
   ]
  },
  {
   "cell_type": "code",
   "execution_count": 9,
   "metadata": {
    "scrolled": false
   },
   "outputs": [
    {
     "data": {
      "text/plain": [
       "<AxesSubplot:xlabel='Participant_LGA', ylabel='Voucher_Sport'>"
      ]
     },
     "execution_count": 9,
     "metadata": {},
     "output_type": "execute_result"
    },
    {
     "data": {
      "image/png": "[encoded data removed]",
      "text/plain": [
       "<Figure size 1080x864 with 2 Axes>"
      ]
     },
     "metadata": {
      "needs_background": "light"
     },
     "output_type": "display_data"
    }
   ],
   "source": [
    "\n",
    "sa_vouchers_scores[\"vouche_total\"] = sa_vouchers_scores.groupby(['Participant_LGA'])['Participant_LGA'].transform('count')\n",
    "\n",
    "voucher_sport = sa_vouchers_scores.groupby(['Participant_LGA', 'Voucher_Sport',\"vouche_total\"]).size().reset_index()\n",
    "voucher_sport['Perc'] = voucher_sport[0]/voucher_sport['vouche_total']\n",
    "finalsports = voucher_sport.groupby(['Participant_LGA'])\n",
    "sports2 = voucher_sport.unstack(level=0)\n",
    "newest=voucher_sport.drop(voucher_sport.columns[[2, 3]],1)\n",
    "newest2 = newest.pivot(index='Voucher_Sport', columns='Participant_LGA', values='Perc')\n",
    "fig, ax = plt.subplots(figsize =(15,12))\n",
    "sns.heatmap(newest2, xticklabels=True,yticklabels =True)"
   ]
  },
  {
   "cell_type": "markdown",
   "metadata": {},
   "source": [
    "# Are any LGAs over/under represented in their use of vouchers?"
   ]
  },
  {
   "cell_type": "markdown",
   "metadata": {},
   "source": [
    "In the above explorations the LGAs with the most and least voucher distribution was identified, to identify if any LGA's are over or under represented the total vouchers were divided by the total population, LGA's with higher value counts than the expected vouchers based on population are over represented and vice versa for underrepresntation."
   ]
  },
  {
   "cell_type": "code",
   "execution_count": 10,
   "metadata": {},
   "outputs": [
    {
     "data": {
      "text/plain": [
       "Participant_ID                   0\n",
       "Participant_Suburb               0\n",
       "Club_Previous_Member             0\n",
       "Participant_ATSI_Indicator       0\n",
       "Participant_CALD_Indicator       0\n",
       "Participant_Sex                  0\n",
       "Voucher_Value                    0\n",
       "Club_Name                        0\n",
       "Voucher_Sport                    0\n",
       "Participant_LGA                  0\n",
       "Participant_Electorate           0\n",
       "Voucher_Completion_Date       2080\n",
       "Voucher_Claim_Year               0\n",
       "IEO                           9460\n",
       "IER                           9460\n",
       "IRSAD                         9460\n",
       "IRSD                          9460\n",
       "Population                    9460\n",
       "vouche_total                     0\n",
       "dtype: int64"
      ]
     },
     "execution_count": 10,
     "metadata": {},
     "output_type": "execute_result"
    }
   ],
   "source": [
    "sa_vouchers_scores.isna().sum()"
   ]
  },
  {
   "cell_type": "code",
   "execution_count": 11,
   "metadata": {},
   "outputs": [
    {
     "data": {
      "text/plain": [
       "(127526, 19)"
      ]
     },
     "execution_count": 11,
     "metadata": {},
     "output_type": "execute_result"
    }
   ],
   "source": [
    "sa_vouchers_scores.shape"
   ]
  },
  {
   "cell_type": "code",
   "execution_count": 12,
   "metadata": {},
   "outputs": [],
   "source": [
    "clean_sa_vouchers = sa_vouchers_scores.dropna(axis=0)"
   ]
  },
  {
   "cell_type": "code",
   "execution_count": 13,
   "metadata": {},
   "outputs": [
    {
     "data": {
      "text/plain": [
       "(116229, 19)"
      ]
     },
     "execution_count": 13,
     "metadata": {},
     "output_type": "execute_result"
    }
   ],
   "source": [
    "clean_sa_vouchers.shape"
   ]
  },
  {
   "cell_type": "markdown",
   "metadata": {},
   "source": [
    "As can be seen there are NaN values for certain LGA's population column. The NaN values will be dropped to create a cleaner data set that better represents the overlying data. The rows deleted will amount to 9460 from a total of 127526."
   ]
  },
  {
   "cell_type": "code",
   "execution_count": 14,
   "metadata": {},
   "outputs": [],
   "source": [
    "trail=clean_sa_vouchers.groupby([\"Participant_LGA\"])"
   ]
  },
  {
   "cell_type": "code",
   "execution_count": 15,
   "metadata": {},
   "outputs": [
    {
     "data": {
      "text/plain": [
       "Participant_LGA\n",
       "ADELAIDE           19606.0\n",
       "ADELAIDE HILLS     38601.0\n",
       "ALEXANDRINA        23693.0\n",
       "BAROSSA            22174.0\n",
       "BARUNGA WEST        2467.0\n",
       "                    ...   \n",
       "WEST TORRENS       54932.0\n",
       "WHYALLA            22070.0\n",
       "WUDINNA             1256.0\n",
       "YANKALILLA          4406.0\n",
       "YORKE PENINSULA    11046.0\n",
       "Name: Population, Length: 62, dtype: float64"
      ]
     },
     "execution_count": 15,
     "metadata": {},
     "output_type": "execute_result"
    }
   ],
   "source": [
    "trail['Population'].mean()"
   ]
  },
  {
   "cell_type": "code",
   "execution_count": 16,
   "metadata": {},
   "outputs": [
    {
     "data": {
      "text/html": [
       "<div>\n",
       "<style scoped>\n",
       "    .dataframe tbody tr th:only-of-type {\n",
       "        vertical-align: middle;\n",
       "    }\n",
       "\n",
       "    .dataframe tbody tr th {\n",
       "        vertical-align: top;\n",
       "    }\n",
       "\n",
       "    .dataframe thead th {\n",
       "        text-align: right;\n",
       "    }\n",
       "</style>\n",
       "<table border=\"1\" class=\"dataframe\">\n",
       "  <thead>\n",
       "    <tr style=\"text-align: right;\">\n",
       "      <th></th>\n",
       "      <th>Participant_ID</th>\n",
       "      <th>Participant_Suburb</th>\n",
       "      <th>Club_Previous_Member</th>\n",
       "      <th>Participant_ATSI_Indicator</th>\n",
       "      <th>Participant_CALD_Indicator</th>\n",
       "      <th>Participant_Sex</th>\n",
       "      <th>Voucher_Value</th>\n",
       "      <th>Club_Name</th>\n",
       "      <th>Voucher_Sport</th>\n",
       "      <th>Participant_LGA</th>\n",
       "      <th>Participant_Electorate</th>\n",
       "      <th>Voucher_Completion_Date</th>\n",
       "      <th>Voucher_Claim_Year</th>\n",
       "      <th>IEO</th>\n",
       "      <th>IER</th>\n",
       "      <th>IRSAD</th>\n",
       "      <th>IRSD</th>\n",
       "      <th>Population</th>\n",
       "      <th>vouche_total</th>\n",
       "    </tr>\n",
       "  </thead>\n",
       "  <tbody>\n",
       "    <tr>\n",
       "      <th>0</th>\n",
       "      <td>1000002</td>\n",
       "      <td>ABERFOYLE PARK</td>\n",
       "      <td>Registered Previously</td>\n",
       "      <td>Not ATSI</td>\n",
       "      <td>Not CALD</td>\n",
       "      <td>Male</td>\n",
       "      <td>50</td>\n",
       "      <td>Flagstaff Hill Football Club</td>\n",
       "      <td>Australian Rules</td>\n",
       "      <td>ONKAPARINGA</td>\n",
       "      <td>FISHER</td>\n",
       "      <td>26/6/15 1:19</td>\n",
       "      <td>2015</td>\n",
       "      <td>996.0</td>\n",
       "      <td>996.0</td>\n",
       "      <td>975.0</td>\n",
       "      <td>993.0</td>\n",
       "      <td>159517.0</td>\n",
       "      <td>12782</td>\n",
       "    </tr>\n",
       "    <tr>\n",
       "      <th>1</th>\n",
       "      <td>1000002</td>\n",
       "      <td>ABERFOYLE PARK</td>\n",
       "      <td>Registered Previously</td>\n",
       "      <td>Not ATSI</td>\n",
       "      <td>Not CALD</td>\n",
       "      <td>Male</td>\n",
       "      <td>50</td>\n",
       "      <td>Flagstaff Hill Football Club</td>\n",
       "      <td>Australian Rules</td>\n",
       "      <td>ONKAPARINGA</td>\n",
       "      <td>FISHER</td>\n",
       "      <td>29/6/16 23:55</td>\n",
       "      <td>2016</td>\n",
       "      <td>996.0</td>\n",
       "      <td>996.0</td>\n",
       "      <td>975.0</td>\n",
       "      <td>993.0</td>\n",
       "      <td>159517.0</td>\n",
       "      <td>12782</td>\n",
       "    </tr>\n",
       "    <tr>\n",
       "      <th>2</th>\n",
       "      <td>1000004</td>\n",
       "      <td>ABERFOYLE PARK</td>\n",
       "      <td>Not Registered Previously</td>\n",
       "      <td>Not ATSI</td>\n",
       "      <td>Not CALD</td>\n",
       "      <td>Female</td>\n",
       "      <td>50</td>\n",
       "      <td>Hub Gymnastics Club</td>\n",
       "      <td>Gymnastics</td>\n",
       "      <td>ONKAPARINGA</td>\n",
       "      <td>FISHER</td>\n",
       "      <td>21/4/16 3:37</td>\n",
       "      <td>2016</td>\n",
       "      <td>996.0</td>\n",
       "      <td>996.0</td>\n",
       "      <td>975.0</td>\n",
       "      <td>993.0</td>\n",
       "      <td>159517.0</td>\n",
       "      <td>12782</td>\n",
       "    </tr>\n",
       "    <tr>\n",
       "      <th>3</th>\n",
       "      <td>1000004</td>\n",
       "      <td>ABERFOYLE PARK</td>\n",
       "      <td>Registered Previously</td>\n",
       "      <td>Not ATSI</td>\n",
       "      <td>Not CALD</td>\n",
       "      <td>Female</td>\n",
       "      <td>50</td>\n",
       "      <td>Hub Gymnastics Club</td>\n",
       "      <td>Gymnastics</td>\n",
       "      <td>ONKAPARINGA</td>\n",
       "      <td>FISHER</td>\n",
       "      <td>30/3/17 0:47</td>\n",
       "      <td>2017</td>\n",
       "      <td>996.0</td>\n",
       "      <td>996.0</td>\n",
       "      <td>975.0</td>\n",
       "      <td>993.0</td>\n",
       "      <td>159517.0</td>\n",
       "      <td>12782</td>\n",
       "    </tr>\n",
       "    <tr>\n",
       "      <th>4</th>\n",
       "      <td>1000005</td>\n",
       "      <td>ABERFOYLE PARK</td>\n",
       "      <td>Registered Previously</td>\n",
       "      <td>Not ATSI</td>\n",
       "      <td>Not CALD</td>\n",
       "      <td>Female</td>\n",
       "      <td>50</td>\n",
       "      <td>Blackwood Community Recreation Association</td>\n",
       "      <td>Gymnastics</td>\n",
       "      <td>ONKAPARINGA</td>\n",
       "      <td>FISHER</td>\n",
       "      <td>20/7/15 2:50</td>\n",
       "      <td>2015</td>\n",
       "      <td>996.0</td>\n",
       "      <td>996.0</td>\n",
       "      <td>975.0</td>\n",
       "      <td>993.0</td>\n",
       "      <td>159517.0</td>\n",
       "      <td>12782</td>\n",
       "    </tr>\n",
       "    <tr>\n",
       "      <th>...</th>\n",
       "      <td>...</td>\n",
       "      <td>...</td>\n",
       "      <td>...</td>\n",
       "      <td>...</td>\n",
       "      <td>...</td>\n",
       "      <td>...</td>\n",
       "      <td>...</td>\n",
       "      <td>...</td>\n",
       "      <td>...</td>\n",
       "      <td>...</td>\n",
       "      <td>...</td>\n",
       "      <td>...</td>\n",
       "      <td>...</td>\n",
       "      <td>...</td>\n",
       "      <td>...</td>\n",
       "      <td>...</td>\n",
       "      <td>...</td>\n",
       "      <td>...</td>\n",
       "      <td>...</td>\n",
       "    </tr>\n",
       "    <tr>\n",
       "      <th>127521</th>\n",
       "      <td>1127524</td>\n",
       "      <td>ZADOWS LANDING</td>\n",
       "      <td>Registered Previously</td>\n",
       "      <td>Not ATSI</td>\n",
       "      <td>Not CALD</td>\n",
       "      <td>Female</td>\n",
       "      <td>50</td>\n",
       "      <td>Mannum Roos Netball Club</td>\n",
       "      <td>Netball</td>\n",
       "      <td>MID MURRAY</td>\n",
       "      <td>SCHUBERT</td>\n",
       "      <td>15/8/16 1:33</td>\n",
       "      <td>2016</td>\n",
       "      <td>965.0</td>\n",
       "      <td>965.0</td>\n",
       "      <td>917.0</td>\n",
       "      <td>937.0</td>\n",
       "      <td>8134.0</td>\n",
       "      <td>751</td>\n",
       "    </tr>\n",
       "    <tr>\n",
       "      <th>127522</th>\n",
       "      <td>1127524</td>\n",
       "      <td>ZADOWS LANDING</td>\n",
       "      <td>Registered Previously</td>\n",
       "      <td>Not ATSI</td>\n",
       "      <td>Not CALD</td>\n",
       "      <td>Female</td>\n",
       "      <td>50</td>\n",
       "      <td>Mannum Roos Netball Club</td>\n",
       "      <td>Netball</td>\n",
       "      <td>MID MURRAY</td>\n",
       "      <td>SCHUBERT</td>\n",
       "      <td>13/7/15 23:42</td>\n",
       "      <td>2015</td>\n",
       "      <td>965.0</td>\n",
       "      <td>965.0</td>\n",
       "      <td>917.0</td>\n",
       "      <td>937.0</td>\n",
       "      <td>8134.0</td>\n",
       "      <td>751</td>\n",
       "    </tr>\n",
       "    <tr>\n",
       "      <th>127523</th>\n",
       "      <td>1127524</td>\n",
       "      <td>ZADOWS LANDING</td>\n",
       "      <td>Registered Previously</td>\n",
       "      <td>Not ATSI</td>\n",
       "      <td>Not CALD</td>\n",
       "      <td>Female</td>\n",
       "      <td>50</td>\n",
       "      <td>Mannum Roos Netball Club</td>\n",
       "      <td>Netball</td>\n",
       "      <td>MID MURRAY</td>\n",
       "      <td>SCHUBERT</td>\n",
       "      <td>30/6/17 6:07</td>\n",
       "      <td>2017</td>\n",
       "      <td>965.0</td>\n",
       "      <td>965.0</td>\n",
       "      <td>917.0</td>\n",
       "      <td>937.0</td>\n",
       "      <td>8134.0</td>\n",
       "      <td>751</td>\n",
       "    </tr>\n",
       "    <tr>\n",
       "      <th>127524</th>\n",
       "      <td>1127526</td>\n",
       "      <td>ZADOWS LANDING</td>\n",
       "      <td>Registered Previously</td>\n",
       "      <td>Not ATSI</td>\n",
       "      <td>Not CALD</td>\n",
       "      <td>Female</td>\n",
       "      <td>50</td>\n",
       "      <td>Mannum Roos Netball Club</td>\n",
       "      <td>Netball</td>\n",
       "      <td>MID MURRAY</td>\n",
       "      <td>SCHUBERT</td>\n",
       "      <td>28/4/15 0:06</td>\n",
       "      <td>2015</td>\n",
       "      <td>965.0</td>\n",
       "      <td>965.0</td>\n",
       "      <td>917.0</td>\n",
       "      <td>937.0</td>\n",
       "      <td>8134.0</td>\n",
       "      <td>751</td>\n",
       "    </tr>\n",
       "    <tr>\n",
       "      <th>127525</th>\n",
       "      <td>1127526</td>\n",
       "      <td>ZADOWS LANDING</td>\n",
       "      <td>Registered Previously</td>\n",
       "      <td>Not ATSI</td>\n",
       "      <td>Not CALD</td>\n",
       "      <td>Female</td>\n",
       "      <td>50</td>\n",
       "      <td>Mannum Roos Netball Club</td>\n",
       "      <td>Netball</td>\n",
       "      <td>MID MURRAY</td>\n",
       "      <td>SCHUBERT</td>\n",
       "      <td>29/3/16 23:57</td>\n",
       "      <td>2016</td>\n",
       "      <td>965.0</td>\n",
       "      <td>965.0</td>\n",
       "      <td>917.0</td>\n",
       "      <td>937.0</td>\n",
       "      <td>8134.0</td>\n",
       "      <td>751</td>\n",
       "    </tr>\n",
       "  </tbody>\n",
       "</table>\n",
       "<p>116229 rows × 19 columns</p>\n",
       "</div>"
      ],
      "text/plain": [
       "        Participant_ID Participant_Suburb       Club_Previous_Member  \\\n",
       "0              1000002     ABERFOYLE PARK      Registered Previously   \n",
       "1              1000002     ABERFOYLE PARK      Registered Previously   \n",
       "2              1000004     ABERFOYLE PARK  Not Registered Previously   \n",
       "3              1000004     ABERFOYLE PARK      Registered Previously   \n",
       "4              1000005     ABERFOYLE PARK      Registered Previously   \n",
       "...                ...                ...                        ...   \n",
       "127521         1127524     ZADOWS LANDING      Registered Previously   \n",
       "127522         1127524     ZADOWS LANDING      Registered Previously   \n",
       "127523         1127524     ZADOWS LANDING      Registered Previously   \n",
       "127524         1127526     ZADOWS LANDING      Registered Previously   \n",
       "127525         1127526     ZADOWS LANDING      Registered Previously   \n",
       "\n",
       "       Participant_ATSI_Indicator Participant_CALD_Indicator Participant_Sex  \\\n",
       "0                        Not ATSI                   Not CALD            Male   \n",
       "1                        Not ATSI                   Not CALD            Male   \n",
       "2                        Not ATSI                   Not CALD          Female   \n",
       "3                        Not ATSI                   Not CALD          Female   \n",
       "4                        Not ATSI                   Not CALD          Female   \n",
       "...                           ...                        ...             ...   \n",
       "127521                   Not ATSI                   Not CALD          Female   \n",
       "127522                   Not ATSI                   Not CALD          Female   \n",
       "127523                   Not ATSI                   Not CALD          Female   \n",
       "127524                   Not ATSI                   Not CALD          Female   \n",
       "127525                   Not ATSI                   Not CALD          Female   \n",
       "\n",
       "        Voucher_Value                                   Club_Name  \\\n",
       "0                  50                Flagstaff Hill Football Club   \n",
       "1                  50                Flagstaff Hill Football Club   \n",
       "2                  50                         Hub Gymnastics Club   \n",
       "3                  50                         Hub Gymnastics Club   \n",
       "4                  50  Blackwood Community Recreation Association   \n",
       "...               ...                                         ...   \n",
       "127521             50                    Mannum Roos Netball Club   \n",
       "127522             50                    Mannum Roos Netball Club   \n",
       "127523             50                    Mannum Roos Netball Club   \n",
       "127524             50                    Mannum Roos Netball Club   \n",
       "127525             50                    Mannum Roos Netball Club   \n",
       "\n",
       "           Voucher_Sport Participant_LGA Participant_Electorate  \\\n",
       "0       Australian Rules     ONKAPARINGA                 FISHER   \n",
       "1       Australian Rules     ONKAPARINGA                 FISHER   \n",
       "2             Gymnastics     ONKAPARINGA                 FISHER   \n",
       "3             Gymnastics     ONKAPARINGA                 FISHER   \n",
       "4             Gymnastics     ONKAPARINGA                 FISHER   \n",
       "...                  ...             ...                    ...   \n",
       "127521           Netball      MID MURRAY               SCHUBERT   \n",
       "127522           Netball      MID MURRAY               SCHUBERT   \n",
       "127523           Netball      MID MURRAY               SCHUBERT   \n",
       "127524           Netball      MID MURRAY               SCHUBERT   \n",
       "127525           Netball      MID MURRAY               SCHUBERT   \n",
       "\n",
       "       Voucher_Completion_Date  Voucher_Claim_Year    IEO    IER  IRSAD  \\\n",
       "0                 26/6/15 1:19                2015  996.0  996.0  975.0   \n",
       "1                29/6/16 23:55                2016  996.0  996.0  975.0   \n",
       "2                 21/4/16 3:37                2016  996.0  996.0  975.0   \n",
       "3                 30/3/17 0:47                2017  996.0  996.0  975.0   \n",
       "4                 20/7/15 2:50                2015  996.0  996.0  975.0   \n",
       "...                        ...                 ...    ...    ...    ...   \n",
       "127521            15/8/16 1:33                2016  965.0  965.0  917.0   \n",
       "127522           13/7/15 23:42                2015  965.0  965.0  917.0   \n",
       "127523            30/6/17 6:07                2017  965.0  965.0  917.0   \n",
       "127524            28/4/15 0:06                2015  965.0  965.0  917.0   \n",
       "127525           29/3/16 23:57                2016  965.0  965.0  917.0   \n",
       "\n",
       "         IRSD  Population  vouche_total  \n",
       "0       993.0    159517.0         12782  \n",
       "1       993.0    159517.0         12782  \n",
       "2       993.0    159517.0         12782  \n",
       "3       993.0    159517.0         12782  \n",
       "4       993.0    159517.0         12782  \n",
       "...       ...         ...           ...  \n",
       "127521  937.0      8134.0           751  \n",
       "127522  937.0      8134.0           751  \n",
       "127523  937.0      8134.0           751  \n",
       "127524  937.0      8134.0           751  \n",
       "127525  937.0      8134.0           751  \n",
       "\n",
       "[116229 rows x 19 columns]"
      ]
     },
     "execution_count": 16,
     "metadata": {},
     "output_type": "execute_result"
    }
   ],
   "source": [
    "clean_sa_vouchers"
   ]
  },
  {
   "cell_type": "code",
   "execution_count": 17,
   "metadata": {},
   "outputs": [],
   "source": [
    "newdf= trail['Participant_LGA'].count()\n",
    "\n",
    "final = pd.DataFrame({'Voucher Count':newdf.values, 'Population':trail['Population'].mean() })\n",
    "final['Population'] = trail['Population'].mean()"
   ]
  },
  {
   "cell_type": "code",
   "execution_count": 18,
   "metadata": {},
   "outputs": [
    {
     "name": "stdout",
     "output_type": "stream",
     "text": [
      "                 Voucher Count  Population\n",
      "Participant_LGA                           \n",
      "ADELAIDE                   296     19606.0\n",
      "ADELAIDE HILLS            4652     38601.0\n",
      "ALEXANDRINA               2938     23693.0\n",
      "BAROSSA                   2861     22174.0\n",
      "BARUNGA WEST               332      2467.0\n",
      "...                        ...         ...\n",
      "WEST TORRENS              2806     54932.0\n",
      "WHYALLA                   2439     22070.0\n",
      "WUDINNA                    267      1256.0\n",
      "YANKALILLA                 439      4406.0\n",
      "YORKE PENINSULA            975     11046.0\n",
      "\n",
      "[62 rows x 2 columns]\n"
     ]
    }
   ],
   "source": [
    "print(final)"
   ]
  },
  {
   "cell_type": "code",
   "execution_count": 19,
   "metadata": {},
   "outputs": [],
   "source": [
    "final['Voucher_per_pop'] = final['Voucher Count']/final['Population']"
   ]
  },
  {
   "cell_type": "code",
   "execution_count": 20,
   "metadata": {},
   "outputs": [
    {
     "name": "stdout",
     "output_type": "stream",
     "text": [
      "                 Voucher Count  Population  Voucher_per_pop\n",
      "Participant_LGA                                            \n",
      "ADELAIDE                   296     19606.0         0.015097\n",
      "ADELAIDE HILLS            4652     38601.0         0.120515\n",
      "ALEXANDRINA               2938     23693.0         0.124003\n",
      "BAROSSA                   2861     22174.0         0.129025\n",
      "BARUNGA WEST               332      2467.0         0.134576\n",
      "...                        ...         ...              ...\n",
      "WEST TORRENS              2806     54932.0         0.051081\n",
      "WHYALLA                   2439     22070.0         0.110512\n",
      "WUDINNA                    267      1256.0         0.212580\n",
      "YANKALILLA                 439      4406.0         0.099637\n",
      "YORKE PENINSULA            975     11046.0         0.088267\n",
      "\n",
      "[62 rows x 3 columns]\n"
     ]
    }
   ],
   "source": [
    "print(final)"
   ]
  },
  {
   "cell_type": "code",
   "execution_count": 21,
   "metadata": {},
   "outputs": [],
   "source": [
    "#final.drop(columns=\"Participant_LGA\")"
   ]
  },
  {
   "cell_type": "code",
   "execution_count": 22,
   "metadata": {
    "scrolled": true
   },
   "outputs": [
    {
     "name": "stdout",
     "output_type": "stream",
     "text": [
      "0.10189537805615707\n"
     ]
    }
   ],
   "source": [
    "chino = final['Voucher_per_pop'].mean()\n",
    "print(chino)"
   ]
  },
  {
   "cell_type": "markdown",
   "metadata": {},
   "source": [
    "all LGA's whos voucher per pop is above the mean is over represented"
   ]
  },
  {
   "cell_type": "code",
   "execution_count": 23,
   "metadata": {},
   "outputs": [],
   "source": [
    "overrep = (final[final['Voucher_per_pop'] > (chino)])\n",
    "underrep= (final[final['Voucher_per_pop'] < (chino)])\n"
   ]
  },
  {
   "cell_type": "code",
   "execution_count": 24,
   "metadata": {
    "scrolled": false
   },
   "outputs": [
    {
     "name": "stdout",
     "output_type": "stream",
     "text": [
      "                      Voucher Count  Population  Voucher_per_pop\n",
      "Participant_LGA                                                 \n",
      "KAROONDA EAST MURRAY            378      1035.0         0.365217\n",
      "WUDINNA                         267      1256.0         0.212580\n",
      "KIMBA                           211      1087.0         0.194112\n",
      "CLEVE                           325      1729.0         0.187970\n",
      "SOUTHERN MALLEE                 342      2097.0         0.163090\n",
      "                 Voucher Count  Population  Voucher_per_pop\n",
      "Participant_LGA                                            \n",
      "KINGSTON                   288     72380.5         0.003979\n",
      "ADELAIDE                   296     19606.0         0.015097\n",
      "COOBER PEDY                 39      1694.0         0.023022\n",
      "CAMPBELLTOWN              2513     97060.0         0.025891\n",
      "PETERBOROUGH                45      1733.0         0.025967\n",
      "                 Voucher Count  Population  Voucher_per_pop  mean_delta\n",
      "Participant_LGA                                                        \n",
      "ADELAIDE                   296     19606.0         0.015097   -0.086798\n",
      "ADELAIDE HILLS            4652     38601.0         0.120515    0.018620\n",
      "ALEXANDRINA               2938     23693.0         0.124003    0.022107\n",
      "BAROSSA                   2861     22174.0         0.129025    0.027130\n",
      "BARUNGA WEST               332      2467.0         0.134576    0.032681\n",
      "...                        ...         ...              ...         ...\n",
      "WEST TORRENS              2806     54932.0         0.051081   -0.050814\n",
      "WHYALLA                   2439     22070.0         0.110512    0.008617\n",
      "WUDINNA                    267      1256.0         0.212580    0.110684\n",
      "YANKALILLA                 439      4406.0         0.099637   -0.002259\n",
      "YORKE PENINSULA            975     11046.0         0.088267   -0.013628\n",
      "\n",
      "[62 rows x 4 columns]\n"
     ]
    },
    {
     "name": "stderr",
     "output_type": "stream",
     "text": [
      "<ipython-input-24-55cb249a48a5>:1: SettingWithCopyWarning: \n",
      "A value is trying to be set on a copy of a slice from a DataFrame\n",
      "\n",
      "See the caveats in the documentation: https://pandas.pydata.org/pandas-docs/stable/user_guide/indexing.html#returning-a-view-versus-a-copy\n",
      "  overrep.sort_values(by=['Voucher_per_pop'], inplace=True, ascending=False)\n",
      "<ipython-input-24-55cb249a48a5>:4: SettingWithCopyWarning: \n",
      "A value is trying to be set on a copy of a slice from a DataFrame\n",
      "\n",
      "See the caveats in the documentation: https://pandas.pydata.org/pandas-docs/stable/user_guide/indexing.html#returning-a-view-versus-a-copy\n",
      "  underrep.sort_values(by=['Voucher_per_pop'], inplace=True, ascending=True)\n"
     ]
    }
   ],
   "source": [
    "overrep.sort_values(by=['Voucher_per_pop'], inplace=True, ascending=False)\n",
    "print(overrep.head())\n",
    "\n",
    "underrep.sort_values(by=['Voucher_per_pop'], inplace=True, ascending=True)\n",
    "print(underrep.head())\n",
    "\n",
    "final['mean_delta'] = (final['Voucher_per_pop'] - chino)\n",
    "print(final)\n",
    "#sns.set(style='darkgrid')"
   ]
  },
  {
   "cell_type": "markdown",
   "metadata": {},
   "source": [
    "#sns.set(style='darkgrid')\n",
    "plt.figure(figsize=(100,25))\n",
    "sns.barplot(x=final.index, y='Voucher_per_pop', data=final,\n",
    "            color='#3792CB', edgecolor= 'black',\n",
    "            bottom=chino)  # <-- set the bottom of the bars\n"
   ]
  },
  {
   "cell_type": "code",
   "execution_count": 25,
   "metadata": {},
   "outputs": [
    {
     "data": {
      "text/plain": [
       "<AxesSubplot:xlabel='Participant_LGA'>"
      ]
     },
     "execution_count": 25,
     "metadata": {},
     "output_type": "execute_result"
    },
    {
     "data": {
      "image/png": "[encoded data removed]",
      "text/plain": [
       "<Figure size 1440x1080 with 1 Axes>"
      ]
     },
     "metadata": {
      "needs_background": "light"
     },
     "output_type": "display_data"
    }
   ],
   "source": [
    "final.plot(kind = 'bar', y='mean_delta',figsize=(20,15) )"
   ]
  },
  {
   "cell_type": "markdown",
   "metadata": {},
   "source": [
    "As can be seen certain areas have been significantly over represented in their usage of vouchers per population. Kingston and Adelaide have a significantly lower amount"
   ]
  },
  {
   "cell_type": "markdown",
   "metadata": {},
   "source": [
    "# Is there a relationship between any of the SEIFA measures and voucher use in an LGA?"
   ]
  },
  {
   "cell_type": "code",
   "execution_count": 26,
   "metadata": {},
   "outputs": [],
   "source": [
    "testLGA = pd.merge(final, LGA_scores, left_index=True, right_index=True)\n",
    "testLGA=testLGA.drop(['Voucher Count'],axis =1)\n",
    "testLGA=testLGA.drop(['Population_x'],axis =1)\n",
    "testLGA=testLGA.drop(['Population_y'],axis =1)"
   ]
  },
  {
   "cell_type": "code",
   "execution_count": 27,
   "metadata": {},
   "outputs": [
    {
     "name": "stdout",
     "output_type": "stream",
     "text": [
      "                 Voucher_per_pop  mean_delta     IEO     IER   IRSAD    IRSD\n",
      "ADELAIDE                0.015097   -0.086798   874.0   874.0  1036.0  1013.0\n",
      "ADELAIDE HILLS          0.120515    0.018620  1083.0  1083.0  1077.0  1081.0\n",
      "ALEXANDRINA             0.124003    0.022107  1000.0  1000.0   969.0   987.0\n",
      "BAROSSA                 0.129025    0.027130  1028.0  1028.0   997.0  1017.0\n",
      "BARUNGA WEST            0.134576    0.032681   981.0   981.0   940.0   954.0\n",
      "...                          ...         ...     ...     ...     ...     ...\n",
      "WEST TORRENS            0.051081   -0.050814   949.0   949.0   989.0   998.0\n",
      "WHYALLA                 0.110512    0.008617   905.0   905.0   897.0   905.0\n",
      "WUDINNA                 0.212580    0.110684  1008.0  1008.0   999.0  1023.0\n",
      "YANKALILLA              0.099637   -0.002259   990.0   990.0   957.0   972.0\n",
      "YORKE PENINSULA         0.088267   -0.013628   969.0   969.0   933.0   952.0\n",
      "\n",
      "[62 rows x 6 columns]\n"
     ]
    }
   ],
   "source": [
    "print(testLGA)"
   ]
  },
  {
   "cell_type": "code",
   "execution_count": 28,
   "metadata": {},
   "outputs": [
    {
     "data": {
      "text/plain": [
       "<AxesSubplot:xlabel='Voucher_per_pop', ylabel='IRSD'>"
      ]
     },
     "execution_count": 28,
     "metadata": {},
     "output_type": "execute_result"
    },
    {
     "data": {
      "image/png": "[encoded data removed]",
      "text/plain": [
       "<Figure size 720x720 with 1 Axes>"
      ]
     },
     "metadata": {
      "needs_background": "light"
     },
     "output_type": "display_data"
    }
   ],
   "source": [
    "testLGA.sort_values(by=['Voucher_per_pop'], inplace=True, ascending=False)\n",
    "testLGA.plot(kind = 'scatter',x='Voucher_per_pop',   y='IRSD',figsize=(10,10) )"
   ]
  },
  {
   "cell_type": "code",
   "execution_count": 29,
   "metadata": {},
   "outputs": [
    {
     "name": "stdout",
     "output_type": "stream",
     "text": [
      "0.25433683683488456\n",
      "0.25433683683488456\n",
      "-0.02882647108627505\n",
      "0.06270914578322559\n"
     ]
    }
   ],
   "source": [
    "corrIER = testLGA['Voucher_per_pop'].corr(testLGA['IER'])\n",
    "corrIEO = testLGA['Voucher_per_pop'].corr(testLGA['IEO'])\n",
    "corrIRSAD=testLGA['Voucher_per_pop'].corr(testLGA['IRSAD'])\n",
    "corrIRSD=testLGA['Voucher_per_pop'].corr(testLGA['IRSD'])\n",
    "print(corrIER)\n",
    "print(corrIEO)\n",
    "print(corrIRSAD)\n",
    "print(corrIRSD)"
   ]
  },
  {
   "cell_type": "markdown",
   "metadata": {},
   "source": [
    "to further exmeplify the lack of correlation the correlation data shows that There appears to be no correlation between any of the IESAF"
   ]
  },
  {
   "cell_type": "markdown",
   "metadata": {},
   "source": [
    "## Challenge - Queensland\n",
    "\n",
    "_Note: this is an extra task that you might take on to get a better grade for your portfolio.  You can get a good pass grade without doing this._ \n",
    "\n",
    "Queensland has a similar program called [Get Started](https://data.gov.au/dataset/ds-qld-3118838a-d425-48fa-bfc9-bc615ddae44e/details?q=get%20started%20vouchers) and we can retrieve data from their program in a similar format.  \n",
    "\n",
    "The file [round1-redeemed_get_started_vouchers.csv](files/round1-redeemed_get_started_vouchers.csv) contains records of the vouchers issued in Queensland. The date of this data is not included but the program started in 2015 so it is probably from around then.  \n",
    "\n",
    "The data includes the LGA of the individual but the name of the activity is slightly different.  To do a comparable analysis you would need to map the activity names onto those from South Australia. "
   ]
  },
  {
   "cell_type": "code",
   "execution_count": null,
   "metadata": {},
   "outputs": [],
   "source": []
  },
  {
   "cell_type": "code",
   "execution_count": 30,
   "metadata": {},
   "outputs": [
    {
     "data": {
      "text/html": [
       "<div>\n",
       "<style scoped>\n",
       "    .dataframe tbody tr th:only-of-type {\n",
       "        vertical-align: middle;\n",
       "    }\n",
       "\n",
       "    .dataframe tbody tr th {\n",
       "        vertical-align: top;\n",
       "    }\n",
       "\n",
       "    .dataframe thead th {\n",
       "        text-align: right;\n",
       "    }\n",
       "</style>\n",
       "<table border=\"1\" class=\"dataframe\">\n",
       "  <thead>\n",
       "    <tr style=\"text-align: right;\">\n",
       "      <th></th>\n",
       "      <th>Application Number</th>\n",
       "      <th>Voucher Number</th>\n",
       "      <th>Child Age (at time of Application)</th>\n",
       "      <th>Gender</th>\n",
       "      <th>Has your child played sport before?</th>\n",
       "      <th>Participation Activity</th>\n",
       "      <th>Club Name</th>\n",
       "      <th>Club Suburb/Town</th>\n",
       "      <th>Club Local Government Area Name</th>\n",
       "      <th>Club State Electoral District  Name</th>\n",
       "      <th>Parent Suburb/Town</th>\n",
       "      <th>Total Payment</th>\n",
       "    </tr>\n",
       "  </thead>\n",
       "  <tbody>\n",
       "    <tr>\n",
       "      <th>0</th>\n",
       "      <td>2000012253</td>\n",
       "      <td>Q89QDUXP</td>\n",
       "      <td>10</td>\n",
       "      <td>NaN</td>\n",
       "      <td>Yes</td>\n",
       "      <td>*Other</td>\n",
       "      <td>Queensland Police-Citizens Youth Welfare Assoc...</td>\n",
       "      <td>Airlie Beach</td>\n",
       "      <td>Whitsunday (R)</td>\n",
       "      <td>Whitsunday</td>\n",
       "      <td>Jubilee Pocket</td>\n",
       "      <td>60.01</td>\n",
       "    </tr>\n",
       "    <tr>\n",
       "      <th>1</th>\n",
       "      <td>2000001727</td>\n",
       "      <td>593F6Y41</td>\n",
       "      <td>5</td>\n",
       "      <td>NaN</td>\n",
       "      <td>No</td>\n",
       "      <td>*Other</td>\n",
       "      <td>Guides Queensland</td>\n",
       "      <td>Windsor</td>\n",
       "      <td>Brisbane (C)</td>\n",
       "      <td>Brisbane Central</td>\n",
       "      <td>Leichhardt</td>\n",
       "      <td>150.00</td>\n",
       "    </tr>\n",
       "    <tr>\n",
       "      <th>2</th>\n",
       "      <td>2000013464</td>\n",
       "      <td>PH2R4RTT</td>\n",
       "      <td>5</td>\n",
       "      <td>NaN</td>\n",
       "      <td>No</td>\n",
       "      <td>*Other</td>\n",
       "      <td>Guides Queensland</td>\n",
       "      <td>Windsor</td>\n",
       "      <td>Brisbane (C)</td>\n",
       "      <td>Brisbane Central</td>\n",
       "      <td>Woodridge</td>\n",
       "      <td>150.00</td>\n",
       "    </tr>\n",
       "    <tr>\n",
       "      <th>3</th>\n",
       "      <td>2000009270</td>\n",
       "      <td>035SE2H5</td>\n",
       "      <td>5</td>\n",
       "      <td>NaN</td>\n",
       "      <td>Yes</td>\n",
       "      <td>*Other</td>\n",
       "      <td>Guides Queensland</td>\n",
       "      <td>Windsor</td>\n",
       "      <td>Brisbane (C)</td>\n",
       "      <td>Brisbane Central</td>\n",
       "      <td>Yatala</td>\n",
       "      <td>150.00</td>\n",
       "    </tr>\n",
       "    <tr>\n",
       "      <th>4</th>\n",
       "      <td>2000007273</td>\n",
       "      <td>NP6C4729</td>\n",
       "      <td>6</td>\n",
       "      <td>NaN</td>\n",
       "      <td>No</td>\n",
       "      <td>*Other</td>\n",
       "      <td>Guides Queensland</td>\n",
       "      <td>Windsor</td>\n",
       "      <td>Brisbane (C)</td>\n",
       "      <td>Brisbane Central</td>\n",
       "      <td>Alexandra Hills</td>\n",
       "      <td>150.00</td>\n",
       "    </tr>\n",
       "  </tbody>\n",
       "</table>\n",
       "</div>"
      ],
      "text/plain": [
       "   Application Number Voucher Number  Child Age (at time of Application)  \\\n",
       "0          2000012253       Q89QDUXP                                  10   \n",
       "1          2000001727       593F6Y41                                   5   \n",
       "2          2000013464       PH2R4RTT                                   5   \n",
       "3          2000009270       035SE2H5                                   5   \n",
       "4          2000007273       NP6C4729                                   6   \n",
       "\n",
       "   Gender Has your child played sport before? Participation Activity  \\\n",
       "0     NaN                                 Yes                 *Other   \n",
       "1     NaN                                  No                 *Other   \n",
       "2     NaN                                  No                 *Other   \n",
       "3     NaN                                 Yes                 *Other   \n",
       "4     NaN                                  No                 *Other   \n",
       "\n",
       "                                           Club Name Club Suburb/Town  \\\n",
       "0  Queensland Police-Citizens Youth Welfare Assoc...     Airlie Beach   \n",
       "1                                  Guides Queensland          Windsor   \n",
       "2                                  Guides Queensland          Windsor   \n",
       "3                                  Guides Queensland          Windsor   \n",
       "4                                  Guides Queensland          Windsor   \n",
       "\n",
       "  Club Local Government Area Name Club State Electoral District  Name  \\\n",
       "0                  Whitsunday (R)                          Whitsunday   \n",
       "1                    Brisbane (C)                    Brisbane Central   \n",
       "2                    Brisbane (C)                    Brisbane Central   \n",
       "3                    Brisbane (C)                    Brisbane Central   \n",
       "4                    Brisbane (C)                    Brisbane Central   \n",
       "\n",
       "  Parent Suburb/Town  Total Payment  \n",
       "0     Jubilee Pocket          60.01  \n",
       "1         Leichhardt         150.00  \n",
       "2          Woodridge         150.00  \n",
       "3             Yatala         150.00  \n",
       "4    Alexandra Hills         150.00  "
      ]
     },
     "execution_count": 30,
     "metadata": {},
     "output_type": "execute_result"
    }
   ],
   "source": [
    "qld_vouchers = pd.read_csv('files/round1-redeemed_get_started_vouchers.csv')\n",
    "qld_vouchers.head()"
   ]
  },
  {
   "cell_type": "code",
   "execution_count": 31,
   "metadata": {},
   "outputs": [
    {
     "name": "stderr",
     "output_type": "stream",
     "text": [
      "<ipython-input-31-d688531e2bfc>:2: FutureWarning: The default value of regex will change from True to False in a future version.\n",
      "  qld_vouchers['LGA'] = qld_vouchers['Club Local Government Area Name'].str.replace(' \\([RC]+\\)', '').str.upper()\n"
     ]
    },
    {
     "data": {
      "text/html": [
       "<div>\n",
       "<style scoped>\n",
       "    .dataframe tbody tr th:only-of-type {\n",
       "        vertical-align: middle;\n",
       "    }\n",
       "\n",
       "    .dataframe tbody tr th {\n",
       "        vertical-align: top;\n",
       "    }\n",
       "\n",
       "    .dataframe thead th {\n",
       "        text-align: right;\n",
       "    }\n",
       "</style>\n",
       "<table border=\"1\" class=\"dataframe\">\n",
       "  <thead>\n",
       "    <tr style=\"text-align: right;\">\n",
       "      <th></th>\n",
       "      <th>Application Number</th>\n",
       "      <th>Voucher Number</th>\n",
       "      <th>Child Age (at time of Application)</th>\n",
       "      <th>Gender</th>\n",
       "      <th>Has your child played sport before?</th>\n",
       "      <th>Participation Activity</th>\n",
       "      <th>Club Name</th>\n",
       "      <th>Club Suburb/Town</th>\n",
       "      <th>Club Local Government Area Name</th>\n",
       "      <th>Club State Electoral District  Name</th>\n",
       "      <th>Parent Suburb/Town</th>\n",
       "      <th>Total Payment</th>\n",
       "      <th>LGA</th>\n",
       "      <th>IEO</th>\n",
       "      <th>IER</th>\n",
       "      <th>IRSAD</th>\n",
       "      <th>IRSD</th>\n",
       "      <th>Population</th>\n",
       "    </tr>\n",
       "  </thead>\n",
       "  <tbody>\n",
       "    <tr>\n",
       "      <th>0</th>\n",
       "      <td>2000012253</td>\n",
       "      <td>Q89QDUXP</td>\n",
       "      <td>10</td>\n",
       "      <td>NaN</td>\n",
       "      <td>Yes</td>\n",
       "      <td>*Other</td>\n",
       "      <td>Queensland Police-Citizens Youth Welfare Assoc...</td>\n",
       "      <td>Airlie Beach</td>\n",
       "      <td>Whitsunday (R)</td>\n",
       "      <td>Whitsunday</td>\n",
       "      <td>Jubilee Pocket</td>\n",
       "      <td>60.01</td>\n",
       "      <td>WHITSUNDAY</td>\n",
       "      <td>989.0</td>\n",
       "      <td>989.0</td>\n",
       "      <td>966.0</td>\n",
       "      <td>982.0</td>\n",
       "      <td>31393.0</td>\n",
       "    </tr>\n",
       "    <tr>\n",
       "      <th>1</th>\n",
       "      <td>2000001727</td>\n",
       "      <td>593F6Y41</td>\n",
       "      <td>5</td>\n",
       "      <td>NaN</td>\n",
       "      <td>No</td>\n",
       "      <td>*Other</td>\n",
       "      <td>Guides Queensland</td>\n",
       "      <td>Windsor</td>\n",
       "      <td>Brisbane (C)</td>\n",
       "      <td>Brisbane Central</td>\n",
       "      <td>Leichhardt</td>\n",
       "      <td>150.00</td>\n",
       "      <td>BRISBANE</td>\n",
       "      <td>1018.0</td>\n",
       "      <td>1018.0</td>\n",
       "      <td>1057.0</td>\n",
       "      <td>1048.0</td>\n",
       "      <td>1042074.0</td>\n",
       "    </tr>\n",
       "    <tr>\n",
       "      <th>2</th>\n",
       "      <td>2000013464</td>\n",
       "      <td>PH2R4RTT</td>\n",
       "      <td>5</td>\n",
       "      <td>NaN</td>\n",
       "      <td>No</td>\n",
       "      <td>*Other</td>\n",
       "      <td>Guides Queensland</td>\n",
       "      <td>Windsor</td>\n",
       "      <td>Brisbane (C)</td>\n",
       "      <td>Brisbane Central</td>\n",
       "      <td>Woodridge</td>\n",
       "      <td>150.00</td>\n",
       "      <td>BRISBANE</td>\n",
       "      <td>1018.0</td>\n",
       "      <td>1018.0</td>\n",
       "      <td>1057.0</td>\n",
       "      <td>1048.0</td>\n",
       "      <td>1042074.0</td>\n",
       "    </tr>\n",
       "    <tr>\n",
       "      <th>3</th>\n",
       "      <td>2000009270</td>\n",
       "      <td>035SE2H5</td>\n",
       "      <td>5</td>\n",
       "      <td>NaN</td>\n",
       "      <td>Yes</td>\n",
       "      <td>*Other</td>\n",
       "      <td>Guides Queensland</td>\n",
       "      <td>Windsor</td>\n",
       "      <td>Brisbane (C)</td>\n",
       "      <td>Brisbane Central</td>\n",
       "      <td>Yatala</td>\n",
       "      <td>150.00</td>\n",
       "      <td>BRISBANE</td>\n",
       "      <td>1018.0</td>\n",
       "      <td>1018.0</td>\n",
       "      <td>1057.0</td>\n",
       "      <td>1048.0</td>\n",
       "      <td>1042074.0</td>\n",
       "    </tr>\n",
       "    <tr>\n",
       "      <th>4</th>\n",
       "      <td>2000007273</td>\n",
       "      <td>NP6C4729</td>\n",
       "      <td>6</td>\n",
       "      <td>NaN</td>\n",
       "      <td>No</td>\n",
       "      <td>*Other</td>\n",
       "      <td>Guides Queensland</td>\n",
       "      <td>Windsor</td>\n",
       "      <td>Brisbane (C)</td>\n",
       "      <td>Brisbane Central</td>\n",
       "      <td>Alexandra Hills</td>\n",
       "      <td>150.00</td>\n",
       "      <td>BRISBANE</td>\n",
       "      <td>1018.0</td>\n",
       "      <td>1018.0</td>\n",
       "      <td>1057.0</td>\n",
       "      <td>1048.0</td>\n",
       "      <td>1042074.0</td>\n",
       "    </tr>\n",
       "  </tbody>\n",
       "</table>\n",
       "</div>"
      ],
      "text/plain": [
       "   Application Number Voucher Number  Child Age (at time of Application)  \\\n",
       "0          2000012253       Q89QDUXP                                  10   \n",
       "1          2000001727       593F6Y41                                   5   \n",
       "2          2000013464       PH2R4RTT                                   5   \n",
       "3          2000009270       035SE2H5                                   5   \n",
       "4          2000007273       NP6C4729                                   6   \n",
       "\n",
       "   Gender Has your child played sport before? Participation Activity  \\\n",
       "0     NaN                                 Yes                 *Other   \n",
       "1     NaN                                  No                 *Other   \n",
       "2     NaN                                  No                 *Other   \n",
       "3     NaN                                 Yes                 *Other   \n",
       "4     NaN                                  No                 *Other   \n",
       "\n",
       "                                           Club Name Club Suburb/Town  \\\n",
       "0  Queensland Police-Citizens Youth Welfare Assoc...     Airlie Beach   \n",
       "1                                  Guides Queensland          Windsor   \n",
       "2                                  Guides Queensland          Windsor   \n",
       "3                                  Guides Queensland          Windsor   \n",
       "4                                  Guides Queensland          Windsor   \n",
       "\n",
       "  Club Local Government Area Name Club State Electoral District  Name  \\\n",
       "0                  Whitsunday (R)                          Whitsunday   \n",
       "1                    Brisbane (C)                    Brisbane Central   \n",
       "2                    Brisbane (C)                    Brisbane Central   \n",
       "3                    Brisbane (C)                    Brisbane Central   \n",
       "4                    Brisbane (C)                    Brisbane Central   \n",
       "\n",
       "  Parent Suburb/Town  Total Payment         LGA     IEO     IER   IRSAD  \\\n",
       "0     Jubilee Pocket          60.01  WHITSUNDAY   989.0   989.0   966.0   \n",
       "1         Leichhardt         150.00    BRISBANE  1018.0  1018.0  1057.0   \n",
       "2          Woodridge         150.00    BRISBANE  1018.0  1018.0  1057.0   \n",
       "3             Yatala         150.00    BRISBANE  1018.0  1018.0  1057.0   \n",
       "4    Alexandra Hills         150.00    BRISBANE  1018.0  1018.0  1057.0   \n",
       "\n",
       "     IRSD  Population  \n",
       "0   982.0     31393.0  \n",
       "1  1048.0   1042074.0  \n",
       "2  1048.0   1042074.0  \n",
       "3  1048.0   1042074.0  \n",
       "4  1048.0   1042074.0  "
      ]
     },
     "execution_count": 31,
     "metadata": {},
     "output_type": "execute_result"
    }
   ],
   "source": [
    "# Join the QLD data with the LGA data as before to get population and SIEFA data integrated\n",
    "qld_vouchers['LGA'] = qld_vouchers['Club Local Government Area Name'].str.replace(' \\([RC]+\\)', '').str.upper()\n",
    "qld_vouchers_scores = qld_vouchers.join(LGA_scores, on='LGA')\n",
    "qld_vouchers_scores.head()"
   ]
  },
  {
   "cell_type": "markdown",
   "metadata": {},
   "source": [
    "## Data Preparation"
   ]
  },
  {
   "cell_type": "markdown",
   "metadata": {},
   "source": [
    "All the sports in the QLD DATA"
   ]
  },
  {
   "cell_type": "code",
   "execution_count": 32,
   "metadata": {},
   "outputs": [
    {
     "name": "stdout",
     "output_type": "stream",
     "text": [
      "['*Other' 'Archery' 'Athletics' 'Australian Football' 'Baseball'\n",
      " 'Basketball' 'BMX Bicycle Motocross' 'Body Boarding' 'Bowls Lawn'\n",
      " 'Boxing' 'Broomball' 'Bushwalking' 'Calisthenics' 'Canoeing Outrigger'\n",
      " 'Cheerleading' 'Cricket' 'Cycling' 'Dancesport' 'Disability Sports'\n",
      " 'Dragon Boating' 'Equestrian' 'Football (Soccer)' 'Futsal' 'Golf'\n",
      " 'Gymnastics' 'Hockey' 'Ice Hockey' 'Ice Skating' 'Inline Hockey'\n",
      " 'Ju Jitsu' 'Judo' 'Karate' 'Karting' 'Kayaking' 'Life Saving Surf'\n",
      " 'Mixed Martial Arts' 'Motor Cycling' 'Netball' 'Oztag' 'Parkour'\n",
      " 'Polocrosse' 'Pony Club' 'Riding for the Disabled' 'Rock Climbing'\n",
      " 'Roller Sports' 'Rowing' 'Rugby League' 'Rugby Union' 'Sailing'\n",
      " 'Shooting' 'Skipping' 'Softball' 'Squash' 'Surfing' 'Swimming'\n",
      " 'Swimming Synchronised' 'Table Tennis' 'Taekwondo' 'T-Ball' 'Tennis'\n",
      " 'Tenpin Bowling' 'Touch' 'Trail Bike Riding' 'Trampolining'\n",
      " 'Weightlifting' 'Zen Do Kai Martial Arts']\n"
     ]
    }
   ],
   "source": [
    "print(qld_vouchers_scores['Participation Activity'].unique())"
   ]
  },
  {
   "cell_type": "markdown",
   "metadata": {},
   "source": [
    "ALl the sports in the SA Data"
   ]
  },
  {
   "cell_type": "code",
   "execution_count": 33,
   "metadata": {},
   "outputs": [
    {
     "name": "stdout",
     "output_type": "stream",
     "text": [
      "['Australian Rules' 'Gymnastics' 'Basketball' 'Netball' 'Golf'\n",
      " 'Calisthenics' 'Cricket' 'Tennis' 'Surf Lifesaving' 'Fencing'\n",
      " 'Football (Soccer)' 'Taekwondo' 'Table Tennis' 'Athletics' 'Lacrosse'\n",
      " 'Rugby League' 'BMX' 'Hockey' 'Ju Jitsu' 'Baseball' 'Diving' 'Softball'\n",
      " 'Swimming' 'Judo' 'Volleyball' 'Rugby Union' 'Orienteering' 'Ice Skating'\n",
      " 'Cycling' 'Archery' 'Dancesport' 'Equestrian' 'Motorcycling'\n",
      " 'Roller Sports' 'Touch' 'Karate' 'Motor Sport' 'Squash' 'Water Polo'\n",
      " 'Surf Riding' 'Weightlifting' 'Pony Clubs' 'Rowing' 'Wrestling' 'Sailing'\n",
      " 'Badminton' 'Kung Fu (Wu Shu)' 'Paralympics' 'Shooting' 'Bowls']\n"
     ]
    }
   ],
   "source": [
    "print(sa_vouchers_scores['Voucher_Sport'].unique())"
   ]
  },
  {
   "cell_type": "markdown",
   "metadata": {},
   "source": [
    "Dictionary to transform sports to exact same names and seperate dictionary to store all common sports"
   ]
  },
  {
   "cell_type": "code",
   "execution_count": 34,
   "metadata": {},
   "outputs": [],
   "source": [
    "dictTransform = {'Australian Football': 'Australian Rules','Gymnastics':'Gymnastics', 'Basketball':'Basketball', 'Netball':'Netball',\n",
    "          'Golf':'Golf','Calisthenics':'Calisthenics','Cricket':'Cricket', 'Tennis':'Tennis','Life Saving Surf':'Surf Lifesaving','Football (Soccer)':'Football (Soccer)',\n",
    "                'Taekwondo':'Taekwondo','Table Tennis':'Table Tennis','Athletics':'Athletics', 'Rugby League':'Rugby League','BMX Bicycle Motocross':'BMX',\n",
    "                'Hockey':'Hockey','Ju Jitsu':'Ju Jitsu','Baseball':'Baseball','Softball':'Softball','Swimming':'Swimming','Judo':'Judo',\n",
    "                'Rugby Union':'Rugby Union','Ice Skating':'Ice Skating','Cycling':'Cycling','Archery':'Archery','Dancesport':'Dancesport',\n",
    "                'Equestrian':'Equestrian','Motor Cycling':'Motorcycling','Roller Sports':'Roller Sports','Touch':'Touch','Karate':'Karate',\n",
    "                'Squash':'Squash','Surfing':'Surf Riding','Weightlifting':'Weightlifting','Pony Club':'Pony Clubs','Rowing':'Rowing',\n",
    "                'Sailing':'Sailing','Shooting':'Shooting','Bowls Lawn':'Bowls'}\n",
    "\n",
    "dictCommon = {'Australian Rules':'Australian Rules','Gymnastics':'Gymnastics','Basketball':'Basketball','Netball':'Netball',\n",
    "               'Golf':'Golf','Calisthenics':'Calisthenics','Cricket':'Cricket','Tennis':'Tennis','Football (Soccer)':'Football (Soccer)',\n",
    "             'Taekwondo':'Taekwondo','Table Tennis':'Table Tennis','Athletics':'Athletics','Rugby League':'Rugby League','BMX':'BMX','Hockey':'Hockey',\n",
    "             'Ju Jitsu':'Ju Jitsu','Baseball':'Baseball','Softball':'Softball','Swimming':'Swimming','Judo':'Judo','Rugby Union':'Rugby Union',\n",
    "             'Ice Skating':'Ice Skating','Cycling':'Cycling','Archery':'Archery','Dancesport':'Dancesport','Equestrian':'Equestrian','Motorcycling':'Motorcycling',\n",
    "             'Roller Sports':'Roller Sports','Touch':'Touch','Karate':'Karate','Squash':'Squash','Surf Riding':'Surf Riding','Weightlifting':'Weightlifting',\n",
    "             'Pony Clubs':'Pony Clubs','Rowing':'Rowing','Sailing':'Sailing','Shooting':'Shooting','Bowls':'Bowls'}\n",
    "\n"
   ]
  },
  {
   "cell_type": "code",
   "execution_count": 35,
   "metadata": {},
   "outputs": [],
   "source": [
    "qld_vouchers_scores['Participation Activity']=qld_vouchers_scores['Participation Activity'].map(dictTransform)"
   ]
  },
  {
   "cell_type": "code",
   "execution_count": 36,
   "metadata": {},
   "outputs": [],
   "source": [
    "sa_vouchers_scores['Voucher_Sport'] =sa_vouchers_scores['Voucher_Sport'].map(dictCommon)"
   ]
  },
  {
   "cell_type": "code",
   "execution_count": 37,
   "metadata": {},
   "outputs": [],
   "source": [
    "qld_vouchers_scores.dropna(subset = ['Participation Activity'], inplace=True)"
   ]
  },
  {
   "cell_type": "code",
   "execution_count": 38,
   "metadata": {},
   "outputs": [],
   "source": [
    "sa_vouchers_scores.dropna(subset = ['Voucher_Sport'], inplace=True)"
   ]
  },
  {
   "cell_type": "code",
   "execution_count": 39,
   "metadata": {},
   "outputs": [
    {
     "data": {
      "text/plain": [
       "Application Number                        0\n",
       "Voucher Number                            0\n",
       "Child Age (at time of Application)        0\n",
       "Gender                                 9199\n",
       "Has your child played sport before?       3\n",
       "Participation Activity                    0\n",
       "Club Name                                 0\n",
       "Club Suburb/Town                          0\n",
       "Club Local Government Area Name           0\n",
       "Club State Electoral District  Name       0\n",
       "Parent Suburb/Town                        0\n",
       "Total Payment                             0\n",
       "LGA                                       0\n",
       "IEO                                     515\n",
       "IER                                     515\n",
       "IRSAD                                   515\n",
       "IRSD                                    515\n",
       "Population                              515\n",
       "dtype: int64"
      ]
     },
     "execution_count": 39,
     "metadata": {},
     "output_type": "execute_result"
    }
   ],
   "source": [
    "qld_vouchers_scores.isna().sum()"
   ]
  },
  {
   "cell_type": "code",
   "execution_count": 40,
   "metadata": {},
   "outputs": [
    {
     "data": {
      "text/html": [
       "<div>\n",
       "<style scoped>\n",
       "    .dataframe tbody tr th:only-of-type {\n",
       "        vertical-align: middle;\n",
       "    }\n",
       "\n",
       "    .dataframe tbody tr th {\n",
       "        vertical-align: top;\n",
       "    }\n",
       "\n",
       "    .dataframe thead th {\n",
       "        text-align: right;\n",
       "    }\n",
       "</style>\n",
       "<table border=\"1\" class=\"dataframe\">\n",
       "  <thead>\n",
       "    <tr style=\"text-align: right;\">\n",
       "      <th></th>\n",
       "      <th>Application Number</th>\n",
       "      <th>Voucher Number</th>\n",
       "      <th>Child Age (at time of Application)</th>\n",
       "      <th>Gender</th>\n",
       "      <th>Has your child played sport before?</th>\n",
       "      <th>Participation Activity</th>\n",
       "      <th>Club Name</th>\n",
       "      <th>Club Suburb/Town</th>\n",
       "      <th>Club Local Government Area Name</th>\n",
       "      <th>Club State Electoral District  Name</th>\n",
       "      <th>Parent Suburb/Town</th>\n",
       "      <th>Total Payment</th>\n",
       "      <th>LGA</th>\n",
       "      <th>IEO</th>\n",
       "      <th>IER</th>\n",
       "      <th>IRSAD</th>\n",
       "      <th>IRSD</th>\n",
       "      <th>Population</th>\n",
       "    </tr>\n",
       "  </thead>\n",
       "  <tbody>\n",
       "    <tr>\n",
       "      <th>13</th>\n",
       "      <td>2000010829</td>\n",
       "      <td>X784DOAP</td>\n",
       "      <td>12</td>\n",
       "      <td>NaN</td>\n",
       "      <td>Yes</td>\n",
       "      <td>Archery</td>\n",
       "      <td>Hinchinbrook Bowmen Inc</td>\n",
       "      <td>Ingham</td>\n",
       "      <td>Hinchinbrook (S)</td>\n",
       "      <td>Hinchinbrook</td>\n",
       "      <td>Ingham</td>\n",
       "      <td>40.0</td>\n",
       "      <td>HINCHINBROOK (S)</td>\n",
       "      <td>NaN</td>\n",
       "      <td>NaN</td>\n",
       "      <td>NaN</td>\n",
       "      <td>NaN</td>\n",
       "      <td>NaN</td>\n",
       "    </tr>\n",
       "    <tr>\n",
       "      <th>14</th>\n",
       "      <td>2000011952</td>\n",
       "      <td>LZIRY6XS</td>\n",
       "      <td>7</td>\n",
       "      <td>NaN</td>\n",
       "      <td>No</td>\n",
       "      <td>Archery</td>\n",
       "      <td>Gympie Field Archers Association Inc</td>\n",
       "      <td>Imbil</td>\n",
       "      <td>Gympie (R)</td>\n",
       "      <td>Gympie</td>\n",
       "      <td>The Palms</td>\n",
       "      <td>130.0</td>\n",
       "      <td>GYMPIE</td>\n",
       "      <td>962.0</td>\n",
       "      <td>962.0</td>\n",
       "      <td>916.0</td>\n",
       "      <td>929.0</td>\n",
       "      <td>45749.0</td>\n",
       "    </tr>\n",
       "    <tr>\n",
       "      <th>15</th>\n",
       "      <td>2000006332</td>\n",
       "      <td>DH5FNQKS</td>\n",
       "      <td>9</td>\n",
       "      <td>NaN</td>\n",
       "      <td>No</td>\n",
       "      <td>Archery</td>\n",
       "      <td>Gympie Field Archers Association Inc</td>\n",
       "      <td>Imbil</td>\n",
       "      <td>Gympie (R)</td>\n",
       "      <td>Gympie</td>\n",
       "      <td>Curra</td>\n",
       "      <td>130.0</td>\n",
       "      <td>GYMPIE</td>\n",
       "      <td>962.0</td>\n",
       "      <td>962.0</td>\n",
       "      <td>916.0</td>\n",
       "      <td>929.0</td>\n",
       "      <td>45749.0</td>\n",
       "    </tr>\n",
       "    <tr>\n",
       "      <th>16</th>\n",
       "      <td>2000006325</td>\n",
       "      <td>NPKP5E1X</td>\n",
       "      <td>10</td>\n",
       "      <td>NaN</td>\n",
       "      <td>No</td>\n",
       "      <td>Archery</td>\n",
       "      <td>Gympie Field Archers Association Inc</td>\n",
       "      <td>Imbil</td>\n",
       "      <td>Gympie (R)</td>\n",
       "      <td>Gympie</td>\n",
       "      <td>Curra</td>\n",
       "      <td>130.0</td>\n",
       "      <td>GYMPIE</td>\n",
       "      <td>962.0</td>\n",
       "      <td>962.0</td>\n",
       "      <td>916.0</td>\n",
       "      <td>929.0</td>\n",
       "      <td>45749.0</td>\n",
       "    </tr>\n",
       "    <tr>\n",
       "      <th>17</th>\n",
       "      <td>2000001140</td>\n",
       "      <td>X332JQI2</td>\n",
       "      <td>14</td>\n",
       "      <td>NaN</td>\n",
       "      <td>Yes</td>\n",
       "      <td>Archery</td>\n",
       "      <td>Gympie Field Archers Association Inc</td>\n",
       "      <td>Imbil</td>\n",
       "      <td>Gympie (R)</td>\n",
       "      <td>Gympie</td>\n",
       "      <td>Cooran</td>\n",
       "      <td>130.0</td>\n",
       "      <td>GYMPIE</td>\n",
       "      <td>962.0</td>\n",
       "      <td>962.0</td>\n",
       "      <td>916.0</td>\n",
       "      <td>929.0</td>\n",
       "      <td>45749.0</td>\n",
       "    </tr>\n",
       "    <tr>\n",
       "      <th>...</th>\n",
       "      <td>...</td>\n",
       "      <td>...</td>\n",
       "      <td>...</td>\n",
       "      <td>...</td>\n",
       "      <td>...</td>\n",
       "      <td>...</td>\n",
       "      <td>...</td>\n",
       "      <td>...</td>\n",
       "      <td>...</td>\n",
       "      <td>...</td>\n",
       "      <td>...</td>\n",
       "      <td>...</td>\n",
       "      <td>...</td>\n",
       "      <td>...</td>\n",
       "      <td>...</td>\n",
       "      <td>...</td>\n",
       "      <td>...</td>\n",
       "      <td>...</td>\n",
       "    </tr>\n",
       "    <tr>\n",
       "      <th>9478</th>\n",
       "      <td>2000004788</td>\n",
       "      <td>EUNCOPY9</td>\n",
       "      <td>16</td>\n",
       "      <td>NaN</td>\n",
       "      <td>Yes</td>\n",
       "      <td>Touch</td>\n",
       "      <td>Cairns Pirates Touch Football Assoc Inc</td>\n",
       "      <td>Cairns</td>\n",
       "      <td>Cairns (R)</td>\n",
       "      <td>Barron River</td>\n",
       "      <td>Mooroobool</td>\n",
       "      <td>150.0</td>\n",
       "      <td>CAIRNS</td>\n",
       "      <td>967.0</td>\n",
       "      <td>967.0</td>\n",
       "      <td>975.0</td>\n",
       "      <td>981.0</td>\n",
       "      <td>156176.0</td>\n",
       "    </tr>\n",
       "    <tr>\n",
       "      <th>9479</th>\n",
       "      <td>2000007229</td>\n",
       "      <td>J6DD08PC</td>\n",
       "      <td>16</td>\n",
       "      <td>NaN</td>\n",
       "      <td>Yes</td>\n",
       "      <td>Touch</td>\n",
       "      <td>Dodgers Touch Club Inc</td>\n",
       "      <td>Labrador</td>\n",
       "      <td>Gold Coast (C)</td>\n",
       "      <td>Broadwater</td>\n",
       "      <td>Mt Nathan</td>\n",
       "      <td>150.0</td>\n",
       "      <td>GOLD COAST</td>\n",
       "      <td>1008.0</td>\n",
       "      <td>1008.0</td>\n",
       "      <td>1016.0</td>\n",
       "      <td>1014.0</td>\n",
       "      <td>494591.0</td>\n",
       "    </tr>\n",
       "    <tr>\n",
       "      <th>9480</th>\n",
       "      <td>2000007235</td>\n",
       "      <td>FAWI8HGJ</td>\n",
       "      <td>16</td>\n",
       "      <td>NaN</td>\n",
       "      <td>Yes</td>\n",
       "      <td>Touch</td>\n",
       "      <td>Dodgers Touch Club Inc</td>\n",
       "      <td>Labrador</td>\n",
       "      <td>Gold Coast (C)</td>\n",
       "      <td>Broadwater</td>\n",
       "      <td>Mt Nathan</td>\n",
       "      <td>150.0</td>\n",
       "      <td>GOLD COAST</td>\n",
       "      <td>1008.0</td>\n",
       "      <td>1008.0</td>\n",
       "      <td>1016.0</td>\n",
       "      <td>1014.0</td>\n",
       "      <td>494591.0</td>\n",
       "    </tr>\n",
       "    <tr>\n",
       "      <th>9481</th>\n",
       "      <td>2000008009</td>\n",
       "      <td>X756DKFP</td>\n",
       "      <td>16</td>\n",
       "      <td>NaN</td>\n",
       "      <td>Yes</td>\n",
       "      <td>Touch</td>\n",
       "      <td>Dodgers Touch Club Inc</td>\n",
       "      <td>Labrador</td>\n",
       "      <td>Gold Coast (C)</td>\n",
       "      <td>Broadwater</td>\n",
       "      <td>Helensvale</td>\n",
       "      <td>150.0</td>\n",
       "      <td>GOLD COAST</td>\n",
       "      <td>1008.0</td>\n",
       "      <td>1008.0</td>\n",
       "      <td>1016.0</td>\n",
       "      <td>1014.0</td>\n",
       "      <td>494591.0</td>\n",
       "    </tr>\n",
       "    <tr>\n",
       "      <th>9501</th>\n",
       "      <td>2000010851</td>\n",
       "      <td>K0Y5FP4N</td>\n",
       "      <td>14</td>\n",
       "      <td>NaN</td>\n",
       "      <td>No</td>\n",
       "      <td>Weightlifting</td>\n",
       "      <td>Queensland Police-Citizens Youth Welfare Assoc...</td>\n",
       "      <td>Nambour</td>\n",
       "      <td>Sunshine Coast (R)</td>\n",
       "      <td>Nicklin</td>\n",
       "      <td>Nambour</td>\n",
       "      <td>150.0</td>\n",
       "      <td>SUNSHINE COAST</td>\n",
       "      <td>1007.0</td>\n",
       "      <td>1007.0</td>\n",
       "      <td>1001.0</td>\n",
       "      <td>1007.0</td>\n",
       "      <td>306889.0</td>\n",
       "    </tr>\n",
       "  </tbody>\n",
       "</table>\n",
       "<p>9199 rows × 18 columns</p>\n",
       "</div>"
      ],
      "text/plain": [
       "      Application Number Voucher Number  Child Age (at time of Application)  \\\n",
       "13            2000010829       X784DOAP                                  12   \n",
       "14            2000011952       LZIRY6XS                                   7   \n",
       "15            2000006332       DH5FNQKS                                   9   \n",
       "16            2000006325       NPKP5E1X                                  10   \n",
       "17            2000001140       X332JQI2                                  14   \n",
       "...                  ...            ...                                 ...   \n",
       "9478          2000004788       EUNCOPY9                                  16   \n",
       "9479          2000007229       J6DD08PC                                  16   \n",
       "9480          2000007235       FAWI8HGJ                                  16   \n",
       "9481          2000008009       X756DKFP                                  16   \n",
       "9501          2000010851       K0Y5FP4N                                  14   \n",
       "\n",
       "      Gender Has your child played sport before? Participation Activity  \\\n",
       "13       NaN                                 Yes                Archery   \n",
       "14       NaN                                  No                Archery   \n",
       "15       NaN                                  No                Archery   \n",
       "16       NaN                                  No                Archery   \n",
       "17       NaN                                 Yes                Archery   \n",
       "...      ...                                 ...                    ...   \n",
       "9478     NaN                                 Yes                  Touch   \n",
       "9479     NaN                                 Yes                  Touch   \n",
       "9480     NaN                                 Yes                  Touch   \n",
       "9481     NaN                                 Yes                  Touch   \n",
       "9501     NaN                                  No          Weightlifting   \n",
       "\n",
       "                                              Club Name Club Suburb/Town  \\\n",
       "13                              Hinchinbrook Bowmen Inc           Ingham   \n",
       "14                 Gympie Field Archers Association Inc            Imbil   \n",
       "15                 Gympie Field Archers Association Inc            Imbil   \n",
       "16                 Gympie Field Archers Association Inc            Imbil   \n",
       "17                 Gympie Field Archers Association Inc            Imbil   \n",
       "...                                                 ...              ...   \n",
       "9478            Cairns Pirates Touch Football Assoc Inc           Cairns   \n",
       "9479                             Dodgers Touch Club Inc         Labrador   \n",
       "9480                             Dodgers Touch Club Inc         Labrador   \n",
       "9481                             Dodgers Touch Club Inc         Labrador   \n",
       "9501  Queensland Police-Citizens Youth Welfare Assoc...          Nambour   \n",
       "\n",
       "     Club Local Government Area Name Club State Electoral District  Name  \\\n",
       "13                  Hinchinbrook (S)                        Hinchinbrook   \n",
       "14                        Gympie (R)                              Gympie   \n",
       "15                        Gympie (R)                              Gympie   \n",
       "16                        Gympie (R)                              Gympie   \n",
       "17                        Gympie (R)                              Gympie   \n",
       "...                              ...                                 ...   \n",
       "9478                      Cairns (R)                        Barron River   \n",
       "9479                  Gold Coast (C)                          Broadwater   \n",
       "9480                  Gold Coast (C)                          Broadwater   \n",
       "9481                  Gold Coast (C)                          Broadwater   \n",
       "9501              Sunshine Coast (R)                             Nicklin   \n",
       "\n",
       "     Parent Suburb/Town  Total Payment               LGA     IEO     IER  \\\n",
       "13               Ingham           40.0  HINCHINBROOK (S)     NaN     NaN   \n",
       "14            The Palms          130.0            GYMPIE   962.0   962.0   \n",
       "15                Curra          130.0            GYMPIE   962.0   962.0   \n",
       "16                Curra          130.0            GYMPIE   962.0   962.0   \n",
       "17               Cooran          130.0            GYMPIE   962.0   962.0   \n",
       "...                 ...            ...               ...     ...     ...   \n",
       "9478         Mooroobool          150.0            CAIRNS   967.0   967.0   \n",
       "9479          Mt Nathan          150.0        GOLD COAST  1008.0  1008.0   \n",
       "9480          Mt Nathan          150.0        GOLD COAST  1008.0  1008.0   \n",
       "9481         Helensvale          150.0        GOLD COAST  1008.0  1008.0   \n",
       "9501            Nambour          150.0    SUNSHINE COAST  1007.0  1007.0   \n",
       "\n",
       "       IRSAD    IRSD  Population  \n",
       "13       NaN     NaN         NaN  \n",
       "14     916.0   929.0     45749.0  \n",
       "15     916.0   929.0     45749.0  \n",
       "16     916.0   929.0     45749.0  \n",
       "17     916.0   929.0     45749.0  \n",
       "...      ...     ...         ...  \n",
       "9478   975.0   981.0    156176.0  \n",
       "9479  1016.0  1014.0    494591.0  \n",
       "9480  1016.0  1014.0    494591.0  \n",
       "9481  1016.0  1014.0    494591.0  \n",
       "9501  1001.0  1007.0    306889.0  \n",
       "\n",
       "[9199 rows x 18 columns]"
      ]
     },
     "execution_count": 40,
     "metadata": {},
     "output_type": "execute_result"
    }
   ],
   "source": [
    "qld_vouchers_scores"
   ]
  },
  {
   "cell_type": "markdown",
   "metadata": {},
   "source": [
    "# Comparable Analysis"
   ]
  },
  {
   "cell_type": "markdown",
   "metadata": {},
   "source": [
    "## Sports Distribution"
   ]
  },
  {
   "cell_type": "code",
   "execution_count": 41,
   "metadata": {},
   "outputs": [
    {
     "name": "stdout",
     "output_type": "stream",
     "text": [
      "Australian Rules     47224\n",
      "Netball              24017\n",
      "Football (Soccer)    15775\n",
      "Gymnastics            9823\n",
      "Basketball            6016\n",
      "Name: Voucher_Sport, dtype: int64 \n",
      "\n"
     ]
    }
   ],
   "source": [
    "print((sa_vouchers_scores[\"Voucher_Sport\"].value_counts()).nlargest(5),\"\\n\")"
   ]
  },
  {
   "cell_type": "code",
   "execution_count": 42,
   "metadata": {},
   "outputs": [
    {
     "name": "stdout",
     "output_type": "stream",
     "text": [
      "Rugby League         2782\n",
      "Football (Soccer)    2074\n",
      "Netball              1263\n",
      "Australian Rules      548\n",
      "Gymnastics            539\n",
      "Name: Participation Activity, dtype: int64 \n",
      "\n"
     ]
    }
   ],
   "source": [
    "print((qld_vouchers_scores['Participation Activity'].value_counts()).nlargest(5),\"\\n\")"
   ]
  },
  {
   "cell_type": "markdown",
   "metadata": {},
   "source": [
    "Australian Rules, Gymnastics, Football and Netball continue to be the top 5 sports for both Areas as the most popular however it seems as though out of the available sports SA prefers Australian Rules significantly more than QLD who prefers Rugby LEague. It is also important to note that the proportion that Australian Rules is popular by is greate than rugby league in QLD."
   ]
  },
  {
   "cell_type": "code",
   "execution_count": 43,
   "metadata": {},
   "outputs": [],
   "source": [
    "samap=sa_vouchers_scores['Voucher_Sport'].value_counts()\n",
    "qldmap = qld_vouchers_scores['Participation Activity'].value_counts()"
   ]
  },
  {
   "cell_type": "code",
   "execution_count": 44,
   "metadata": {},
   "outputs": [
    {
     "data": {
      "text/plain": [
       "<AxesSubplot:>"
      ]
     },
     "execution_count": 44,
     "metadata": {},
     "output_type": "execute_result"
    },
    {
     "data": {
      "image/png": "[encoded data removed]",
      "text/plain": [
       "<Figure size 864x432 with 1 Axes>"
      ]
     },
     "metadata": {
      "needs_background": "light"
     },
     "output_type": "display_data"
    }
   ],
   "source": [
    "samap.plot(kind='bar',figsize =(12,6))"
   ]
  },
  {
   "cell_type": "code",
   "execution_count": 45,
   "metadata": {},
   "outputs": [
    {
     "data": {
      "text/plain": [
       "<AxesSubplot:>"
      ]
     },
     "execution_count": 45,
     "metadata": {},
     "output_type": "execute_result"
    },
    {
     "data": {
      "image/png": "[encoded data removed]",
      "text/plain": [
       "<Figure size 864x432 with 1 Axes>"
      ]
     },
     "metadata": {
      "needs_background": "light"
     },
     "output_type": "display_data"
    }
   ],
   "source": [
    "qldmap.plot(kind='bar',figsize =(12,6))"
   ]
  },
  {
   "cell_type": "markdown",
   "metadata": {},
   "source": [
    "The distribution of vouicher use on sports is relatively similiar with the majority of voucher use in the top 3 sports. However proportionally Qld is more evened out in the top 3."
   ]
  },
  {
   "cell_type": "markdown",
   "metadata": {},
   "source": [
    "## SEIFA Relations"
   ]
  },
  {
   "cell_type": "code",
   "execution_count": 46,
   "metadata": {},
   "outputs": [
    {
     "data": {
      "text/plain": [
       "Application Number                        0\n",
       "Voucher Number                            0\n",
       "Child Age (at time of Application)        0\n",
       "Gender                                 9199\n",
       "Has your child played sport before?       3\n",
       "Participation Activity                    0\n",
       "Club Name                                 0\n",
       "Club Suburb/Town                          0\n",
       "Club Local Government Area Name           0\n",
       "Club State Electoral District  Name       0\n",
       "Parent Suburb/Town                        0\n",
       "Total Payment                             0\n",
       "LGA                                       0\n",
       "IEO                                     515\n",
       "IER                                     515\n",
       "IRSAD                                   515\n",
       "IRSD                                    515\n",
       "Population                              515\n",
       "dtype: int64"
      ]
     },
     "execution_count": 46,
     "metadata": {},
     "output_type": "execute_result"
    }
   ],
   "source": [
    "qld_vouchers_scores.isna().sum()\n"
   ]
  },
  {
   "cell_type": "code",
   "execution_count": 47,
   "metadata": {},
   "outputs": [],
   "source": [
    "clean_qld_vouchers = qld_vouchers_scores\n",
    "clean_qld_vouchers.dropna(subset = ['Population'], inplace=True)"
   ]
  },
  {
   "cell_type": "code",
   "execution_count": 48,
   "metadata": {},
   "outputs": [
    {
     "data": {
      "text/plain": [
       "(8684, 18)"
      ]
     },
     "execution_count": 48,
     "metadata": {},
     "output_type": "execute_result"
    }
   ],
   "source": [
    "clean_qld_vouchers.shape"
   ]
  },
  {
   "cell_type": "code",
   "execution_count": 49,
   "metadata": {},
   "outputs": [],
   "source": [
    "qldtrail =clean_qld_vouchers.groupby([\"LGA\"])"
   ]
  },
  {
   "cell_type": "code",
   "execution_count": 50,
   "metadata": {},
   "outputs": [],
   "source": [
    "newqld= qldtrail['LGA'].count()"
   ]
  },
  {
   "cell_type": "code",
   "execution_count": 51,
   "metadata": {},
   "outputs": [],
   "source": [
    "finalqld = pd.DataFrame({'Voucher Count':newqld.values, 'Population':qldtrail['Population'].mean() })\n",
    "finalqld['Population'] = qldtrail['Population'].mean()"
   ]
  },
  {
   "cell_type": "code",
   "execution_count": 52,
   "metadata": {},
   "outputs": [],
   "source": [
    "finalqld['Voucher_per_pop'] = finalqld['Voucher Count']/finalqld['Population']"
   ]
  },
  {
   "cell_type": "code",
   "execution_count": 53,
   "metadata": {},
   "outputs": [],
   "source": [
    "qldchino = finalqld['Voucher_per_pop'].mean()"
   ]
  },
  {
   "cell_type": "code",
   "execution_count": 54,
   "metadata": {},
   "outputs": [],
   "source": [
    "overrepQLD = (finalqld[finalqld['Voucher_per_pop'] > (qldchino)])\n",
    "underrepQLD= (finalqld[finalqld['Voucher_per_pop'] < (qldchino)])"
   ]
  },
  {
   "cell_type": "code",
   "execution_count": 55,
   "metadata": {},
   "outputs": [
    {
     "name": "stdout",
     "output_type": "stream",
     "text": [
      "                Voucher Count  Population  Voucher_per_pop\n",
      "LGA                                                       \n",
      "GYMPIE                    190     45749.0         0.004153\n",
      "SOUTH BURNETT             107     31006.0         0.003451\n",
      "GOLD COAST               1686    494591.0         0.003409\n",
      "FRASER COAST              307     95348.0         0.003220\n",
      "SUNSHINE COAST            965    306889.0         0.003144\n",
      "           Voucher Count  Population  Voucher_per_pop\n",
      "LGA                                                  \n",
      "ISAAC                  1     22568.0         0.000044\n",
      "MOUNT ISA              3     21237.0         0.000141\n",
      "MARANOA                2     13078.0         0.000153\n",
      "GLADSTONE             28     57874.0         0.000484\n",
      "MACKAY                61    112812.0         0.000541\n",
      "                   Voucher Count  Population  Voucher_per_pop  mean_delta\n",
      "LGA                                                                      \n",
      "BLACKALL TAMBO                 3      2209.0         0.001358   -0.000322\n",
      "BRISBANE                    1252   1042074.0         0.001201   -0.000478\n",
      "BUNDABERG                    116     89786.0         0.001292   -0.000388\n",
      "CAIRNS                       265    156176.0         0.001697    0.000017\n",
      "CASSOWARY COAST               42     27676.0         0.001518   -0.000162\n",
      "CENTRAL HIGHLANDS             24     15495.5         0.001549   -0.000131\n",
      "CHARTERS TOWERS               15     12157.0         0.001234   -0.000446\n",
      "FRASER COAST                 307     95348.0         0.003220    0.001540\n",
      "GLADSTONE                     28     57874.0         0.000484   -0.001196\n",
      "GOLD COAST                  1686    494591.0         0.003409    0.001729\n",
      "GYMPIE                       190     45749.0         0.004153    0.002473\n",
      "IPSWICH                      478    166866.0         0.002865    0.001185\n",
      "ISAAC                          1     22568.0         0.000044   -0.001636\n",
      "LOCKYER VALLEY                36     34949.0         0.001030   -0.000650\n",
      "LOGAN                        768    278080.0         0.002762    0.001082\n",
      "MACKAY                        61    112812.0         0.000541   -0.001139\n",
      "MARANOA                        2     13078.0         0.000153   -0.001527\n",
      "MORETON BAY                  932    377992.0         0.002466    0.000786\n",
      "MOUNT ISA                      3     21237.0         0.000141   -0.001539\n",
      "NORTH BURNETT                  6     10128.0         0.000592   -0.001087\n",
      "REDLAND                      378    138641.0         0.002726    0.001047\n",
      "ROCKHAMPTON                   69    109369.0         0.000631   -0.001049\n",
      "SCENIC RIM                    55     36427.0         0.001510   -0.000170\n",
      "SOMERSET                      20     21654.0         0.000924   -0.000756\n",
      "SOUTH BURNETT                107     31006.0         0.003451    0.001771\n",
      "SOUTHERN DOWNS                72     33850.0         0.002127    0.000447\n",
      "SUNSHINE COAST               965    306889.0         0.003144    0.001465\n",
      "TABLELANDS                    55     43762.0         0.001257   -0.000423\n",
      "TOOWOOMBA                    255    151215.0         0.001686    0.000006\n",
      "TOWNSVILLE                   425    174464.0         0.002436    0.000756\n",
      "WESTERN DOWNS                 51     31610.0         0.001613   -0.000066\n",
      "WHITSUNDAY                    17     31393.0         0.000542   -0.001138\n"
     ]
    },
    {
     "name": "stderr",
     "output_type": "stream",
     "text": [
      "<ipython-input-55-93f9770b6319>:1: SettingWithCopyWarning: \n",
      "A value is trying to be set on a copy of a slice from a DataFrame\n",
      "\n",
      "See the caveats in the documentation: https://pandas.pydata.org/pandas-docs/stable/user_guide/indexing.html#returning-a-view-versus-a-copy\n",
      "  overrepQLD.sort_values(by=['Voucher_per_pop'], inplace=True, ascending=False)\n",
      "<ipython-input-55-93f9770b6319>:4: SettingWithCopyWarning: \n",
      "A value is trying to be set on a copy of a slice from a DataFrame\n",
      "\n",
      "See the caveats in the documentation: https://pandas.pydata.org/pandas-docs/stable/user_guide/indexing.html#returning-a-view-versus-a-copy\n",
      "  underrepQLD.sort_values(by=['Voucher_per_pop'], inplace=True, ascending=True)\n"
     ]
    }
   ],
   "source": [
    "overrepQLD.sort_values(by=['Voucher_per_pop'], inplace=True, ascending=False)\n",
    "print(overrepQLD.head())\n",
    "\n",
    "underrepQLD.sort_values(by=['Voucher_per_pop'], inplace=True, ascending=True)\n",
    "print(underrepQLD.head())\n",
    "\n",
    "finalqld['mean_delta'] = (finalqld['Voucher_per_pop'] - qldchino)\n",
    "print(finalqld)"
   ]
  },
  {
   "cell_type": "code",
   "execution_count": 56,
   "metadata": {},
   "outputs": [
    {
     "data": {
      "text/plain": [
       "<AxesSubplot:xlabel='LGA'>"
      ]
     },
     "execution_count": 56,
     "metadata": {},
     "output_type": "execute_result"
    },
    {
     "data": {
      "image/png": "[encoded data removed]",
      "text/plain": [
       "<Figure size 1440x1080 with 1 Axes>"
      ]
     },
     "metadata": {
      "needs_background": "light"
     },
     "output_type": "display_data"
    }
   ],
   "source": [
    "finalqld.plot(kind = 'bar', y='mean_delta',figsize=(20,15) )"
   ]
  },
  {
   "cell_type": "markdown",
   "metadata": {},
   "source": [
    "# SEIFA\n"
   ]
  },
  {
   "cell_type": "code",
   "execution_count": 57,
   "metadata": {},
   "outputs": [],
   "source": [
    "testQLDLGA = pd.merge(finalqld, LGA_scores, left_index=True, right_index=True)\n",
    "testQLDLGA=testQLDLGA.drop(['Voucher Count'],axis =1)\n",
    "testQLDLGA=testQLDLGA.drop(['Population_x'],axis =1)\n",
    "testQLDLGA=testQLDLGA.drop(['Population_y'],axis =1)"
   ]
  },
  {
   "cell_type": "code",
   "execution_count": 58,
   "metadata": {},
   "outputs": [
    {
     "data": {
      "text/plain": [
       "<AxesSubplot:xlabel='Voucher_per_pop', ylabel='IRSD'>"
      ]
     },
     "execution_count": 58,
     "metadata": {},
     "output_type": "execute_result"
    },
    {
     "data": {
      "image/png": "[encoded data removed]",
      "text/plain": [
       "<Figure size 720x720 with 1 Axes>"
      ]
     },
     "metadata": {
      "needs_background": "light"
     },
     "output_type": "display_data"
    }
   ],
   "source": [
    "testQLDLGA.sort_values(by=['Voucher_per_pop'], inplace=True, ascending=False)\n",
    "testQLDLGA.plot(kind = 'scatter',x='Voucher_per_pop',   y='IRSD',figsize=(10,10) )"
   ]
  },
  {
   "cell_type": "code",
   "execution_count": 59,
   "metadata": {},
   "outputs": [
    {
     "name": "stdout",
     "output_type": "stream",
     "text": [
      "-0.2170043179192273\n",
      "-0.2170043179192273\n",
      "-0.16348881120900133\n",
      "-0.23328150733172137\n"
     ]
    }
   ],
   "source": [
    "corrIERQLD = testQLDLGA['Voucher_per_pop'].corr(testQLDLGA['IER'])\n",
    "corrIEOQLD = testQLDLGA['Voucher_per_pop'].corr(testQLDLGA['IEO'])\n",
    "corrIRSADQLD=testQLDLGA['Voucher_per_pop'].corr(testQLDLGA['IRSAD'])\n",
    "corrIRSDQLD=testQLDLGA['Voucher_per_pop'].corr(testQLDLGA['IRSD'])\n",
    "print(corrIERQLD)\n",
    "print(corrIEOQLD)\n",
    "print(corrIRSADQLD)\n",
    "print(corrIRSDQLD)"
   ]
  },
  {
   "cell_type": "code",
   "execution_count": null,
   "metadata": {},
   "outputs": [],
   "source": []
  }
 ],
 "metadata": {
  "kernelspec": {
   "display_name": "Python 3",
   "language": "python",
   "name": "python3"
  },
  "language_info": {
   "codemirror_mode": {
    "name": "ipython",
    "version": 3
   },
   "file_extension": ".py",
   "mimetype": "text/x-python",
   "name": "python",
   "nbconvert_exporter": "python",
   "pygments_lexer": "ipython3",
   "version": "3.8.8"
  }
 },
 "nbformat": 4,
 "nbformat_minor": 4
}
